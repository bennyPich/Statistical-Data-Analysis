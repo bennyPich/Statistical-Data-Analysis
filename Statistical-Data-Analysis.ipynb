{
 "cells": [
  {
   "cell_type": "markdown",
   "metadata": {},
   "source": [
    "# Research on Megaline "
   ]
  },
  {
   "cell_type": "markdown",
   "metadata": {},
   "source": [
    "The company offers its clients two prepaid plans, Surf and Ultimate. The commercial department wants to know which of the plans brings in more revenue in order to adjust the advertising budget.  \n",
    "The goal is to analyze clients' behavior and determine which prepaid plan brings in more revenue."
   ]
  },
  {
   "cell_type": "markdown",
   "metadata": {},
   "source": [
    "## Step 1. Open the data file and study the general information\n"
   ]
  },
  {
   "cell_type": "code",
   "execution_count": 1,
   "metadata": {},
   "outputs": [],
   "source": [
    "#import \n",
    "import pandas as pd\n",
    "from functools import reduce\n",
    "import math\n",
    "import numpy as np\n",
    "from termcolor import colored\n",
    "from scipy import stats as st\n",
    "import numpy as np\n",
    "import matplotlib.pyplot as plt"
   ]
  },
  {
   "cell_type": "code",
   "execution_count": 2,
   "metadata": {},
   "outputs": [
    {
     "name": "stdout",
     "output_type": "stream",
     "text": [
      "<class 'pandas.core.frame.DataFrame'>\n",
      "RangeIndex: 137735 entries, 0 to 137734\n",
      "Data columns (total 4 columns):\n",
      "id           137735 non-null object\n",
      "user_id      137735 non-null int64\n",
      "call_date    137735 non-null object\n",
      "duration     137735 non-null float64\n",
      "dtypes: float64(1), int64(1), object(2)\n",
      "memory usage: 4.2+ MB\n"
     ]
    }
   ],
   "source": [
    "#Read csv file megaline_calls\n",
    "megaline_calls = pd.read_csv('https://code.s3.yandex.net/datasets/megaline_calls.csv')\n",
    "#Show information about megaline calls\n",
    "megaline_calls.info()"
   ]
  },
  {
   "cell_type": "code",
   "execution_count": 3,
   "metadata": {},
   "outputs": [
    {
     "data": {
      "text/html": [
       "<div>\n",
       "<style scoped>\n",
       "    .dataframe tbody tr th:only-of-type {\n",
       "        vertical-align: middle;\n",
       "    }\n",
       "\n",
       "    .dataframe tbody tr th {\n",
       "        vertical-align: top;\n",
       "    }\n",
       "\n",
       "    .dataframe thead th {\n",
       "        text-align: right;\n",
       "    }\n",
       "</style>\n",
       "<table border=\"1\" class=\"dataframe\">\n",
       "  <thead>\n",
       "    <tr style=\"text-align: right;\">\n",
       "      <th></th>\n",
       "      <th>id</th>\n",
       "      <th>user_id</th>\n",
       "      <th>call_date</th>\n",
       "      <th>duration</th>\n",
       "    </tr>\n",
       "  </thead>\n",
       "  <tbody>\n",
       "    <tr>\n",
       "      <td>0</td>\n",
       "      <td>1000_93</td>\n",
       "      <td>1000</td>\n",
       "      <td>2018-12-27</td>\n",
       "      <td>8.52</td>\n",
       "    </tr>\n",
       "    <tr>\n",
       "      <td>1</td>\n",
       "      <td>1000_145</td>\n",
       "      <td>1000</td>\n",
       "      <td>2018-12-27</td>\n",
       "      <td>13.66</td>\n",
       "    </tr>\n",
       "    <tr>\n",
       "      <td>2</td>\n",
       "      <td>1000_247</td>\n",
       "      <td>1000</td>\n",
       "      <td>2018-12-27</td>\n",
       "      <td>14.48</td>\n",
       "    </tr>\n",
       "    <tr>\n",
       "      <td>3</td>\n",
       "      <td>1000_309</td>\n",
       "      <td>1000</td>\n",
       "      <td>2018-12-28</td>\n",
       "      <td>5.76</td>\n",
       "    </tr>\n",
       "    <tr>\n",
       "      <td>4</td>\n",
       "      <td>1000_380</td>\n",
       "      <td>1000</td>\n",
       "      <td>2018-12-30</td>\n",
       "      <td>4.22</td>\n",
       "    </tr>\n",
       "  </tbody>\n",
       "</table>\n",
       "</div>"
      ],
      "text/plain": [
       "         id  user_id   call_date  duration\n",
       "0   1000_93     1000  2018-12-27      8.52\n",
       "1  1000_145     1000  2018-12-27     13.66\n",
       "2  1000_247     1000  2018-12-27     14.48\n",
       "3  1000_309     1000  2018-12-28      5.76\n",
       "4  1000_380     1000  2018-12-30      4.22"
      ]
     },
     "execution_count": 3,
     "metadata": {},
     "output_type": "execute_result"
    }
   ],
   "source": [
    "#Explorer the data\n",
    "megaline_calls.head()"
   ]
  },
  {
   "cell_type": "code",
   "execution_count": 4,
   "metadata": {},
   "outputs": [
    {
     "name": "stdout",
     "output_type": "stream",
     "text": [
      "<class 'pandas.core.frame.DataFrame'>\n",
      "RangeIndex: 104825 entries, 0 to 104824\n",
      "Data columns (total 4 columns):\n",
      "id              104825 non-null object\n",
      "user_id         104825 non-null int64\n",
      "session_date    104825 non-null object\n",
      "mb_used         104825 non-null float64\n",
      "dtypes: float64(1), int64(1), object(2)\n",
      "memory usage: 3.2+ MB\n"
     ]
    }
   ],
   "source": [
    "#Read csv file megaline_internet\n",
    "megaline_internet = pd.read_csv('https://code.s3.yandex.net/datasets/megaline_internet.csv')\n",
    "#Show information about megaline internet\n",
    "megaline_internet.info()"
   ]
  },
  {
   "cell_type": "code",
   "execution_count": 5,
   "metadata": {},
   "outputs": [
    {
     "data": {
      "text/html": [
       "<div>\n",
       "<style scoped>\n",
       "    .dataframe tbody tr th:only-of-type {\n",
       "        vertical-align: middle;\n",
       "    }\n",
       "\n",
       "    .dataframe tbody tr th {\n",
       "        vertical-align: top;\n",
       "    }\n",
       "\n",
       "    .dataframe thead th {\n",
       "        text-align: right;\n",
       "    }\n",
       "</style>\n",
       "<table border=\"1\" class=\"dataframe\">\n",
       "  <thead>\n",
       "    <tr style=\"text-align: right;\">\n",
       "      <th></th>\n",
       "      <th>id</th>\n",
       "      <th>user_id</th>\n",
       "      <th>session_date</th>\n",
       "      <th>mb_used</th>\n",
       "    </tr>\n",
       "  </thead>\n",
       "  <tbody>\n",
       "    <tr>\n",
       "      <td>0</td>\n",
       "      <td>1000_13</td>\n",
       "      <td>1000</td>\n",
       "      <td>2018-12-29</td>\n",
       "      <td>89.86</td>\n",
       "    </tr>\n",
       "    <tr>\n",
       "      <td>1</td>\n",
       "      <td>1000_204</td>\n",
       "      <td>1000</td>\n",
       "      <td>2018-12-31</td>\n",
       "      <td>0.00</td>\n",
       "    </tr>\n",
       "    <tr>\n",
       "      <td>2</td>\n",
       "      <td>1000_379</td>\n",
       "      <td>1000</td>\n",
       "      <td>2018-12-28</td>\n",
       "      <td>660.40</td>\n",
       "    </tr>\n",
       "    <tr>\n",
       "      <td>3</td>\n",
       "      <td>1000_413</td>\n",
       "      <td>1000</td>\n",
       "      <td>2018-12-26</td>\n",
       "      <td>270.99</td>\n",
       "    </tr>\n",
       "    <tr>\n",
       "      <td>4</td>\n",
       "      <td>1000_442</td>\n",
       "      <td>1000</td>\n",
       "      <td>2018-12-27</td>\n",
       "      <td>880.22</td>\n",
       "    </tr>\n",
       "  </tbody>\n",
       "</table>\n",
       "</div>"
      ],
      "text/plain": [
       "         id  user_id session_date  mb_used\n",
       "0   1000_13     1000   2018-12-29    89.86\n",
       "1  1000_204     1000   2018-12-31     0.00\n",
       "2  1000_379     1000   2018-12-28   660.40\n",
       "3  1000_413     1000   2018-12-26   270.99\n",
       "4  1000_442     1000   2018-12-27   880.22"
      ]
     },
     "execution_count": 5,
     "metadata": {},
     "output_type": "execute_result"
    }
   ],
   "source": [
    "#Explorer the data\n",
    "megaline_internet.head()"
   ]
  },
  {
   "cell_type": "code",
   "execution_count": 6,
   "metadata": {},
   "outputs": [
    {
     "name": "stdout",
     "output_type": "stream",
     "text": [
      "<class 'pandas.core.frame.DataFrame'>\n",
      "RangeIndex: 76051 entries, 0 to 76050\n",
      "Data columns (total 3 columns):\n",
      "id              76051 non-null object\n",
      "user_id         76051 non-null int64\n",
      "message_date    76051 non-null object\n",
      "dtypes: int64(1), object(2)\n",
      "memory usage: 1.7+ MB\n"
     ]
    }
   ],
   "source": [
    "#Read csv file megaline_messages\n",
    "megaline_messages = pd.read_csv('https://code.s3.yandex.net/datasets/megaline_messages.csv')\n",
    "#Show information about megaline messages\n",
    "megaline_messages.info()"
   ]
  },
  {
   "cell_type": "code",
   "execution_count": 7,
   "metadata": {},
   "outputs": [
    {
     "data": {
      "text/html": [
       "<div>\n",
       "<style scoped>\n",
       "    .dataframe tbody tr th:only-of-type {\n",
       "        vertical-align: middle;\n",
       "    }\n",
       "\n",
       "    .dataframe tbody tr th {\n",
       "        vertical-align: top;\n",
       "    }\n",
       "\n",
       "    .dataframe thead th {\n",
       "        text-align: right;\n",
       "    }\n",
       "</style>\n",
       "<table border=\"1\" class=\"dataframe\">\n",
       "  <thead>\n",
       "    <tr style=\"text-align: right;\">\n",
       "      <th></th>\n",
       "      <th>id</th>\n",
       "      <th>user_id</th>\n",
       "      <th>message_date</th>\n",
       "    </tr>\n",
       "  </thead>\n",
       "  <tbody>\n",
       "    <tr>\n",
       "      <td>0</td>\n",
       "      <td>1000_125</td>\n",
       "      <td>1000</td>\n",
       "      <td>2018-12-27</td>\n",
       "    </tr>\n",
       "    <tr>\n",
       "      <td>1</td>\n",
       "      <td>1000_160</td>\n",
       "      <td>1000</td>\n",
       "      <td>2018-12-31</td>\n",
       "    </tr>\n",
       "    <tr>\n",
       "      <td>2</td>\n",
       "      <td>1000_223</td>\n",
       "      <td>1000</td>\n",
       "      <td>2018-12-31</td>\n",
       "    </tr>\n",
       "    <tr>\n",
       "      <td>3</td>\n",
       "      <td>1000_251</td>\n",
       "      <td>1000</td>\n",
       "      <td>2018-12-27</td>\n",
       "    </tr>\n",
       "    <tr>\n",
       "      <td>4</td>\n",
       "      <td>1000_255</td>\n",
       "      <td>1000</td>\n",
       "      <td>2018-12-26</td>\n",
       "    </tr>\n",
       "  </tbody>\n",
       "</table>\n",
       "</div>"
      ],
      "text/plain": [
       "         id  user_id message_date\n",
       "0  1000_125     1000   2018-12-27\n",
       "1  1000_160     1000   2018-12-31\n",
       "2  1000_223     1000   2018-12-31\n",
       "3  1000_251     1000   2018-12-27\n",
       "4  1000_255     1000   2018-12-26"
      ]
     },
     "execution_count": 7,
     "metadata": {},
     "output_type": "execute_result"
    }
   ],
   "source": [
    "#Explorer the data\n",
    "megaline_messages.head()"
   ]
  },
  {
   "cell_type": "code",
   "execution_count": 8,
   "metadata": {},
   "outputs": [
    {
     "name": "stdout",
     "output_type": "stream",
     "text": [
      "<class 'pandas.core.frame.DataFrame'>\n",
      "RangeIndex: 2 entries, 0 to 1\n",
      "Data columns (total 8 columns):\n",
      "messages_included        2 non-null int64\n",
      "mb_per_month_included    2 non-null int64\n",
      "minutes_included         2 non-null int64\n",
      "usd_monthly_pay          2 non-null int64\n",
      "usd_per_gb               2 non-null int64\n",
      "usd_per_message          2 non-null float64\n",
      "usd_per_minute           2 non-null float64\n",
      "plan_name                2 non-null object\n",
      "dtypes: float64(2), int64(5), object(1)\n",
      "memory usage: 256.0+ bytes\n"
     ]
    }
   ],
   "source": [
    "#Read csv file megaline_plans\n",
    "megaline_plans = pd.read_csv('https://code.s3.yandex.net/datasets/megaline_plans.csv')\n",
    "#Show information about megaline plans\n",
    "megaline_plans.info()"
   ]
  },
  {
   "cell_type": "code",
   "execution_count": 9,
   "metadata": {},
   "outputs": [
    {
     "data": {
      "text/html": [
       "<div>\n",
       "<style scoped>\n",
       "    .dataframe tbody tr th:only-of-type {\n",
       "        vertical-align: middle;\n",
       "    }\n",
       "\n",
       "    .dataframe tbody tr th {\n",
       "        vertical-align: top;\n",
       "    }\n",
       "\n",
       "    .dataframe thead th {\n",
       "        text-align: right;\n",
       "    }\n",
       "</style>\n",
       "<table border=\"1\" class=\"dataframe\">\n",
       "  <thead>\n",
       "    <tr style=\"text-align: right;\">\n",
       "      <th></th>\n",
       "      <th>messages_included</th>\n",
       "      <th>mb_per_month_included</th>\n",
       "      <th>minutes_included</th>\n",
       "      <th>usd_monthly_pay</th>\n",
       "      <th>usd_per_gb</th>\n",
       "      <th>usd_per_message</th>\n",
       "      <th>usd_per_minute</th>\n",
       "      <th>plan_name</th>\n",
       "    </tr>\n",
       "  </thead>\n",
       "  <tbody>\n",
       "    <tr>\n",
       "      <td>0</td>\n",
       "      <td>50</td>\n",
       "      <td>15360</td>\n",
       "      <td>500</td>\n",
       "      <td>20</td>\n",
       "      <td>10</td>\n",
       "      <td>0.03</td>\n",
       "      <td>0.03</td>\n",
       "      <td>surf</td>\n",
       "    </tr>\n",
       "    <tr>\n",
       "      <td>1</td>\n",
       "      <td>1000</td>\n",
       "      <td>30720</td>\n",
       "      <td>3000</td>\n",
       "      <td>70</td>\n",
       "      <td>7</td>\n",
       "      <td>0.01</td>\n",
       "      <td>0.01</td>\n",
       "      <td>ultimate</td>\n",
       "    </tr>\n",
       "  </tbody>\n",
       "</table>\n",
       "</div>"
      ],
      "text/plain": [
       "   messages_included  mb_per_month_included  minutes_included  \\\n",
       "0                 50                  15360               500   \n",
       "1               1000                  30720              3000   \n",
       "\n",
       "   usd_monthly_pay  usd_per_gb  usd_per_message  usd_per_minute plan_name  \n",
       "0               20          10             0.03            0.03      surf  \n",
       "1               70           7             0.01            0.01  ultimate  "
      ]
     },
     "execution_count": 9,
     "metadata": {},
     "output_type": "execute_result"
    }
   ],
   "source": [
    "#Explorer the data\n",
    "megaline_plans.head()"
   ]
  },
  {
   "cell_type": "code",
   "execution_count": 10,
   "metadata": {},
   "outputs": [
    {
     "name": "stdout",
     "output_type": "stream",
     "text": [
      "<class 'pandas.core.frame.DataFrame'>\n",
      "RangeIndex: 500 entries, 0 to 499\n",
      "Data columns (total 8 columns):\n",
      "user_id       500 non-null int64\n",
      "first_name    500 non-null object\n",
      "last_name     500 non-null object\n",
      "age           500 non-null int64\n",
      "city          500 non-null object\n",
      "reg_date      500 non-null object\n",
      "plan          500 non-null object\n",
      "churn_date    34 non-null object\n",
      "dtypes: int64(2), object(6)\n",
      "memory usage: 31.4+ KB\n"
     ]
    }
   ],
   "source": [
    "#Read csv file megaline_users\n",
    "megaline_users = pd.read_csv('https://code.s3.yandex.net/datasets/megaline_users.csv')\n",
    "#Show information about megaline users\n",
    "megaline_users.info()"
   ]
  },
  {
   "cell_type": "code",
   "execution_count": 11,
   "metadata": {},
   "outputs": [
    {
     "data": {
      "text/html": [
       "<div>\n",
       "<style scoped>\n",
       "    .dataframe tbody tr th:only-of-type {\n",
       "        vertical-align: middle;\n",
       "    }\n",
       "\n",
       "    .dataframe tbody tr th {\n",
       "        vertical-align: top;\n",
       "    }\n",
       "\n",
       "    .dataframe thead th {\n",
       "        text-align: right;\n",
       "    }\n",
       "</style>\n",
       "<table border=\"1\" class=\"dataframe\">\n",
       "  <thead>\n",
       "    <tr style=\"text-align: right;\">\n",
       "      <th></th>\n",
       "      <th>user_id</th>\n",
       "      <th>first_name</th>\n",
       "      <th>last_name</th>\n",
       "      <th>age</th>\n",
       "      <th>city</th>\n",
       "      <th>reg_date</th>\n",
       "      <th>plan</th>\n",
       "      <th>churn_date</th>\n",
       "    </tr>\n",
       "  </thead>\n",
       "  <tbody>\n",
       "    <tr>\n",
       "      <td>0</td>\n",
       "      <td>1000</td>\n",
       "      <td>Anamaria</td>\n",
       "      <td>Bauer</td>\n",
       "      <td>45</td>\n",
       "      <td>Atlanta-Sandy Springs-Roswell, GA MSA</td>\n",
       "      <td>2018-12-24</td>\n",
       "      <td>ultimate</td>\n",
       "      <td>NaN</td>\n",
       "    </tr>\n",
       "    <tr>\n",
       "      <td>1</td>\n",
       "      <td>1001</td>\n",
       "      <td>Mickey</td>\n",
       "      <td>Wilkerson</td>\n",
       "      <td>28</td>\n",
       "      <td>Seattle-Tacoma-Bellevue, WA MSA</td>\n",
       "      <td>2018-08-13</td>\n",
       "      <td>surf</td>\n",
       "      <td>NaN</td>\n",
       "    </tr>\n",
       "    <tr>\n",
       "      <td>2</td>\n",
       "      <td>1002</td>\n",
       "      <td>Carlee</td>\n",
       "      <td>Hoffman</td>\n",
       "      <td>36</td>\n",
       "      <td>Las Vegas-Henderson-Paradise, NV MSA</td>\n",
       "      <td>2018-10-21</td>\n",
       "      <td>surf</td>\n",
       "      <td>NaN</td>\n",
       "    </tr>\n",
       "    <tr>\n",
       "      <td>3</td>\n",
       "      <td>1003</td>\n",
       "      <td>Reynaldo</td>\n",
       "      <td>Jenkins</td>\n",
       "      <td>52</td>\n",
       "      <td>Tulsa, OK MSA</td>\n",
       "      <td>2018-01-28</td>\n",
       "      <td>surf</td>\n",
       "      <td>NaN</td>\n",
       "    </tr>\n",
       "    <tr>\n",
       "      <td>4</td>\n",
       "      <td>1004</td>\n",
       "      <td>Leonila</td>\n",
       "      <td>Thompson</td>\n",
       "      <td>40</td>\n",
       "      <td>Seattle-Tacoma-Bellevue, WA MSA</td>\n",
       "      <td>2018-05-23</td>\n",
       "      <td>surf</td>\n",
       "      <td>NaN</td>\n",
       "    </tr>\n",
       "  </tbody>\n",
       "</table>\n",
       "</div>"
      ],
      "text/plain": [
       "   user_id first_name  last_name  age                                   city  \\\n",
       "0     1000   Anamaria      Bauer   45  Atlanta-Sandy Springs-Roswell, GA MSA   \n",
       "1     1001     Mickey  Wilkerson   28        Seattle-Tacoma-Bellevue, WA MSA   \n",
       "2     1002     Carlee    Hoffman   36   Las Vegas-Henderson-Paradise, NV MSA   \n",
       "3     1003   Reynaldo    Jenkins   52                          Tulsa, OK MSA   \n",
       "4     1004    Leonila   Thompson   40        Seattle-Tacoma-Bellevue, WA MSA   \n",
       "\n",
       "     reg_date      plan churn_date  \n",
       "0  2018-12-24  ultimate        NaN  \n",
       "1  2018-08-13      surf        NaN  \n",
       "2  2018-10-21      surf        NaN  \n",
       "3  2018-01-28      surf        NaN  \n",
       "4  2018-05-23      surf        NaN  "
      ]
     },
     "execution_count": 11,
     "metadata": {},
     "output_type": "execute_result"
    }
   ],
   "source": [
    "#Explorer the data\n",
    "megaline_users.head()"
   ]
  },
  {
   "cell_type": "markdown",
   "metadata": {},
   "source": [
    "###   Conclusion"
   ]
  },
  {
   "cell_type": "markdown",
   "metadata": {},
   "source": [
    "1. file megaline_calls column  'call_date' data type is object and should be datetime.\n",
    "2. file megaline_internet column 'session_date' data type is object and should be datetime\n",
    "3. file megaline_messages column 'message_date' data type is object and should be datetime\n",
    "4. file megaline_users column 'reg_date' data type is object and should be datetime\n",
    "5. file megaline_users column 'churn_date' data type is object and should be datetime\n",
    "6. file megaline_users column 'churn_date' has 464 missing values.\n",
    "   'churn_date' - the date the user stopped using the service (if the value is missing, the calling plan was being used when      this data was retrieved) - we are not going to use this column in our analysis , so NaN is \"valid\" value\n",
    "7. file megaline_calls  column 'duration' should be rounded up for each row\n",
    "8. file megaline_internet  column 'mb_used' should be rounded up for each row"
   ]
  },
  {
   "cell_type": "markdown",
   "metadata": {},
   "source": [
    "## Data preprocessing"
   ]
  },
  {
   "cell_type": "markdown",
   "metadata": {},
   "source": [
    "###  Data type replacement"
   ]
  },
  {
   "cell_type": "code",
   "execution_count": 12,
   "metadata": {},
   "outputs": [],
   "source": [
    "#Replace 'call_date' data type to datetime\n",
    "megaline_calls['call_date'] = pd.to_datetime(megaline_calls['call_date'], format='%Y-%m-%dT%H:%M:%S')"
   ]
  },
  {
   "cell_type": "code",
   "execution_count": 13,
   "metadata": {},
   "outputs": [],
   "source": [
    "#Replace 'session_date' data type to datetime\n",
    "megaline_internet['session_date'] = pd.to_datetime(megaline_internet['session_date'], format='%Y-%m-%dT%H:%M:%S')"
   ]
  },
  {
   "cell_type": "code",
   "execution_count": 14,
   "metadata": {},
   "outputs": [],
   "source": [
    "#Replace 'message_date' data type to datetime\n",
    "megaline_messages['message_date'] = pd.to_datetime(megaline_messages['message_date'], format='%Y-%m-%dT%H:%M:%S')"
   ]
  },
  {
   "cell_type": "code",
   "execution_count": 15,
   "metadata": {},
   "outputs": [],
   "source": [
    "#Replace 'reg_date' data type to datetime\n",
    "megaline_users['reg_date'] = pd.to_datetime(megaline_users['reg_date'], format='%Y-%m-%dT%H:%M:%S')"
   ]
  },
  {
   "cell_type": "code",
   "execution_count": 16,
   "metadata": {},
   "outputs": [],
   "source": [
    "#Replace 'churn_date' data type to datetime\n",
    "megaline_users['churn_date'] = pd.to_datetime(megaline_users['churn_date'], format='%Y-%m-%dT%H:%M:%S')"
   ]
  },
  {
   "cell_type": "code",
   "execution_count": 17,
   "metadata": {},
   "outputs": [
    {
     "name": "stdout",
     "output_type": "stream",
     "text": [
      "<class 'pandas.core.frame.DataFrame'>\n",
      "RangeIndex: 137735 entries, 0 to 137734\n",
      "Data columns (total 4 columns):\n",
      "id           137735 non-null object\n",
      "user_id      137735 non-null int64\n",
      "call_date    137735 non-null datetime64[ns]\n",
      "duration     137735 non-null float64\n",
      "dtypes: datetime64[ns](1), float64(1), int64(1), object(1)\n",
      "memory usage: 4.2+ MB\n"
     ]
    }
   ],
   "source": [
    "#Check the changes \n",
    "megaline_calls.info()"
   ]
  },
  {
   "cell_type": "code",
   "execution_count": 18,
   "metadata": {},
   "outputs": [
    {
     "name": "stdout",
     "output_type": "stream",
     "text": [
      "<class 'pandas.core.frame.DataFrame'>\n",
      "RangeIndex: 104825 entries, 0 to 104824\n",
      "Data columns (total 4 columns):\n",
      "id              104825 non-null object\n",
      "user_id         104825 non-null int64\n",
      "session_date    104825 non-null datetime64[ns]\n",
      "mb_used         104825 non-null float64\n",
      "dtypes: datetime64[ns](1), float64(1), int64(1), object(1)\n",
      "memory usage: 3.2+ MB\n"
     ]
    }
   ],
   "source": [
    "#Check the changes \n",
    "megaline_internet.info()"
   ]
  },
  {
   "cell_type": "code",
   "execution_count": 19,
   "metadata": {},
   "outputs": [
    {
     "name": "stdout",
     "output_type": "stream",
     "text": [
      "<class 'pandas.core.frame.DataFrame'>\n",
      "RangeIndex: 76051 entries, 0 to 76050\n",
      "Data columns (total 3 columns):\n",
      "id              76051 non-null object\n",
      "user_id         76051 non-null int64\n",
      "message_date    76051 non-null datetime64[ns]\n",
      "dtypes: datetime64[ns](1), int64(1), object(1)\n",
      "memory usage: 1.7+ MB\n"
     ]
    }
   ],
   "source": [
    "#Check the changes \n",
    "megaline_messages.info()"
   ]
  },
  {
   "cell_type": "code",
   "execution_count": 20,
   "metadata": {},
   "outputs": [
    {
     "name": "stdout",
     "output_type": "stream",
     "text": [
      "<class 'pandas.core.frame.DataFrame'>\n",
      "RangeIndex: 500 entries, 0 to 499\n",
      "Data columns (total 8 columns):\n",
      "user_id       500 non-null int64\n",
      "first_name    500 non-null object\n",
      "last_name     500 non-null object\n",
      "age           500 non-null int64\n",
      "city          500 non-null object\n",
      "reg_date      500 non-null datetime64[ns]\n",
      "plan          500 non-null object\n",
      "churn_date    34 non-null datetime64[ns]\n",
      "dtypes: datetime64[ns](2), int64(2), object(4)\n",
      "memory usage: 31.4+ KB\n"
     ]
    }
   ],
   "source": [
    "#Check the changes \n",
    "megaline_users.info()"
   ]
  },
  {
   "cell_type": "markdown",
   "metadata": {},
   "source": [
    "### process calls with a duration of 0.0 minutes"
   ]
  },
  {
   "cell_type": "code",
   "execution_count": 21,
   "metadata": {},
   "outputs": [
    {
     "data": {
      "text/plain": [
       "0.1948233927469416"
      ]
     },
     "execution_count": 21,
     "metadata": {},
     "output_type": "execute_result"
    }
   ],
   "source": [
    "num_calls = megaline_calls[megaline_calls['duration']==0 ]['duration'].count()\n",
    "ratio_missing_calls = num_calls / megaline_calls.shape[0]\n",
    "ratio_missing_calls"
   ]
  },
  {
   "cell_type": "markdown",
   "metadata": {},
   "source": [
    "### Conclusion"
   ]
  },
  {
   "cell_type": "markdown",
   "metadata": {},
   "source": [
    "There are 19.5% of call with duration of 0.0.   \n",
    " This can be happen for call's that were less than 1 second. for exapmles:\n",
    " - call by mistake and hang up immediately\n",
    " - call the worg number and hang up immediately\n",
    " - quick calls like:'lets talk later', 'can't talk' .   \n",
    "In order not to lose this significant data we are not going to delete them"
   ]
  },
  {
   "cell_type": "code",
   "execution_count": 22,
   "metadata": {},
   "outputs": [],
   "source": [
    "#Add column 'month' containing the month only\n",
    "megaline_calls['month'] = megaline_calls['call_date'].dt.month"
   ]
  },
  {
   "cell_type": "code",
   "execution_count": 23,
   "metadata": {},
   "outputs": [],
   "source": [
    "#Round up 'duration' column\n",
    "megaline_calls['duration_rounded'] = megaline_calls['duration'].apply(lambda x:math.ceil(x))"
   ]
  },
  {
   "cell_type": "code",
   "execution_count": 24,
   "metadata": {},
   "outputs": [
    {
     "data": {
      "text/html": [
       "<div>\n",
       "<style scoped>\n",
       "    .dataframe tbody tr th:only-of-type {\n",
       "        vertical-align: middle;\n",
       "    }\n",
       "\n",
       "    .dataframe tbody tr th {\n",
       "        vertical-align: top;\n",
       "    }\n",
       "\n",
       "    .dataframe thead th {\n",
       "        text-align: right;\n",
       "    }\n",
       "</style>\n",
       "<table border=\"1\" class=\"dataframe\">\n",
       "  <thead>\n",
       "    <tr style=\"text-align: right;\">\n",
       "      <th></th>\n",
       "      <th>id</th>\n",
       "      <th>user_id</th>\n",
       "      <th>call_date</th>\n",
       "      <th>duration</th>\n",
       "      <th>month</th>\n",
       "      <th>duration_rounded</th>\n",
       "    </tr>\n",
       "  </thead>\n",
       "  <tbody>\n",
       "    <tr>\n",
       "      <td>0</td>\n",
       "      <td>1000_93</td>\n",
       "      <td>1000</td>\n",
       "      <td>2018-12-27</td>\n",
       "      <td>8.52</td>\n",
       "      <td>12</td>\n",
       "      <td>9</td>\n",
       "    </tr>\n",
       "    <tr>\n",
       "      <td>1</td>\n",
       "      <td>1000_145</td>\n",
       "      <td>1000</td>\n",
       "      <td>2018-12-27</td>\n",
       "      <td>13.66</td>\n",
       "      <td>12</td>\n",
       "      <td>14</td>\n",
       "    </tr>\n",
       "    <tr>\n",
       "      <td>2</td>\n",
       "      <td>1000_247</td>\n",
       "      <td>1000</td>\n",
       "      <td>2018-12-27</td>\n",
       "      <td>14.48</td>\n",
       "      <td>12</td>\n",
       "      <td>15</td>\n",
       "    </tr>\n",
       "    <tr>\n",
       "      <td>3</td>\n",
       "      <td>1000_309</td>\n",
       "      <td>1000</td>\n",
       "      <td>2018-12-28</td>\n",
       "      <td>5.76</td>\n",
       "      <td>12</td>\n",
       "      <td>6</td>\n",
       "    </tr>\n",
       "    <tr>\n",
       "      <td>4</td>\n",
       "      <td>1000_380</td>\n",
       "      <td>1000</td>\n",
       "      <td>2018-12-30</td>\n",
       "      <td>4.22</td>\n",
       "      <td>12</td>\n",
       "      <td>5</td>\n",
       "    </tr>\n",
       "    <tr>\n",
       "      <td>...</td>\n",
       "      <td>...</td>\n",
       "      <td>...</td>\n",
       "      <td>...</td>\n",
       "      <td>...</td>\n",
       "      <td>...</td>\n",
       "      <td>...</td>\n",
       "    </tr>\n",
       "    <tr>\n",
       "      <td>137730</td>\n",
       "      <td>1499_199</td>\n",
       "      <td>1499</td>\n",
       "      <td>2018-11-21</td>\n",
       "      <td>8.72</td>\n",
       "      <td>11</td>\n",
       "      <td>9</td>\n",
       "    </tr>\n",
       "    <tr>\n",
       "      <td>137731</td>\n",
       "      <td>1499_200</td>\n",
       "      <td>1499</td>\n",
       "      <td>2018-10-20</td>\n",
       "      <td>10.89</td>\n",
       "      <td>10</td>\n",
       "      <td>11</td>\n",
       "    </tr>\n",
       "    <tr>\n",
       "      <td>137732</td>\n",
       "      <td>1499_201</td>\n",
       "      <td>1499</td>\n",
       "      <td>2018-09-21</td>\n",
       "      <td>8.12</td>\n",
       "      <td>9</td>\n",
       "      <td>9</td>\n",
       "    </tr>\n",
       "    <tr>\n",
       "      <td>137733</td>\n",
       "      <td>1499_202</td>\n",
       "      <td>1499</td>\n",
       "      <td>2018-10-10</td>\n",
       "      <td>0.37</td>\n",
       "      <td>10</td>\n",
       "      <td>1</td>\n",
       "    </tr>\n",
       "    <tr>\n",
       "      <td>137734</td>\n",
       "      <td>1499_203</td>\n",
       "      <td>1499</td>\n",
       "      <td>2018-12-29</td>\n",
       "      <td>13.86</td>\n",
       "      <td>12</td>\n",
       "      <td>14</td>\n",
       "    </tr>\n",
       "  </tbody>\n",
       "</table>\n",
       "<p>137735 rows × 6 columns</p>\n",
       "</div>"
      ],
      "text/plain": [
       "              id  user_id  call_date  duration  month  duration_rounded\n",
       "0        1000_93     1000 2018-12-27      8.52     12                 9\n",
       "1       1000_145     1000 2018-12-27     13.66     12                14\n",
       "2       1000_247     1000 2018-12-27     14.48     12                15\n",
       "3       1000_309     1000 2018-12-28      5.76     12                 6\n",
       "4       1000_380     1000 2018-12-30      4.22     12                 5\n",
       "...          ...      ...        ...       ...    ...               ...\n",
       "137730  1499_199     1499 2018-11-21      8.72     11                 9\n",
       "137731  1499_200     1499 2018-10-20     10.89     10                11\n",
       "137732  1499_201     1499 2018-09-21      8.12      9                 9\n",
       "137733  1499_202     1499 2018-10-10      0.37     10                 1\n",
       "137734  1499_203     1499 2018-12-29     13.86     12                14\n",
       "\n",
       "[137735 rows x 6 columns]"
      ]
     },
     "execution_count": 24,
     "metadata": {},
     "output_type": "execute_result"
    }
   ],
   "source": [
    "#Explorer data\n",
    "megaline_calls"
   ]
  },
  {
   "cell_type": "code",
   "execution_count": 25,
   "metadata": {},
   "outputs": [],
   "source": [
    "#Add column 'month' containing the month only\n",
    "megaline_messages['month'] = megaline_messages['message_date'].dt.month"
   ]
  },
  {
   "cell_type": "code",
   "execution_count": 26,
   "metadata": {},
   "outputs": [],
   "source": [
    "#Add column 'month' containing the month only\n",
    "megaline_internet['month'] = megaline_internet['session_date'].dt.month"
   ]
  },
  {
   "cell_type": "code",
   "execution_count": 27,
   "metadata": {},
   "outputs": [],
   "source": [
    "#Round up the total use per month for each user.\n",
    "#examples: 55 ->1000, 1010 ->2000\n",
    "megaline_internet['rounded_mb_used'] = megaline_internet['mb_used'].apply(lambda x: int(math.ceil( x/ 1024.0)) * 1000)\n"
   ]
  },
  {
   "cell_type": "code",
   "execution_count": 28,
   "metadata": {},
   "outputs": [
    {
     "data": {
      "text/html": [
       "<div>\n",
       "<style scoped>\n",
       "    .dataframe tbody tr th:only-of-type {\n",
       "        vertical-align: middle;\n",
       "    }\n",
       "\n",
       "    .dataframe tbody tr th {\n",
       "        vertical-align: top;\n",
       "    }\n",
       "\n",
       "    .dataframe thead th {\n",
       "        text-align: right;\n",
       "    }\n",
       "</style>\n",
       "<table border=\"1\" class=\"dataframe\">\n",
       "  <thead>\n",
       "    <tr style=\"text-align: right;\">\n",
       "      <th></th>\n",
       "      <th>id</th>\n",
       "      <th>user_id</th>\n",
       "      <th>session_date</th>\n",
       "      <th>mb_used</th>\n",
       "      <th>month</th>\n",
       "      <th>rounded_mb_used</th>\n",
       "    </tr>\n",
       "  </thead>\n",
       "  <tbody>\n",
       "    <tr>\n",
       "      <td>0</td>\n",
       "      <td>1000_13</td>\n",
       "      <td>1000</td>\n",
       "      <td>2018-12-29</td>\n",
       "      <td>89.86</td>\n",
       "      <td>12</td>\n",
       "      <td>1000</td>\n",
       "    </tr>\n",
       "    <tr>\n",
       "      <td>1</td>\n",
       "      <td>1000_204</td>\n",
       "      <td>1000</td>\n",
       "      <td>2018-12-31</td>\n",
       "      <td>0.00</td>\n",
       "      <td>12</td>\n",
       "      <td>0</td>\n",
       "    </tr>\n",
       "    <tr>\n",
       "      <td>2</td>\n",
       "      <td>1000_379</td>\n",
       "      <td>1000</td>\n",
       "      <td>2018-12-28</td>\n",
       "      <td>660.40</td>\n",
       "      <td>12</td>\n",
       "      <td>1000</td>\n",
       "    </tr>\n",
       "    <tr>\n",
       "      <td>3</td>\n",
       "      <td>1000_413</td>\n",
       "      <td>1000</td>\n",
       "      <td>2018-12-26</td>\n",
       "      <td>270.99</td>\n",
       "      <td>12</td>\n",
       "      <td>1000</td>\n",
       "    </tr>\n",
       "    <tr>\n",
       "      <td>4</td>\n",
       "      <td>1000_442</td>\n",
       "      <td>1000</td>\n",
       "      <td>2018-12-27</td>\n",
       "      <td>880.22</td>\n",
       "      <td>12</td>\n",
       "      <td>1000</td>\n",
       "    </tr>\n",
       "    <tr>\n",
       "      <td>...</td>\n",
       "      <td>...</td>\n",
       "      <td>...</td>\n",
       "      <td>...</td>\n",
       "      <td>...</td>\n",
       "      <td>...</td>\n",
       "      <td>...</td>\n",
       "    </tr>\n",
       "    <tr>\n",
       "      <td>104820</td>\n",
       "      <td>1499_215</td>\n",
       "      <td>1499</td>\n",
       "      <td>2018-10-20</td>\n",
       "      <td>218.06</td>\n",
       "      <td>10</td>\n",
       "      <td>1000</td>\n",
       "    </tr>\n",
       "    <tr>\n",
       "      <td>104821</td>\n",
       "      <td>1499_216</td>\n",
       "      <td>1499</td>\n",
       "      <td>2018-12-30</td>\n",
       "      <td>304.72</td>\n",
       "      <td>12</td>\n",
       "      <td>1000</td>\n",
       "    </tr>\n",
       "    <tr>\n",
       "      <td>104822</td>\n",
       "      <td>1499_217</td>\n",
       "      <td>1499</td>\n",
       "      <td>2018-09-22</td>\n",
       "      <td>292.75</td>\n",
       "      <td>9</td>\n",
       "      <td>1000</td>\n",
       "    </tr>\n",
       "    <tr>\n",
       "      <td>104823</td>\n",
       "      <td>1499_218</td>\n",
       "      <td>1499</td>\n",
       "      <td>2018-12-07</td>\n",
       "      <td>0.00</td>\n",
       "      <td>12</td>\n",
       "      <td>0</td>\n",
       "    </tr>\n",
       "    <tr>\n",
       "      <td>104824</td>\n",
       "      <td>1499_219</td>\n",
       "      <td>1499</td>\n",
       "      <td>2018-12-24</td>\n",
       "      <td>758.31</td>\n",
       "      <td>12</td>\n",
       "      <td>1000</td>\n",
       "    </tr>\n",
       "  </tbody>\n",
       "</table>\n",
       "<p>104825 rows × 6 columns</p>\n",
       "</div>"
      ],
      "text/plain": [
       "              id  user_id session_date  mb_used  month  rounded_mb_used\n",
       "0        1000_13     1000   2018-12-29    89.86     12             1000\n",
       "1       1000_204     1000   2018-12-31     0.00     12                0\n",
       "2       1000_379     1000   2018-12-28   660.40     12             1000\n",
       "3       1000_413     1000   2018-12-26   270.99     12             1000\n",
       "4       1000_442     1000   2018-12-27   880.22     12             1000\n",
       "...          ...      ...          ...      ...    ...              ...\n",
       "104820  1499_215     1499   2018-10-20   218.06     10             1000\n",
       "104821  1499_216     1499   2018-12-30   304.72     12             1000\n",
       "104822  1499_217     1499   2018-09-22   292.75      9             1000\n",
       "104823  1499_218     1499   2018-12-07     0.00     12                0\n",
       "104824  1499_219     1499   2018-12-24   758.31     12             1000\n",
       "\n",
       "[104825 rows x 6 columns]"
      ]
     },
     "execution_count": 28,
     "metadata": {},
     "output_type": "execute_result"
    }
   ],
   "source": [
    "#Explorer data\n",
    "megaline_internet"
   ]
  },
  {
   "cell_type": "code",
   "execution_count": 29,
   "metadata": {},
   "outputs": [
    {
     "data": {
      "text/html": [
       "<div>\n",
       "<style scoped>\n",
       "    .dataframe tbody tr th:only-of-type {\n",
       "        vertical-align: middle;\n",
       "    }\n",
       "\n",
       "    .dataframe tbody tr th {\n",
       "        vertical-align: top;\n",
       "    }\n",
       "\n",
       "    .dataframe thead th {\n",
       "        text-align: right;\n",
       "    }\n",
       "</style>\n",
       "<table border=\"1\" class=\"dataframe\">\n",
       "  <thead>\n",
       "    <tr style=\"text-align: right;\">\n",
       "      <th></th>\n",
       "      <th>user_id</th>\n",
       "      <th>month</th>\n",
       "      <th>total_duration</th>\n",
       "      <th>number_of_calls</th>\n",
       "    </tr>\n",
       "  </thead>\n",
       "  <tbody>\n",
       "    <tr>\n",
       "      <td>0</td>\n",
       "      <td>1000</td>\n",
       "      <td>12</td>\n",
       "      <td>124</td>\n",
       "      <td>16</td>\n",
       "    </tr>\n",
       "    <tr>\n",
       "      <td>1</td>\n",
       "      <td>1001</td>\n",
       "      <td>8</td>\n",
       "      <td>182</td>\n",
       "      <td>27</td>\n",
       "    </tr>\n",
       "    <tr>\n",
       "      <td>2</td>\n",
       "      <td>1001</td>\n",
       "      <td>9</td>\n",
       "      <td>315</td>\n",
       "      <td>49</td>\n",
       "    </tr>\n",
       "    <tr>\n",
       "      <td>3</td>\n",
       "      <td>1001</td>\n",
       "      <td>10</td>\n",
       "      <td>393</td>\n",
       "      <td>65</td>\n",
       "    </tr>\n",
       "    <tr>\n",
       "      <td>4</td>\n",
       "      <td>1001</td>\n",
       "      <td>11</td>\n",
       "      <td>426</td>\n",
       "      <td>64</td>\n",
       "    </tr>\n",
       "    <tr>\n",
       "      <td>...</td>\n",
       "      <td>...</td>\n",
       "      <td>...</td>\n",
       "      <td>...</td>\n",
       "      <td>...</td>\n",
       "    </tr>\n",
       "    <tr>\n",
       "      <td>2253</td>\n",
       "      <td>1498</td>\n",
       "      <td>12</td>\n",
       "      <td>339</td>\n",
       "      <td>39</td>\n",
       "    </tr>\n",
       "    <tr>\n",
       "      <td>2254</td>\n",
       "      <td>1499</td>\n",
       "      <td>9</td>\n",
       "      <td>346</td>\n",
       "      <td>41</td>\n",
       "    </tr>\n",
       "    <tr>\n",
       "      <td>2255</td>\n",
       "      <td>1499</td>\n",
       "      <td>10</td>\n",
       "      <td>385</td>\n",
       "      <td>53</td>\n",
       "    </tr>\n",
       "    <tr>\n",
       "      <td>2256</td>\n",
       "      <td>1499</td>\n",
       "      <td>11</td>\n",
       "      <td>308</td>\n",
       "      <td>45</td>\n",
       "    </tr>\n",
       "    <tr>\n",
       "      <td>2257</td>\n",
       "      <td>1499</td>\n",
       "      <td>12</td>\n",
       "      <td>496</td>\n",
       "      <td>65</td>\n",
       "    </tr>\n",
       "  </tbody>\n",
       "</table>\n",
       "<p>2258 rows × 4 columns</p>\n",
       "</div>"
      ],
      "text/plain": [
       "      user_id  month  total_duration  number_of_calls\n",
       "0        1000     12             124               16\n",
       "1        1001      8             182               27\n",
       "2        1001      9             315               49\n",
       "3        1001     10             393               65\n",
       "4        1001     11             426               64\n",
       "...       ...    ...             ...              ...\n",
       "2253     1498     12             339               39\n",
       "2254     1499      9             346               41\n",
       "2255     1499     10             385               53\n",
       "2256     1499     11             308               45\n",
       "2257     1499     12             496               65\n",
       "\n",
       "[2258 rows x 4 columns]"
      ]
     },
     "execution_count": 29,
     "metadata": {},
     "output_type": "execute_result"
    }
   ],
   "source": [
    "#The number of calls made and minutes used per month for each user\n",
    "group_user_calls_per_month = megaline_calls.groupby(['user_id', 'month'])['duration_rounded'].agg(['sum','count']).reset_index()\n",
    "#Rename column name\n",
    "group_user_calls_per_month.rename(columns={'sum':'total_duration', 'count':'number_of_calls'},inplace=True)\n",
    "group_user_calls_per_month"
   ]
  },
  {
   "cell_type": "code",
   "execution_count": 30,
   "metadata": {},
   "outputs": [],
   "source": [
    "#pivot = megaline_calls.pivot_table(index='user_id', columns='month', values='duration', aggfunc=['sum','count'])\n",
    "#pivot"
   ]
  },
  {
   "cell_type": "code",
   "execution_count": 31,
   "metadata": {},
   "outputs": [
    {
     "data": {
      "text/html": [
       "<div>\n",
       "<style scoped>\n",
       "    .dataframe tbody tr th:only-of-type {\n",
       "        vertical-align: middle;\n",
       "    }\n",
       "\n",
       "    .dataframe tbody tr th {\n",
       "        vertical-align: top;\n",
       "    }\n",
       "\n",
       "    .dataframe thead th {\n",
       "        text-align: right;\n",
       "    }\n",
       "</style>\n",
       "<table border=\"1\" class=\"dataframe\">\n",
       "  <thead>\n",
       "    <tr style=\"text-align: right;\">\n",
       "      <th></th>\n",
       "      <th>user_id</th>\n",
       "      <th>month</th>\n",
       "      <th>total_messages</th>\n",
       "    </tr>\n",
       "  </thead>\n",
       "  <tbody>\n",
       "    <tr>\n",
       "      <td>0</td>\n",
       "      <td>1000</td>\n",
       "      <td>12</td>\n",
       "      <td>11</td>\n",
       "    </tr>\n",
       "    <tr>\n",
       "      <td>1</td>\n",
       "      <td>1001</td>\n",
       "      <td>8</td>\n",
       "      <td>30</td>\n",
       "    </tr>\n",
       "    <tr>\n",
       "      <td>2</td>\n",
       "      <td>1001</td>\n",
       "      <td>9</td>\n",
       "      <td>44</td>\n",
       "    </tr>\n",
       "    <tr>\n",
       "      <td>3</td>\n",
       "      <td>1001</td>\n",
       "      <td>10</td>\n",
       "      <td>53</td>\n",
       "    </tr>\n",
       "    <tr>\n",
       "      <td>4</td>\n",
       "      <td>1001</td>\n",
       "      <td>11</td>\n",
       "      <td>36</td>\n",
       "    </tr>\n",
       "    <tr>\n",
       "      <td>...</td>\n",
       "      <td>...</td>\n",
       "      <td>...</td>\n",
       "      <td>...</td>\n",
       "    </tr>\n",
       "    <tr>\n",
       "      <td>1801</td>\n",
       "      <td>1496</td>\n",
       "      <td>9</td>\n",
       "      <td>21</td>\n",
       "    </tr>\n",
       "    <tr>\n",
       "      <td>1802</td>\n",
       "      <td>1496</td>\n",
       "      <td>10</td>\n",
       "      <td>18</td>\n",
       "    </tr>\n",
       "    <tr>\n",
       "      <td>1803</td>\n",
       "      <td>1496</td>\n",
       "      <td>11</td>\n",
       "      <td>13</td>\n",
       "    </tr>\n",
       "    <tr>\n",
       "      <td>1804</td>\n",
       "      <td>1496</td>\n",
       "      <td>12</td>\n",
       "      <td>11</td>\n",
       "    </tr>\n",
       "    <tr>\n",
       "      <td>1805</td>\n",
       "      <td>1497</td>\n",
       "      <td>12</td>\n",
       "      <td>50</td>\n",
       "    </tr>\n",
       "  </tbody>\n",
       "</table>\n",
       "<p>1806 rows × 3 columns</p>\n",
       "</div>"
      ],
      "text/plain": [
       "      user_id  month  total_messages\n",
       "0        1000     12              11\n",
       "1        1001      8              30\n",
       "2        1001      9              44\n",
       "3        1001     10              53\n",
       "4        1001     11              36\n",
       "...       ...    ...             ...\n",
       "1801     1496      9              21\n",
       "1802     1496     10              18\n",
       "1803     1496     11              13\n",
       "1804     1496     12              11\n",
       "1805     1497     12              50\n",
       "\n",
       "[1806 rows x 3 columns]"
      ]
     },
     "execution_count": 31,
     "metadata": {},
     "output_type": "execute_result"
    }
   ],
   "source": [
    "#The number of text messages sent per month for each user\n",
    "group_user_text_message_per_month = megaline_messages.groupby(['user_id', 'month'])['message_date'].count().reset_index()\n",
    "#Change column name\n",
    "group_user_text_message_per_month.rename(columns={'message_date':'total_messages'},inplace=True)\n",
    "group_user_text_message_per_month"
   ]
  },
  {
   "cell_type": "code",
   "execution_count": 32,
   "metadata": {},
   "outputs": [
    {
     "data": {
      "text/html": [
       "<div>\n",
       "<style scoped>\n",
       "    .dataframe tbody tr th:only-of-type {\n",
       "        vertical-align: middle;\n",
       "    }\n",
       "\n",
       "    .dataframe tbody tr th {\n",
       "        vertical-align: top;\n",
       "    }\n",
       "\n",
       "    .dataframe thead th {\n",
       "        text-align: right;\n",
       "    }\n",
       "</style>\n",
       "<table border=\"1\" class=\"dataframe\">\n",
       "  <thead>\n",
       "    <tr style=\"text-align: right;\">\n",
       "      <th></th>\n",
       "      <th>user_id</th>\n",
       "      <th>month</th>\n",
       "      <th>total_mb_used</th>\n",
       "    </tr>\n",
       "  </thead>\n",
       "  <tbody>\n",
       "    <tr>\n",
       "      <td>0</td>\n",
       "      <td>1000</td>\n",
       "      <td>12</td>\n",
       "      <td>2000</td>\n",
       "    </tr>\n",
       "    <tr>\n",
       "      <td>1</td>\n",
       "      <td>1001</td>\n",
       "      <td>8</td>\n",
       "      <td>7000</td>\n",
       "    </tr>\n",
       "    <tr>\n",
       "      <td>2</td>\n",
       "      <td>1001</td>\n",
       "      <td>9</td>\n",
       "      <td>14000</td>\n",
       "    </tr>\n",
       "    <tr>\n",
       "      <td>3</td>\n",
       "      <td>1001</td>\n",
       "      <td>10</td>\n",
       "      <td>23000</td>\n",
       "    </tr>\n",
       "    <tr>\n",
       "      <td>4</td>\n",
       "      <td>1001</td>\n",
       "      <td>11</td>\n",
       "      <td>19000</td>\n",
       "    </tr>\n",
       "    <tr>\n",
       "      <td>...</td>\n",
       "      <td>...</td>\n",
       "      <td>...</td>\n",
       "      <td>...</td>\n",
       "    </tr>\n",
       "    <tr>\n",
       "      <td>2272</td>\n",
       "      <td>1498</td>\n",
       "      <td>12</td>\n",
       "      <td>24000</td>\n",
       "    </tr>\n",
       "    <tr>\n",
       "      <td>2273</td>\n",
       "      <td>1499</td>\n",
       "      <td>9</td>\n",
       "      <td>13000</td>\n",
       "    </tr>\n",
       "    <tr>\n",
       "      <td>2274</td>\n",
       "      <td>1499</td>\n",
       "      <td>10</td>\n",
       "      <td>20000</td>\n",
       "    </tr>\n",
       "    <tr>\n",
       "      <td>2275</td>\n",
       "      <td>1499</td>\n",
       "      <td>11</td>\n",
       "      <td>17000</td>\n",
       "    </tr>\n",
       "    <tr>\n",
       "      <td>2276</td>\n",
       "      <td>1499</td>\n",
       "      <td>12</td>\n",
       "      <td>23000</td>\n",
       "    </tr>\n",
       "  </tbody>\n",
       "</table>\n",
       "<p>2277 rows × 3 columns</p>\n",
       "</div>"
      ],
      "text/plain": [
       "      user_id  month  total_mb_used\n",
       "0        1000     12           2000\n",
       "1        1001      8           7000\n",
       "2        1001      9          14000\n",
       "3        1001     10          23000\n",
       "4        1001     11          19000\n",
       "...       ...    ...            ...\n",
       "2272     1498     12          24000\n",
       "2273     1499      9          13000\n",
       "2274     1499     10          20000\n",
       "2275     1499     11          17000\n",
       "2276     1499     12          23000\n",
       "\n",
       "[2277 rows x 3 columns]"
      ]
     },
     "execution_count": 32,
     "metadata": {},
     "output_type": "execute_result"
    }
   ],
   "source": [
    "#The volume of data used per month for each user\n",
    "group_user_data_volume_per_month = megaline_internet.groupby(['user_id', 'month'])['mb_used'].sum().reset_index()\n",
    "#Round up the total use per month for each user.\n",
    "#examples: 55 ->1000, 1010 ->2000\n",
    "group_user_data_volume_per_month['rounded_mb_used'] = group_user_data_volume_per_month['mb_used'].apply(lambda x: int(math.ceil( x/ 1000.0)) * 1000)\n",
    "group_user_data_volume_per_month.drop('mb_used', axis=1, inplace=True)\n",
    "group_user_data_volume_per_month.rename(columns={'rounded_mb_used':'total_mb_used'},inplace=True)\n",
    "group_user_data_volume_per_month"
   ]
  },
  {
   "cell_type": "code",
   "execution_count": 33,
   "metadata": {},
   "outputs": [],
   "source": [
    "#group_user_data_volume_per_month['rounded_mb_used'] = group_user_data_volume_per_month['mb_used'].apply(lambda x: int(math.ceil( x/ 1000.0)) * 1000)\n",
    "#group_user_data_volume_per_month"
   ]
  },
  {
   "cell_type": "code",
   "execution_count": 34,
   "metadata": {},
   "outputs": [],
   "source": [
    "#Merge dataframes\n",
    "data_frames = [group_user_calls_per_month, group_user_text_message_per_month, group_user_data_volume_per_month]\n",
    "merged_user_info_per_month = reduce(lambda left,right:pd.merge(left, right, on=['user_id','month'], how='outer').fillna(0), data_frames)"
   ]
  },
  {
   "cell_type": "code",
   "execution_count": 35,
   "metadata": {},
   "outputs": [],
   "source": [
    "#Merge plans dataFrame to merged_user_info_per_month \n",
    "merged_user_info_per_month = merged_user_info_per_month.merge(megaline_users[['user_id', 'plan']],how='left',on='user_id')"
   ]
  },
  {
   "cell_type": "code",
   "execution_count": 36,
   "metadata": {
    "scrolled": true
   },
   "outputs": [],
   "source": [
    "#Sort values by 'user_id' and 'month'\n",
    "merged_user_info_per_month.sort_values(['user_id','month'],inplace=True)"
   ]
  },
  {
   "cell_type": "code",
   "execution_count": 37,
   "metadata": {},
   "outputs": [
    {
     "data": {
      "text/html": [
       "<div>\n",
       "<style scoped>\n",
       "    .dataframe tbody tr th:only-of-type {\n",
       "        vertical-align: middle;\n",
       "    }\n",
       "\n",
       "    .dataframe tbody tr th {\n",
       "        vertical-align: top;\n",
       "    }\n",
       "\n",
       "    .dataframe thead th {\n",
       "        text-align: right;\n",
       "    }\n",
       "</style>\n",
       "<table border=\"1\" class=\"dataframe\">\n",
       "  <thead>\n",
       "    <tr style=\"text-align: right;\">\n",
       "      <th></th>\n",
       "      <th>user_id</th>\n",
       "      <th>month</th>\n",
       "      <th>total_duration</th>\n",
       "      <th>number_of_calls</th>\n",
       "      <th>total_messages</th>\n",
       "      <th>total_mb_used</th>\n",
       "      <th>plan</th>\n",
       "    </tr>\n",
       "  </thead>\n",
       "  <tbody>\n",
       "    <tr>\n",
       "      <td>0</td>\n",
       "      <td>1000</td>\n",
       "      <td>12</td>\n",
       "      <td>124.0</td>\n",
       "      <td>16.0</td>\n",
       "      <td>11.0</td>\n",
       "      <td>2000.0</td>\n",
       "      <td>ultimate</td>\n",
       "    </tr>\n",
       "    <tr>\n",
       "      <td>1</td>\n",
       "      <td>1001</td>\n",
       "      <td>8</td>\n",
       "      <td>182.0</td>\n",
       "      <td>27.0</td>\n",
       "      <td>30.0</td>\n",
       "      <td>7000.0</td>\n",
       "      <td>surf</td>\n",
       "    </tr>\n",
       "    <tr>\n",
       "      <td>2</td>\n",
       "      <td>1001</td>\n",
       "      <td>9</td>\n",
       "      <td>315.0</td>\n",
       "      <td>49.0</td>\n",
       "      <td>44.0</td>\n",
       "      <td>14000.0</td>\n",
       "      <td>surf</td>\n",
       "    </tr>\n",
       "    <tr>\n",
       "      <td>3</td>\n",
       "      <td>1001</td>\n",
       "      <td>10</td>\n",
       "      <td>393.0</td>\n",
       "      <td>65.0</td>\n",
       "      <td>53.0</td>\n",
       "      <td>23000.0</td>\n",
       "      <td>surf</td>\n",
       "    </tr>\n",
       "    <tr>\n",
       "      <td>4</td>\n",
       "      <td>1001</td>\n",
       "      <td>11</td>\n",
       "      <td>426.0</td>\n",
       "      <td>64.0</td>\n",
       "      <td>36.0</td>\n",
       "      <td>19000.0</td>\n",
       "      <td>surf</td>\n",
       "    </tr>\n",
       "    <tr>\n",
       "      <td>...</td>\n",
       "      <td>...</td>\n",
       "      <td>...</td>\n",
       "      <td>...</td>\n",
       "      <td>...</td>\n",
       "      <td>...</td>\n",
       "      <td>...</td>\n",
       "      <td>...</td>\n",
       "    </tr>\n",
       "    <tr>\n",
       "      <td>2253</td>\n",
       "      <td>1498</td>\n",
       "      <td>12</td>\n",
       "      <td>339.0</td>\n",
       "      <td>39.0</td>\n",
       "      <td>0.0</td>\n",
       "      <td>24000.0</td>\n",
       "      <td>surf</td>\n",
       "    </tr>\n",
       "    <tr>\n",
       "      <td>2254</td>\n",
       "      <td>1499</td>\n",
       "      <td>9</td>\n",
       "      <td>346.0</td>\n",
       "      <td>41.0</td>\n",
       "      <td>0.0</td>\n",
       "      <td>13000.0</td>\n",
       "      <td>surf</td>\n",
       "    </tr>\n",
       "    <tr>\n",
       "      <td>2255</td>\n",
       "      <td>1499</td>\n",
       "      <td>10</td>\n",
       "      <td>385.0</td>\n",
       "      <td>53.0</td>\n",
       "      <td>0.0</td>\n",
       "      <td>20000.0</td>\n",
       "      <td>surf</td>\n",
       "    </tr>\n",
       "    <tr>\n",
       "      <td>2256</td>\n",
       "      <td>1499</td>\n",
       "      <td>11</td>\n",
       "      <td>308.0</td>\n",
       "      <td>45.0</td>\n",
       "      <td>0.0</td>\n",
       "      <td>17000.0</td>\n",
       "      <td>surf</td>\n",
       "    </tr>\n",
       "    <tr>\n",
       "      <td>2257</td>\n",
       "      <td>1499</td>\n",
       "      <td>12</td>\n",
       "      <td>496.0</td>\n",
       "      <td>65.0</td>\n",
       "      <td>0.0</td>\n",
       "      <td>23000.0</td>\n",
       "      <td>surf</td>\n",
       "    </tr>\n",
       "  </tbody>\n",
       "</table>\n",
       "<p>2293 rows × 7 columns</p>\n",
       "</div>"
      ],
      "text/plain": [
       "      user_id  month  total_duration  number_of_calls  total_messages  \\\n",
       "0        1000     12           124.0             16.0            11.0   \n",
       "1        1001      8           182.0             27.0            30.0   \n",
       "2        1001      9           315.0             49.0            44.0   \n",
       "3        1001     10           393.0             65.0            53.0   \n",
       "4        1001     11           426.0             64.0            36.0   \n",
       "...       ...    ...             ...              ...             ...   \n",
       "2253     1498     12           339.0             39.0             0.0   \n",
       "2254     1499      9           346.0             41.0             0.0   \n",
       "2255     1499     10           385.0             53.0             0.0   \n",
       "2256     1499     11           308.0             45.0             0.0   \n",
       "2257     1499     12           496.0             65.0             0.0   \n",
       "\n",
       "      total_mb_used      plan  \n",
       "0            2000.0  ultimate  \n",
       "1            7000.0      surf  \n",
       "2           14000.0      surf  \n",
       "3           23000.0      surf  \n",
       "4           19000.0      surf  \n",
       "...             ...       ...  \n",
       "2253        24000.0      surf  \n",
       "2254        13000.0      surf  \n",
       "2255        20000.0      surf  \n",
       "2256        17000.0      surf  \n",
       "2257        23000.0      surf  \n",
       "\n",
       "[2293 rows x 7 columns]"
      ]
     },
     "execution_count": 37,
     "metadata": {},
     "output_type": "execute_result"
    }
   ],
   "source": [
    "merged_user_info_per_month"
   ]
  },
  {
   "cell_type": "code",
   "execution_count": 38,
   "metadata": {},
   "outputs": [
    {
     "data": {
      "text/html": [
       "<div>\n",
       "<style scoped>\n",
       "    .dataframe tbody tr th:only-of-type {\n",
       "        vertical-align: middle;\n",
       "    }\n",
       "\n",
       "    .dataframe tbody tr th {\n",
       "        vertical-align: top;\n",
       "    }\n",
       "\n",
       "    .dataframe thead th {\n",
       "        text-align: right;\n",
       "    }\n",
       "</style>\n",
       "<table border=\"1\" class=\"dataframe\">\n",
       "  <thead>\n",
       "    <tr style=\"text-align: right;\">\n",
       "      <th></th>\n",
       "      <th>messages_included</th>\n",
       "      <th>mb_per_month_included</th>\n",
       "      <th>minutes_included</th>\n",
       "      <th>usd_monthly_pay</th>\n",
       "      <th>usd_per_gb</th>\n",
       "      <th>usd_per_message</th>\n",
       "      <th>usd_per_minute</th>\n",
       "      <th>plan_name</th>\n",
       "    </tr>\n",
       "  </thead>\n",
       "  <tbody>\n",
       "    <tr>\n",
       "      <td>0</td>\n",
       "      <td>50</td>\n",
       "      <td>15360</td>\n",
       "      <td>500</td>\n",
       "      <td>20</td>\n",
       "      <td>10</td>\n",
       "      <td>0.03</td>\n",
       "      <td>0.03</td>\n",
       "      <td>surf</td>\n",
       "    </tr>\n",
       "    <tr>\n",
       "      <td>1</td>\n",
       "      <td>1000</td>\n",
       "      <td>30720</td>\n",
       "      <td>3000</td>\n",
       "      <td>70</td>\n",
       "      <td>7</td>\n",
       "      <td>0.01</td>\n",
       "      <td>0.01</td>\n",
       "      <td>ultimate</td>\n",
       "    </tr>\n",
       "  </tbody>\n",
       "</table>\n",
       "</div>"
      ],
      "text/plain": [
       "   messages_included  mb_per_month_included  minutes_included  \\\n",
       "0                 50                  15360               500   \n",
       "1               1000                  30720              3000   \n",
       "\n",
       "   usd_monthly_pay  usd_per_gb  usd_per_message  usd_per_minute plan_name  \n",
       "0               20          10             0.03            0.03      surf  \n",
       "1               70           7             0.01            0.01  ultimate  "
      ]
     },
     "execution_count": 38,
     "metadata": {},
     "output_type": "execute_result"
    }
   ],
   "source": [
    "megaline_plans"
   ]
  },
  {
   "cell_type": "code",
   "execution_count": 39,
   "metadata": {},
   "outputs": [],
   "source": [
    "#Calculate revenue for ultimate \n",
    "def ultimate_revenue(row):\n",
    "    total_duration = row['total_duration']\n",
    "    total_messages = row['total_messages']\n",
    "    mb_used = row['total_mb_used']\n",
    "    \n",
    "    #Get plan information \n",
    "    ultimate_plan = megaline_plans.query(\"plan_name == 'ultimate'\")\n",
    "    minutes_limit = ultimate_plan['minutes_included'].values[0]\n",
    "    messages_limit = ultimate_plan['messages_included'].values[0]\n",
    "    mb_limit = ultimate_plan['mb_per_month_included'].values[0] \n",
    "    monthly_charge = ultimate_plan['usd_monthly_pay'].values[0]\n",
    "    usd_per_gb = ultimate_plan['usd_per_gb'].values[0]\n",
    "    usd_per_message = ultimate_plan['usd_per_message'].values[0]\n",
    "    usd_per_minute = ultimate_plan['usd_per_minute'].values[0]\n",
    "    \n",
    "    #Calculate revenue\n",
    "    minute_above_limit = (total_duration - minutes_limit) * usd_per_minute if total_duration - minutes_limit  > 0 else 0\n",
    "    messages_above_limit = (total_messages - messages_limit ) * usd_per_message if total_messages - messages_limit > 0 else 0\n",
    "    mb_above_limit = (mb_used - mb_limit) * usd_per_gb if mb_used - mb_limit > 0 else 0\n",
    "    \n",
    "    return minute_above_limit + messages_above_limit + mb_above_limit + monthly_charge\n",
    "\n",
    "#Calculate revenue for surf \n",
    "def surf_revenue(row):\n",
    "    total_duration = row['total_duration']\n",
    "    total_messages = row['total_messages']\n",
    "    mb_used = row['total_mb_used']\n",
    "    \n",
    "    #Get plan information \n",
    "    surf_plan = megaline_plans.query(\"plan_name == 'surf'\")    \n",
    "    minutes_limit = surf_plan['minutes_included'].values[0]\n",
    "    messages_limit = surf_plan['messages_included'].values[0]\n",
    "    mb_limit = surf_plan['mb_per_month_included'].values[0] \n",
    "    monthly_charge = surf_plan['usd_monthly_pay'].values[0]\n",
    "    usd_per_gb = surf_plan['usd_per_gb'].values[0]\n",
    "    usd_per_message = surf_plan['usd_per_message'].values[0]\n",
    "    usd_per_minute = surf_plan['usd_per_minute'].values[0]\n",
    "    \n",
    "    #Calculate revenue\n",
    "    minute_above_limit = (total_duration - minutes_limit) * usd_per_minute if total_duration - minutes_limit  > 0 else 0\n",
    "    messages_above_limit = (total_messages - messages_limit ) * usd_per_message if total_messages - messages_limit > 0 else 0\n",
    "    mb_above_limit = ((mb_used - mb_limit) / 1000) * usd_per_gb if mb_used - mb_limit > 0 else 0\n",
    "   \n",
    "    return minute_above_limit + messages_above_limit + mb_above_limit + monthly_charge\n",
    "\n",
    "#Proxy method that route plans to the correct revenue method\n",
    "def proxy_plan_revenue(row):\n",
    "    plan_name = row['plan']\n",
    "    \n",
    "   \n",
    "    if plan_name ==  'ultimate':    \n",
    "        return ultimate_revenue(row)\n",
    "    elif plan_name == 'surf':\n",
    "        return surf_revenue(row)\n",
    "\n",
    "merged_user_info_per_month['revenue'] = merged_user_info_per_month.apply(proxy_plan_revenue, axis=1)\n",
    "\n",
    "\n",
    "\n",
    "# test data\n",
    "#testdataframe = merged_user_info_per_month.query('user_id ==1001 and month == 8')\n",
    "#test1= testdataframe.apply(proxy_plan_revenue, axis=1)\n",
    "#test1"
   ]
  },
  {
   "cell_type": "code",
   "execution_count": 40,
   "metadata": {},
   "outputs": [
    {
     "data": {
      "text/html": [
       "<div>\n",
       "<style scoped>\n",
       "    .dataframe tbody tr th:only-of-type {\n",
       "        vertical-align: middle;\n",
       "    }\n",
       "\n",
       "    .dataframe tbody tr th {\n",
       "        vertical-align: top;\n",
       "    }\n",
       "\n",
       "    .dataframe thead th {\n",
       "        text-align: right;\n",
       "    }\n",
       "</style>\n",
       "<table border=\"1\" class=\"dataframe\">\n",
       "  <thead>\n",
       "    <tr style=\"text-align: right;\">\n",
       "      <th></th>\n",
       "      <th>user_id</th>\n",
       "      <th>month</th>\n",
       "      <th>total_duration</th>\n",
       "      <th>number_of_calls</th>\n",
       "      <th>total_messages</th>\n",
       "      <th>total_mb_used</th>\n",
       "      <th>plan</th>\n",
       "      <th>revenue</th>\n",
       "    </tr>\n",
       "  </thead>\n",
       "  <tbody>\n",
       "    <tr>\n",
       "      <td>0</td>\n",
       "      <td>1000</td>\n",
       "      <td>12</td>\n",
       "      <td>124.0</td>\n",
       "      <td>16.0</td>\n",
       "      <td>11.0</td>\n",
       "      <td>2000.0</td>\n",
       "      <td>ultimate</td>\n",
       "      <td>70.00</td>\n",
       "    </tr>\n",
       "    <tr>\n",
       "      <td>1</td>\n",
       "      <td>1001</td>\n",
       "      <td>8</td>\n",
       "      <td>182.0</td>\n",
       "      <td>27.0</td>\n",
       "      <td>30.0</td>\n",
       "      <td>7000.0</td>\n",
       "      <td>surf</td>\n",
       "      <td>20.00</td>\n",
       "    </tr>\n",
       "    <tr>\n",
       "      <td>2</td>\n",
       "      <td>1001</td>\n",
       "      <td>9</td>\n",
       "      <td>315.0</td>\n",
       "      <td>49.0</td>\n",
       "      <td>44.0</td>\n",
       "      <td>14000.0</td>\n",
       "      <td>surf</td>\n",
       "      <td>20.00</td>\n",
       "    </tr>\n",
       "    <tr>\n",
       "      <td>3</td>\n",
       "      <td>1001</td>\n",
       "      <td>10</td>\n",
       "      <td>393.0</td>\n",
       "      <td>65.0</td>\n",
       "      <td>53.0</td>\n",
       "      <td>23000.0</td>\n",
       "      <td>surf</td>\n",
       "      <td>96.49</td>\n",
       "    </tr>\n",
       "    <tr>\n",
       "      <td>4</td>\n",
       "      <td>1001</td>\n",
       "      <td>11</td>\n",
       "      <td>426.0</td>\n",
       "      <td>64.0</td>\n",
       "      <td>36.0</td>\n",
       "      <td>19000.0</td>\n",
       "      <td>surf</td>\n",
       "      <td>56.40</td>\n",
       "    </tr>\n",
       "    <tr>\n",
       "      <td>...</td>\n",
       "      <td>...</td>\n",
       "      <td>...</td>\n",
       "      <td>...</td>\n",
       "      <td>...</td>\n",
       "      <td>...</td>\n",
       "      <td>...</td>\n",
       "      <td>...</td>\n",
       "      <td>...</td>\n",
       "    </tr>\n",
       "    <tr>\n",
       "      <td>2253</td>\n",
       "      <td>1498</td>\n",
       "      <td>12</td>\n",
       "      <td>339.0</td>\n",
       "      <td>39.0</td>\n",
       "      <td>0.0</td>\n",
       "      <td>24000.0</td>\n",
       "      <td>surf</td>\n",
       "      <td>106.40</td>\n",
       "    </tr>\n",
       "    <tr>\n",
       "      <td>2254</td>\n",
       "      <td>1499</td>\n",
       "      <td>9</td>\n",
       "      <td>346.0</td>\n",
       "      <td>41.0</td>\n",
       "      <td>0.0</td>\n",
       "      <td>13000.0</td>\n",
       "      <td>surf</td>\n",
       "      <td>20.00</td>\n",
       "    </tr>\n",
       "    <tr>\n",
       "      <td>2255</td>\n",
       "      <td>1499</td>\n",
       "      <td>10</td>\n",
       "      <td>385.0</td>\n",
       "      <td>53.0</td>\n",
       "      <td>0.0</td>\n",
       "      <td>20000.0</td>\n",
       "      <td>surf</td>\n",
       "      <td>66.40</td>\n",
       "    </tr>\n",
       "    <tr>\n",
       "      <td>2256</td>\n",
       "      <td>1499</td>\n",
       "      <td>11</td>\n",
       "      <td>308.0</td>\n",
       "      <td>45.0</td>\n",
       "      <td>0.0</td>\n",
       "      <td>17000.0</td>\n",
       "      <td>surf</td>\n",
       "      <td>36.40</td>\n",
       "    </tr>\n",
       "    <tr>\n",
       "      <td>2257</td>\n",
       "      <td>1499</td>\n",
       "      <td>12</td>\n",
       "      <td>496.0</td>\n",
       "      <td>65.0</td>\n",
       "      <td>0.0</td>\n",
       "      <td>23000.0</td>\n",
       "      <td>surf</td>\n",
       "      <td>96.40</td>\n",
       "    </tr>\n",
       "  </tbody>\n",
       "</table>\n",
       "<p>2293 rows × 8 columns</p>\n",
       "</div>"
      ],
      "text/plain": [
       "      user_id  month  total_duration  number_of_calls  total_messages  \\\n",
       "0        1000     12           124.0             16.0            11.0   \n",
       "1        1001      8           182.0             27.0            30.0   \n",
       "2        1001      9           315.0             49.0            44.0   \n",
       "3        1001     10           393.0             65.0            53.0   \n",
       "4        1001     11           426.0             64.0            36.0   \n",
       "...       ...    ...             ...              ...             ...   \n",
       "2253     1498     12           339.0             39.0             0.0   \n",
       "2254     1499      9           346.0             41.0             0.0   \n",
       "2255     1499     10           385.0             53.0             0.0   \n",
       "2256     1499     11           308.0             45.0             0.0   \n",
       "2257     1499     12           496.0             65.0             0.0   \n",
       "\n",
       "      total_mb_used      plan  revenue  \n",
       "0            2000.0  ultimate    70.00  \n",
       "1            7000.0      surf    20.00  \n",
       "2           14000.0      surf    20.00  \n",
       "3           23000.0      surf    96.49  \n",
       "4           19000.0      surf    56.40  \n",
       "...             ...       ...      ...  \n",
       "2253        24000.0      surf   106.40  \n",
       "2254        13000.0      surf    20.00  \n",
       "2255        20000.0      surf    66.40  \n",
       "2256        17000.0      surf    36.40  \n",
       "2257        23000.0      surf    96.40  \n",
       "\n",
       "[2293 rows x 8 columns]"
      ]
     },
     "execution_count": 40,
     "metadata": {},
     "output_type": "execute_result"
    }
   ],
   "source": [
    "#Explorer data\n",
    "merged_user_info_per_month"
   ]
  },
  {
   "cell_type": "markdown",
   "metadata": {},
   "source": [
    "### Conclusion"
   ]
  },
  {
   "cell_type": "markdown",
   "metadata": {},
   "source": [
    "Now we have one table that give us information about each user:\n",
    "1. The plan that he has.\n",
    "2. The total duration of calls.\n",
    "3. Total messages that he sent.\n",
    "4. total data that he consumed.  \n",
    "Using this information we calculated the revenue for each user"
   ]
  },
  {
   "cell_type": "markdown",
   "metadata": {},
   "source": [
    "##  Analyze the data"
   ]
  },
  {
   "cell_type": "code",
   "execution_count": 41,
   "metadata": {},
   "outputs": [],
   "source": [
    "# minutes the users of each plan require per month\n",
    "plan_minutes_per_month_pivot = merged_user_info_per_month.pivot_table(index='month',columns='plan', values='total_duration', aggfunc='sum')\n",
    "\n",
    "#texts the users of each plan require per month\n",
    "plan_messages_per_month_pivot = merged_user_info_per_month.pivot_table(index='month',columns='plan', values='total_messages', aggfunc='sum')\n",
    "\n",
    "#volume of data the users of each plan require per month\n",
    "plan_data_per_month_pivot = merged_user_info_per_month.pivot_table(index='month',columns='plan', values='total_mb_used', aggfunc='sum')\n",
    "\n",
    "#volume of data the users of each plan require per month\n",
    "plan_revenue_per_month_pivot = merged_user_info_per_month.pivot_table(index='month',columns='plan', values='revenue', aggfunc='sum')\n"
   ]
  },
  {
   "cell_type": "code",
   "execution_count": 42,
   "metadata": {},
   "outputs": [
    {
     "data": {
      "text/html": [
       "<div>\n",
       "<style scoped>\n",
       "    .dataframe tbody tr th:only-of-type {\n",
       "        vertical-align: middle;\n",
       "    }\n",
       "\n",
       "    .dataframe tbody tr th {\n",
       "        vertical-align: top;\n",
       "    }\n",
       "\n",
       "    .dataframe thead th {\n",
       "        text-align: right;\n",
       "    }\n",
       "</style>\n",
       "<table border=\"1\" class=\"dataframe\">\n",
       "  <thead>\n",
       "    <tr style=\"text-align: right;\">\n",
       "      <th>plan</th>\n",
       "      <th>surf</th>\n",
       "      <th>ultimate</th>\n",
       "    </tr>\n",
       "    <tr>\n",
       "      <th>month</th>\n",
       "      <th></th>\n",
       "      <th></th>\n",
       "    </tr>\n",
       "  </thead>\n",
       "  <tbody>\n",
       "    <tr>\n",
       "      <td>1</td>\n",
       "      <td>40.00</td>\n",
       "      <td>280.0</td>\n",
       "    </tr>\n",
       "    <tr>\n",
       "      <td>2</td>\n",
       "      <td>325.17</td>\n",
       "      <td>490.0</td>\n",
       "    </tr>\n",
       "    <tr>\n",
       "      <td>3</td>\n",
       "      <td>1067.05</td>\n",
       "      <td>55720.0</td>\n",
       "    </tr>\n",
       "    <tr>\n",
       "      <td>4</td>\n",
       "      <td>2044.33</td>\n",
       "      <td>68390.0</td>\n",
       "    </tr>\n",
       "    <tr>\n",
       "      <td>5</td>\n",
       "      <td>3742.17</td>\n",
       "      <td>19950.0</td>\n",
       "    </tr>\n",
       "    <tr>\n",
       "      <td>6</td>\n",
       "      <td>4792.60</td>\n",
       "      <td>77210.0</td>\n",
       "    </tr>\n",
       "    <tr>\n",
       "      <td>7</td>\n",
       "      <td>7729.16</td>\n",
       "      <td>120050.0</td>\n",
       "    </tr>\n",
       "    <tr>\n",
       "      <td>8</td>\n",
       "      <td>10509.65</td>\n",
       "      <td>219730.0</td>\n",
       "    </tr>\n",
       "    <tr>\n",
       "      <td>9</td>\n",
       "      <td>11429.87</td>\n",
       "      <td>183820.0</td>\n",
       "    </tr>\n",
       "    <tr>\n",
       "      <td>10</td>\n",
       "      <td>15614.83</td>\n",
       "      <td>257180.0</td>\n",
       "    </tr>\n",
       "    <tr>\n",
       "      <td>11</td>\n",
       "      <td>16718.41</td>\n",
       "      <td>230650.0</td>\n",
       "    </tr>\n",
       "    <tr>\n",
       "      <td>12</td>\n",
       "      <td>22627.94</td>\n",
       "      <td>531090.0</td>\n",
       "    </tr>\n",
       "  </tbody>\n",
       "</table>\n",
       "</div>"
      ],
      "text/plain": [
       "plan       surf  ultimate\n",
       "month                    \n",
       "1         40.00     280.0\n",
       "2        325.17     490.0\n",
       "3       1067.05   55720.0\n",
       "4       2044.33   68390.0\n",
       "5       3742.17   19950.0\n",
       "6       4792.60   77210.0\n",
       "7       7729.16  120050.0\n",
       "8      10509.65  219730.0\n",
       "9      11429.87  183820.0\n",
       "10     15614.83  257180.0\n",
       "11     16718.41  230650.0\n",
       "12     22627.94  531090.0"
      ]
     },
     "execution_count": 42,
     "metadata": {},
     "output_type": "execute_result"
    }
   ],
   "source": [
    "plan_revenue_per_month_pivot"
   ]
  },
  {
   "cell_type": "code",
   "execution_count": 43,
   "metadata": {
    "scrolled": true
   },
   "outputs": [
    {
     "data": {
      "text/plain": [
       "<matplotlib.axes._subplots.AxesSubplot at 0x7fc6dc7860d0>"
      ]
     },
     "execution_count": 43,
     "metadata": {},
     "output_type": "execute_result"
    },
    {
     "data": {
      "image/png": "[encoded data removed]",
      "text/plain": [
       "<Figure size 432x288 with 1 Axes>"
      ]
     },
     "metadata": {
      "needs_background": "light"
     },
     "output_type": "display_data"
    }
   ],
   "source": [
    "# usage of minutes per month for each plan\n",
    "plan_minutes_per_month_pivot.plot(kind='bar')"
   ]
  },
  {
   "cell_type": "markdown",
   "metadata": {},
   "source": [
    "1. Each month there is an increment of minutes been used for both plans\n",
    "2. Users in 'surf' plan using more minutes comparing to users in 'ultemate' plan"
   ]
  },
  {
   "cell_type": "code",
   "execution_count": 44,
   "metadata": {
    "scrolled": false
   },
   "outputs": [
    {
     "data": {
      "text/plain": [
       "<matplotlib.axes._subplots.AxesSubplot at 0x7fc6dc91b850>"
      ]
     },
     "execution_count": 44,
     "metadata": {},
     "output_type": "execute_result"
    },
    {
     "data": {
      "image/png": "[encoded data removed]",
      "text/plain": [
       "<Figure size 432x288 with 1 Axes>"
      ]
     },
     "metadata": {
      "needs_background": "light"
     },
     "output_type": "display_data"
    }
   ],
   "source": [
    "plan_messages_per_month_pivot.plot(kind='bar')"
   ]
  },
  {
   "cell_type": "markdown",
   "metadata": {},
   "source": [
    "1. Each month there is an increment of messages been used for both plans.\n",
    "2. Users in 'surf' plan using more messages comparing to users in 'ultemate' plan"
   ]
  },
  {
   "cell_type": "code",
   "execution_count": 45,
   "metadata": {
    "scrolled": false
   },
   "outputs": [
    {
     "data": {
      "text/plain": [
       "<matplotlib.axes._subplots.AxesSubplot at 0x7fc6dc862c10>"
      ]
     },
     "execution_count": 45,
     "metadata": {},
     "output_type": "execute_result"
    },
    {
     "data": {
      "image/png": "[encoded data removed]",
      "text/plain": [
       "<Figure size 432x288 with 1 Axes>"
      ]
     },
     "metadata": {
      "needs_background": "light"
     },
     "output_type": "display_data"
    }
   ],
   "source": [
    "plan_data_per_month_pivot.plot(kind='bar')"
   ]
  },
  {
   "cell_type": "markdown",
   "metadata": {},
   "source": [
    "1. Each month there is an increment of data been used\n",
    "2. users in 'surf' plan using more data comparing to users in 'ultemate' plan"
   ]
  },
  {
   "cell_type": "code",
   "execution_count": 46,
   "metadata": {
    "scrolled": false
   },
   "outputs": [
    {
     "data": {
      "text/plain": [
       "<matplotlib.axes._subplots.AxesSubplot at 0x7fc6dc810e90>"
      ]
     },
     "execution_count": 46,
     "metadata": {},
     "output_type": "execute_result"
    },
    {
     "data": {
      "image/png": "[encoded data removed]",
      "text/plain": [
       "<Figure size 432x288 with 1 Axes>"
      ]
     },
     "metadata": {
      "needs_background": "light"
     },
     "output_type": "display_data"
    }
   ],
   "source": [
    "plan_revenue_per_month_pivot.plot(kind='bar')"
   ]
  },
  {
   "cell_type": "markdown",
   "metadata": {},
   "source": [
    "1. There is an increment of the revenue in 'ultemate' plan \n",
    "2. The revenue in 'surf' plan remained almost the same. There is a tiny increment"
   ]
  },
  {
   "cell_type": "code",
   "execution_count": 47,
   "metadata": {},
   "outputs": [
    {
     "data": {
      "text/plain": [
       "<matplotlib.axes._subplots.AxesSubplot at 0x7fc6dc7106d0>"
      ]
     },
     "execution_count": 47,
     "metadata": {},
     "output_type": "execute_result"
    },
    {
     "data": {
      "image/png": "[encoded data removed]",
      "text/plain": [
       "<Figure size 432x288 with 1 Axes>"
      ]
     },
     "metadata": {
      "needs_background": "light"
     },
     "output_type": "display_data"
    }
   ],
   "source": [
    "#Check for outliers\n",
    "plan_minutes_per_month_pivot.boxplot()"
   ]
  },
  {
   "cell_type": "markdown",
   "metadata": {},
   "source": [
    "There are no outliers in minutes table"
   ]
  },
  {
   "cell_type": "code",
   "execution_count": 48,
   "metadata": {},
   "outputs": [
    {
     "data": {
      "text/plain": [
       "<matplotlib.axes._subplots.AxesSubplot at 0x7fc6dc6200d0>"
      ]
     },
     "execution_count": 48,
     "metadata": {},
     "output_type": "execute_result"
    },
    {
     "data": {
      "image/png": "[encoded data removed]",
      "text/plain": [
       "<Figure size 432x288 with 1 Axes>"
      ]
     },
     "metadata": {
      "needs_background": "light"
     },
     "output_type": "display_data"
    }
   ],
   "source": [
    "#Check for outliers\n",
    "plan_messages_per_month_pivot.boxplot()"
   ]
  },
  {
   "cell_type": "markdown",
   "metadata": {},
   "source": [
    "There are no outliers in messages table"
   ]
  },
  {
   "cell_type": "code",
   "execution_count": 49,
   "metadata": {},
   "outputs": [
    {
     "data": {
      "text/plain": [
       "<matplotlib.axes._subplots.AxesSubplot at 0x7fc6dc562250>"
      ]
     },
     "execution_count": 49,
     "metadata": {},
     "output_type": "execute_result"
    },
    {
     "data": {
      "image/png": "[encoded data removed]",
      "text/plain": [
       "<Figure size 432x288 with 1 Axes>"
      ]
     },
     "metadata": {
      "needs_background": "light"
     },
     "output_type": "display_data"
    }
   ],
   "source": [
    "#Check for outliers\n",
    "plan_data_per_month_pivot.boxplot()"
   ]
  },
  {
   "cell_type": "markdown",
   "metadata": {},
   "source": [
    "There are no outliers in data table"
   ]
  },
  {
   "cell_type": "code",
   "execution_count": 50,
   "metadata": {},
   "outputs": [
    {
     "data": {
      "text/plain": [
       "<matplotlib.axes._subplots.AxesSubplot at 0x7fc6dc4e5910>"
      ]
     },
     "execution_count": 50,
     "metadata": {},
     "output_type": "execute_result"
    },
    {
     "data": {
      "image/png": "[encoded data removed]",
      "text/plain": [
       "<Figure size 432x288 with 1 Axes>"
      ]
     },
     "metadata": {
      "needs_background": "light"
     },
     "output_type": "display_data"
    }
   ],
   "source": [
    "#Check for outliers\n",
    "plan_revenue_per_month_pivot.boxplot()"
   ]
  },
  {
   "cell_type": "markdown",
   "metadata": {},
   "source": [
    "There is an outleir in revenue table."
   ]
  },
  {
   "cell_type": "code",
   "execution_count": 51,
   "metadata": {},
   "outputs": [
    {
     "data": {
      "text/html": [
       "<div>\n",
       "<style scoped>\n",
       "    .dataframe tbody tr th:only-of-type {\n",
       "        vertical-align: middle;\n",
       "    }\n",
       "\n",
       "    .dataframe tbody tr th {\n",
       "        vertical-align: top;\n",
       "    }\n",
       "\n",
       "    .dataframe thead th {\n",
       "        text-align: right;\n",
       "    }\n",
       "</style>\n",
       "<table border=\"1\" class=\"dataframe\">\n",
       "  <thead>\n",
       "    <tr style=\"text-align: right;\">\n",
       "      <th>plan</th>\n",
       "      <th>surf</th>\n",
       "      <th>ultimate</th>\n",
       "    </tr>\n",
       "    <tr>\n",
       "      <th>month</th>\n",
       "      <th></th>\n",
       "      <th></th>\n",
       "    </tr>\n",
       "  </thead>\n",
       "  <tbody>\n",
       "    <tr>\n",
       "      <td>1</td>\n",
       "      <td>40.00</td>\n",
       "      <td>280.0</td>\n",
       "    </tr>\n",
       "    <tr>\n",
       "      <td>2</td>\n",
       "      <td>325.17</td>\n",
       "      <td>490.0</td>\n",
       "    </tr>\n",
       "    <tr>\n",
       "      <td>3</td>\n",
       "      <td>1067.05</td>\n",
       "      <td>55720.0</td>\n",
       "    </tr>\n",
       "    <tr>\n",
       "      <td>4</td>\n",
       "      <td>2044.33</td>\n",
       "      <td>68390.0</td>\n",
       "    </tr>\n",
       "    <tr>\n",
       "      <td>5</td>\n",
       "      <td>3742.17</td>\n",
       "      <td>19950.0</td>\n",
       "    </tr>\n",
       "    <tr>\n",
       "      <td>6</td>\n",
       "      <td>4792.60</td>\n",
       "      <td>77210.0</td>\n",
       "    </tr>\n",
       "    <tr>\n",
       "      <td>7</td>\n",
       "      <td>7729.16</td>\n",
       "      <td>120050.0</td>\n",
       "    </tr>\n",
       "    <tr>\n",
       "      <td>8</td>\n",
       "      <td>10509.65</td>\n",
       "      <td>219730.0</td>\n",
       "    </tr>\n",
       "    <tr>\n",
       "      <td>9</td>\n",
       "      <td>11429.87</td>\n",
       "      <td>183820.0</td>\n",
       "    </tr>\n",
       "    <tr>\n",
       "      <td>10</td>\n",
       "      <td>15614.83</td>\n",
       "      <td>257180.0</td>\n",
       "    </tr>\n",
       "    <tr>\n",
       "      <td>11</td>\n",
       "      <td>16718.41</td>\n",
       "      <td>230650.0</td>\n",
       "    </tr>\n",
       "  </tbody>\n",
       "</table>\n",
       "</div>"
      ],
      "text/plain": [
       "plan       surf  ultimate\n",
       "month                    \n",
       "1         40.00     280.0\n",
       "2        325.17     490.0\n",
       "3       1067.05   55720.0\n",
       "4       2044.33   68390.0\n",
       "5       3742.17   19950.0\n",
       "6       4792.60   77210.0\n",
       "7       7729.16  120050.0\n",
       "8      10509.65  219730.0\n",
       "9      11429.87  183820.0\n",
       "10     15614.83  257180.0\n",
       "11     16718.41  230650.0"
      ]
     },
     "execution_count": 51,
     "metadata": {},
     "output_type": "execute_result"
    }
   ],
   "source": [
    "#Remove outliers from revenue \n",
    "plan_revenue_per_month_pivot = plan_revenue_per_month_pivot.query('ultimate < 500000')\n",
    "plan_revenue_per_month_pivot"
   ]
  },
  {
   "cell_type": "code",
   "execution_count": 52,
   "metadata": {},
   "outputs": [],
   "source": [
    "#Calculate mean\n",
    "#plan_minutes_per_month_pivot['mean'] = plan_minutes_per_month_pivot.mean(axis=1)\n",
    "#plan_messages_per_month_pivot['mean'] = plan_messages_per_month_pivot.mean(axis=1)\n",
    "#plan_data_per_month_pivot['mean'] = plan_data_per_month_pivot.mean(axis=1)"
   ]
  },
  {
   "cell_type": "code",
   "execution_count": 53,
   "metadata": {},
   "outputs": [],
   "source": [
    "#Calculate variance\n",
    "#plan_minutes_per_month_pivot['variance'] = plan_minutes_per_month_pivot.var(axis=1)\n",
    "#plan_messages_per_month_pivot['variance'] = plan_messages_per_month_pivot.var(axis=1)\n",
    "#plan_data_per_month_pivot['variance'] = plan_data_per_month_pivot.var(axis=1)"
   ]
  },
  {
   "cell_type": "code",
   "execution_count": 54,
   "metadata": {},
   "outputs": [],
   "source": [
    "#Calculate std\n",
    "#plan_minutes_per_month_pivot['std'] = plan_minutes_per_month_pivot.std(axis=1)\n",
    "#plan_messages_per_month_pivot['std'] = plan_messages_per_month_pivot.std(axis=1)\n",
    "#plan_data_per_month_pivot['std'] = plan_data_per_month_pivot.std(axis=1)"
   ]
  },
  {
   "cell_type": "code",
   "execution_count": 55,
   "metadata": {},
   "outputs": [],
   "source": [
    "# minutes mean\n",
    "minutes_mean = plan_minutes_per_month_pivot.mean()\n",
    "#minutes variance\n",
    "minutes_variance =  plan_minutes_per_month_pivot.var()\n",
    "#minutes standard deviation\n",
    "minutes_std = plan_minutes_per_month_pivot.std()"
   ]
  },
  {
   "cell_type": "code",
   "execution_count": 56,
   "metadata": {},
   "outputs": [],
   "source": [
    "# messages mean\n",
    "messages_mean = plan_messages_per_month_pivot.mean()\n",
    "#messages variance\n",
    "messages_variance = plan_messages_per_month_pivot.var()\n",
    "#messages standard deviation\n",
    "messages_std = plan_messages_per_month_pivot.std()"
   ]
  },
  {
   "cell_type": "code",
   "execution_count": 57,
   "metadata": {},
   "outputs": [],
   "source": [
    "# data mean\n",
    "data_mean = plan_data_per_month_pivot.mean()\n",
    "#data variance\n",
    "data_variance = plan_data_per_month_pivot.var()\n",
    "#data standard deviation\n",
    "data_std = plan_data_per_month_pivot.std()"
   ]
  },
  {
   "cell_type": "code",
   "execution_count": 58,
   "metadata": {},
   "outputs": [
    {
     "name": "stdout",
     "output_type": "stream",
     "text": [
      "The \u001b[1m\u001b[31maverage minutes\u001b[0m usage in \u001b[1m\u001b[31msurf\u001b[0m plan is: 56202\n",
      "The \u001b[1m\u001b[31mvariance of minutes\u001b[0m usage in \u001b[1m\u001b[31msurf\u001b[0m  plan is: 2402963285 \n",
      "The \u001b[1m\u001b[31mstandard deviation of minutes\u001b[0m usage in \u001b[1m\u001b[31msurf\u001b[0m plan is: 49021 \n",
      "\n",
      "The \u001b[1m\u001b[31maverage messages\u001b[0m usage in \u001b[1m\u001b[31msurf\u001b[0m plan is: 4085\n",
      "The \u001b[1m\u001b[31mvariance of messages\u001b[0m usage in \u001b[1m\u001b[31msurf\u001b[0m plan is: 16107219 \n",
      "The \u001b[1m\u001b[31mstandard deviation of messages\u001b[0m usage in \u001b[1m\u001b[31msurf\u001b[0m plan is: 4014 \n",
      "\n",
      "The \u001b[1m\u001b[31maverage data\u001b[0m usage in \u001b[1m\u001b[31msurf\u001b[0m plan is: 2233334\n",
      "The \u001b[1m\u001b[31mvariance of data\u001b[0m  usage in \u001b[1m\u001b[31msurf\u001b[0m plan is: 3896840969697 \n",
      "The \u001b[1m\u001b[31mstandard deviation of data\u001b[0m usage in \u001b[1m\u001b[31msurf\u001b[0m plan is: 1974042 \n",
      "\n",
      "The \u001b[1m\u001b[31maverage minutes\u001b[0m usage in \u001b[1m\u001b[31multimate\u001b[0m plan is: 25827\n",
      "The \u001b[1m\u001b[31mvariance of minutes\u001b[0m usage in \u001b[1m\u001b[31multimate\u001b[0m plan is: 521959519 \n",
      "The \u001b[1m\u001b[31mstandard deviation of minutes\u001b[0m usage in \u001b[1m\u001b[31multimate\u001b[0m in surf plan is: 22847 \n",
      "\n",
      "The \u001b[1m\u001b[31maverage messages\u001b[0m usage in \u001b[1m\u001b[31multimate\u001b[0m plan is: 2254\n",
      "The \u001b[1m\u001b[31mvariance of messages\u001b[0m usage in \u001b[1m\u001b[31multimate\u001b[0m plan is: 4699501 \n",
      "The \u001b[1m\u001b[31mstandard deviation of messages\u001b[0m usage in \u001b[1m\u001b[31multimate\u001b[0m plan is: 2168 \n",
      "\n",
      "The \u001b[1m\u001b[31maverage data\u001b[0m usage in \u001b[1m\u001b[31multimate\u001b[0m plan is: 1063167\n",
      "The \u001b[1m\u001b[31mvariance of data\u001b[0m usage in \u001b[1m\u001b[31multimate\u001b[0m plan is: 828681242425 \n",
      "The \u001b[1m\u001b[31mstandard deviation of data\u001b[0m usage in \u001b[1m\u001b[31multimate\u001b[0m plan is: 910320 \n"
     ]
    }
   ],
   "source": [
    "print('The ' + colored('average minutes','red' , attrs=['bold'])  + ' usage in '+ colored('surf','red' , attrs=['bold'])  + ' plan is: {}'.format(math.ceil( minutes_mean['surf'])))\n",
    "print('The ' + colored('variance of minutes','red' , attrs=['bold'])  + ' usage in '+ colored('surf','red' , attrs=['bold'])  + '  plan is: {} '.format(math.ceil(minutes_variance['surf'])))\n",
    "print('The ' + colored('standard deviation of minutes','red' , attrs=['bold'])  + ' usage in '+ colored('surf','red' , attrs=['bold'])  + ' plan is: {} '.format(math.ceil(minutes_std['surf'])))\n",
    "print()\n",
    "print('The ' + colored('average messages','red' , attrs=['bold'])  + ' usage in '+ colored('surf','red' , attrs=['bold'])  + ' plan is: {}'.format(math.ceil( messages_mean['surf'])))\n",
    "print('The ' + colored('variance of messages','red' , attrs=['bold'])  + ' usage in '+ colored('surf','red' , attrs=['bold'])  + ' plan is: {} '.format(math.ceil(messages_variance['surf'])))\n",
    "print('The ' + colored('standard deviation of messages','red' , attrs=['bold'])  + ' usage in '+ colored('surf','red' , attrs=['bold'])  + ' plan is: {} '.format(math.ceil(messages_std['surf'])))\n",
    "print()\n",
    "print('The ' + colored('average data','red' , attrs=['bold'])  + ' usage in '+ colored('surf','red' , attrs=['bold'])  + ' plan is: {}'.format(math.ceil( data_mean['surf'])))\n",
    "print('The ' + colored('variance of data','red' , attrs=['bold'])  + '  usage in '+ colored('surf','red' , attrs=['bold'])  + ' plan is: {} '.format(math.ceil(data_variance['surf'])))\n",
    "print('The ' + colored('standard deviation of data','red' , attrs=['bold'])  + ' usage in '+ colored('surf','red' , attrs=['bold'])  + ' plan is: {} '.format(math.ceil(data_std['surf'])))\n",
    "print()\n",
    "print('The ' + colored('average minutes','red' , attrs=['bold'])  + ' usage in '+ colored('ultimate','red' , attrs=['bold'])  + ' plan is: {}'.format(math.ceil(minutes_mean['ultimate'])))\n",
    "print('The ' + colored('variance of minutes','red' , attrs=['bold'])  + ' usage in '+ colored('ultimate','red' , attrs=['bold'])  + ' plan is: {} '.format(math.ceil(minutes_variance['ultimate'])))\n",
    "print('The ' + colored('standard deviation of minutes','red' , attrs=['bold'])  + ' usage in '+ colored('ultimate','red' , attrs=['bold'])  + ' in surf plan is: {} '.format(math.ceil(minutes_std['ultimate'])))\n",
    "print()\n",
    "print('The ' + colored('average messages','red' , attrs=['bold'])  + ' usage in '+ colored('ultimate','red' , attrs=['bold'])  + ' plan is: {}'.format(math.ceil( messages_mean['ultimate'])))\n",
    "print('The ' + colored('variance of messages','red' , attrs=['bold'])  + ' usage in '+ colored('ultimate','red' , attrs=['bold'])  + ' plan is: {} '.format(math.ceil(messages_variance['ultimate'])))\n",
    "print('The ' + colored('standard deviation of messages','red' , attrs=['bold'])  + ' usage in '+ colored('ultimate','red' , attrs=['bold'])  + ' plan is: {} '.format(math.ceil(messages_std['ultimate'])))\n",
    "print()\n",
    "print('The ' + colored('average data','red' , attrs=['bold'])  + ' usage in '+ colored('ultimate','red' , attrs=['bold'])  + ' plan is: {}'.format(math.ceil( data_mean['ultimate'])))\n",
    "print('The ' + colored('variance of data','red' , attrs=['bold'])  + ' usage in '+ colored('ultimate','red' , attrs=['bold'])  + ' plan is: {} '.format(math.ceil(data_variance['ultimate'])))\n",
    "print('The ' + colored('standard deviation of data','red' , attrs=['bold'])  + ' usage in '+ colored('ultimate','red' , attrs=['bold'])  + ' plan is: {} '.format(math.ceil(data_std['ultimate'])))"
   ]
  },
  {
   "cell_type": "code",
   "execution_count": 59,
   "metadata": {},
   "outputs": [
    {
     "data": {
      "text/html": [
       "<div>\n",
       "<style scoped>\n",
       "    .dataframe tbody tr th:only-of-type {\n",
       "        vertical-align: middle;\n",
       "    }\n",
       "\n",
       "    .dataframe tbody tr th {\n",
       "        vertical-align: top;\n",
       "    }\n",
       "\n",
       "    .dataframe thead th {\n",
       "        text-align: right;\n",
       "    }\n",
       "</style>\n",
       "<table border=\"1\" class=\"dataframe\">\n",
       "  <thead>\n",
       "    <tr style=\"text-align: right;\">\n",
       "      <th></th>\n",
       "      <th>average_minutes</th>\n",
       "      <th>variance_minutes</th>\n",
       "      <th>std_minutes</th>\n",
       "    </tr>\n",
       "  </thead>\n",
       "  <tbody>\n",
       "    <tr>\n",
       "      <td>surf</td>\n",
       "      <td>56202</td>\n",
       "      <td>2402963285</td>\n",
       "      <td>49021</td>\n",
       "    </tr>\n",
       "    <tr>\n",
       "      <td>ultimate</td>\n",
       "      <td>25827</td>\n",
       "      <td>521959519</td>\n",
       "      <td>22847</td>\n",
       "    </tr>\n",
       "  </tbody>\n",
       "</table>\n",
       "</div>"
      ],
      "text/plain": [
       "          average_minutes  variance_minutes  std_minutes\n",
       "surf                56202        2402963285        49021\n",
       "ultimate            25827         521959519        22847"
      ]
     },
     "execution_count": 59,
     "metadata": {},
     "output_type": "execute_result"
    }
   ],
   "source": [
    "minutes_data = {'average_minutes':[math.ceil( minutes_mean['surf']),math.ceil(minutes_mean['ultimate'])],\n",
    "             'variance_minutes':[math.ceil(minutes_variance['surf']),math.ceil(minutes_variance['ultimate'])],\n",
    "             'std_minutes':[math.ceil(minutes_std['surf']),math.ceil(minutes_std['ultimate'])]\n",
    "            \n",
    "            \n",
    "            }\n",
    "\n",
    "minutes_summary = pd.DataFrame(minutes_data,index=['surf','ultimate'])\n",
    "minutes_summary"
   ]
  },
  {
   "cell_type": "markdown",
   "metadata": {},
   "source": [
    "Clients from 'surf' plan are talking more minutes in average than 'ultimate' plan"
   ]
  },
  {
   "cell_type": "code",
   "execution_count": 60,
   "metadata": {},
   "outputs": [
    {
     "data": {
      "text/html": [
       "<div>\n",
       "<style scoped>\n",
       "    .dataframe tbody tr th:only-of-type {\n",
       "        vertical-align: middle;\n",
       "    }\n",
       "\n",
       "    .dataframe tbody tr th {\n",
       "        vertical-align: top;\n",
       "    }\n",
       "\n",
       "    .dataframe thead th {\n",
       "        text-align: right;\n",
       "    }\n",
       "</style>\n",
       "<table border=\"1\" class=\"dataframe\">\n",
       "  <thead>\n",
       "    <tr style=\"text-align: right;\">\n",
       "      <th></th>\n",
       "      <th>average_messages</th>\n",
       "      <th>variance_messages</th>\n",
       "      <th>std_messages</th>\n",
       "    </tr>\n",
       "  </thead>\n",
       "  <tbody>\n",
       "    <tr>\n",
       "      <td>surf</td>\n",
       "      <td>4085</td>\n",
       "      <td>16107219</td>\n",
       "      <td>4014</td>\n",
       "    </tr>\n",
       "    <tr>\n",
       "      <td>ultimate</td>\n",
       "      <td>2254</td>\n",
       "      <td>4699501</td>\n",
       "      <td>2168</td>\n",
       "    </tr>\n",
       "  </tbody>\n",
       "</table>\n",
       "</div>"
      ],
      "text/plain": [
       "          average_messages   variance_messages   std_messages \n",
       "surf                   4085            16107219           4014\n",
       "ultimate               2254             4699501           2168"
      ]
     },
     "execution_count": 60,
     "metadata": {},
     "output_type": "execute_result"
    }
   ],
   "source": [
    "messages_data = {'average_messages ':[math.ceil( messages_mean['surf']),math.ceil(messages_mean['ultimate'])],\n",
    "             'variance_messages ':[math.ceil(messages_variance['surf']),math.ceil(messages_variance['ultimate'])],\n",
    "             'std_messages ':[math.ceil(messages_std['surf']),math.ceil(messages_std['ultimate'])]\n",
    "            \n",
    "            \n",
    "            }\n",
    "\n",
    "messages_summary = pd.DataFrame(messages_data,index=['surf','ultimate'])\n",
    "messages_summary"
   ]
  },
  {
   "cell_type": "markdown",
   "metadata": {},
   "source": [
    "Clients from 'surf' plan are using more messages in average than 'ultimate' plan"
   ]
  },
  {
   "cell_type": "code",
   "execution_count": 61,
   "metadata": {},
   "outputs": [
    {
     "data": {
      "text/html": [
       "<div>\n",
       "<style scoped>\n",
       "    .dataframe tbody tr th:only-of-type {\n",
       "        vertical-align: middle;\n",
       "    }\n",
       "\n",
       "    .dataframe tbody tr th {\n",
       "        vertical-align: top;\n",
       "    }\n",
       "\n",
       "    .dataframe thead th {\n",
       "        text-align: right;\n",
       "    }\n",
       "</style>\n",
       "<table border=\"1\" class=\"dataframe\">\n",
       "  <thead>\n",
       "    <tr style=\"text-align: right;\">\n",
       "      <th></th>\n",
       "      <th>average_mb</th>\n",
       "      <th>variance_mb</th>\n",
       "      <th>std_mb</th>\n",
       "    </tr>\n",
       "  </thead>\n",
       "  <tbody>\n",
       "    <tr>\n",
       "      <td>surf</td>\n",
       "      <td>2233334</td>\n",
       "      <td>3896840969697</td>\n",
       "      <td>1974042</td>\n",
       "    </tr>\n",
       "    <tr>\n",
       "      <td>ultimate</td>\n",
       "      <td>1063167</td>\n",
       "      <td>828681242425</td>\n",
       "      <td>910320</td>\n",
       "    </tr>\n",
       "  </tbody>\n",
       "</table>\n",
       "</div>"
      ],
      "text/plain": [
       "          average_mb    variance_mb   std_mb \n",
       "surf          2233334  3896840969697  1974042\n",
       "ultimate      1063167   828681242425   910320"
      ]
     },
     "execution_count": 61,
     "metadata": {},
     "output_type": "execute_result"
    }
   ],
   "source": [
    "mb_data = {'average_mb ':[math.ceil( data_mean['surf']),math.ceil(data_mean['ultimate'])],\n",
    "             'variance_mb ':[math.ceil(data_variance['surf']),math.ceil(data_variance['ultimate'])],\n",
    "             'std_mb ':[math.ceil(data_std['surf']),math.ceil(data_std['ultimate'])]\n",
    "            \n",
    "            \n",
    "            }\n",
    "\n",
    "mb_summary = pd.DataFrame(mb_data,index=['surf','ultimate'])\n",
    "mb_summary"
   ]
  },
  {
   "cell_type": "markdown",
   "metadata": {},
   "source": [
    "Clients from 'surf' plan are using more data in average than 'ultimate' plan"
   ]
  },
  {
   "cell_type": "markdown",
   "metadata": {},
   "source": [
    "### Conclusion"
   ]
  },
  {
   "cell_type": "markdown",
   "metadata": {},
   "source": [
    "1. Each month there is an increment using minutes, messages and data in both plans\n",
    "2. 'surf' users are using more minutes, messages and data then users in 'ultemate' plan and paying less money\n",
    "3. The total revenue from all 'ultemate' users is significantly higher than total revenue from all 'surf' users and also increases every month"
   ]
  },
  {
   "cell_type": "markdown",
   "metadata": {},
   "source": [
    "## Test the hypotheses"
   ]
  },
  {
   "cell_type": "markdown",
   "metadata": {},
   "source": [
    "### The average revenue from users of Ultimate and Surf calling plans differs"
   ]
  },
  {
   "cell_type": "markdown",
   "metadata": {},
   "source": [
    " 1. null hypothesis H₀ - \"The average revenue from users of Ultimate and Surf calling plans are equal.\"\n",
    " 2. alternative hypothesis H₁ - \"The average revenue from users of Ultimate and Surf calling plans differs.\""
   ]
  },
  {
   "cell_type": "code",
   "execution_count": 62,
   "metadata": {},
   "outputs": [
    {
     "data": {
      "text/html": [
       "<div>\n",
       "<style scoped>\n",
       "    .dataframe tbody tr th:only-of-type {\n",
       "        vertical-align: middle;\n",
       "    }\n",
       "\n",
       "    .dataframe tbody tr th {\n",
       "        vertical-align: top;\n",
       "    }\n",
       "\n",
       "    .dataframe thead th {\n",
       "        text-align: right;\n",
       "    }\n",
       "</style>\n",
       "<table border=\"1\" class=\"dataframe\">\n",
       "  <thead>\n",
       "    <tr style=\"text-align: right;\">\n",
       "      <th></th>\n",
       "      <th>user_id</th>\n",
       "      <th>month</th>\n",
       "      <th>total_duration</th>\n",
       "      <th>number_of_calls</th>\n",
       "      <th>total_messages</th>\n",
       "      <th>total_mb_used</th>\n",
       "      <th>plan</th>\n",
       "      <th>revenue</th>\n",
       "    </tr>\n",
       "  </thead>\n",
       "  <tbody>\n",
       "    <tr>\n",
       "      <td>0</td>\n",
       "      <td>1000</td>\n",
       "      <td>12</td>\n",
       "      <td>124.0</td>\n",
       "      <td>16.0</td>\n",
       "      <td>11.0</td>\n",
       "      <td>2000.0</td>\n",
       "      <td>ultimate</td>\n",
       "      <td>70.00</td>\n",
       "    </tr>\n",
       "    <tr>\n",
       "      <td>1</td>\n",
       "      <td>1001</td>\n",
       "      <td>8</td>\n",
       "      <td>182.0</td>\n",
       "      <td>27.0</td>\n",
       "      <td>30.0</td>\n",
       "      <td>7000.0</td>\n",
       "      <td>surf</td>\n",
       "      <td>20.00</td>\n",
       "    </tr>\n",
       "    <tr>\n",
       "      <td>2</td>\n",
       "      <td>1001</td>\n",
       "      <td>9</td>\n",
       "      <td>315.0</td>\n",
       "      <td>49.0</td>\n",
       "      <td>44.0</td>\n",
       "      <td>14000.0</td>\n",
       "      <td>surf</td>\n",
       "      <td>20.00</td>\n",
       "    </tr>\n",
       "    <tr>\n",
       "      <td>3</td>\n",
       "      <td>1001</td>\n",
       "      <td>10</td>\n",
       "      <td>393.0</td>\n",
       "      <td>65.0</td>\n",
       "      <td>53.0</td>\n",
       "      <td>23000.0</td>\n",
       "      <td>surf</td>\n",
       "      <td>96.49</td>\n",
       "    </tr>\n",
       "    <tr>\n",
       "      <td>4</td>\n",
       "      <td>1001</td>\n",
       "      <td>11</td>\n",
       "      <td>426.0</td>\n",
       "      <td>64.0</td>\n",
       "      <td>36.0</td>\n",
       "      <td>19000.0</td>\n",
       "      <td>surf</td>\n",
       "      <td>56.40</td>\n",
       "    </tr>\n",
       "    <tr>\n",
       "      <td>...</td>\n",
       "      <td>...</td>\n",
       "      <td>...</td>\n",
       "      <td>...</td>\n",
       "      <td>...</td>\n",
       "      <td>...</td>\n",
       "      <td>...</td>\n",
       "      <td>...</td>\n",
       "      <td>...</td>\n",
       "    </tr>\n",
       "    <tr>\n",
       "      <td>2253</td>\n",
       "      <td>1498</td>\n",
       "      <td>12</td>\n",
       "      <td>339.0</td>\n",
       "      <td>39.0</td>\n",
       "      <td>0.0</td>\n",
       "      <td>24000.0</td>\n",
       "      <td>surf</td>\n",
       "      <td>106.40</td>\n",
       "    </tr>\n",
       "    <tr>\n",
       "      <td>2254</td>\n",
       "      <td>1499</td>\n",
       "      <td>9</td>\n",
       "      <td>346.0</td>\n",
       "      <td>41.0</td>\n",
       "      <td>0.0</td>\n",
       "      <td>13000.0</td>\n",
       "      <td>surf</td>\n",
       "      <td>20.00</td>\n",
       "    </tr>\n",
       "    <tr>\n",
       "      <td>2255</td>\n",
       "      <td>1499</td>\n",
       "      <td>10</td>\n",
       "      <td>385.0</td>\n",
       "      <td>53.0</td>\n",
       "      <td>0.0</td>\n",
       "      <td>20000.0</td>\n",
       "      <td>surf</td>\n",
       "      <td>66.40</td>\n",
       "    </tr>\n",
       "    <tr>\n",
       "      <td>2256</td>\n",
       "      <td>1499</td>\n",
       "      <td>11</td>\n",
       "      <td>308.0</td>\n",
       "      <td>45.0</td>\n",
       "      <td>0.0</td>\n",
       "      <td>17000.0</td>\n",
       "      <td>surf</td>\n",
       "      <td>36.40</td>\n",
       "    </tr>\n",
       "    <tr>\n",
       "      <td>2257</td>\n",
       "      <td>1499</td>\n",
       "      <td>12</td>\n",
       "      <td>496.0</td>\n",
       "      <td>65.0</td>\n",
       "      <td>0.0</td>\n",
       "      <td>23000.0</td>\n",
       "      <td>surf</td>\n",
       "      <td>96.40</td>\n",
       "    </tr>\n",
       "  </tbody>\n",
       "</table>\n",
       "<p>2293 rows × 8 columns</p>\n",
       "</div>"
      ],
      "text/plain": [
       "      user_id  month  total_duration  number_of_calls  total_messages  \\\n",
       "0        1000     12           124.0             16.0            11.0   \n",
       "1        1001      8           182.0             27.0            30.0   \n",
       "2        1001      9           315.0             49.0            44.0   \n",
       "3        1001     10           393.0             65.0            53.0   \n",
       "4        1001     11           426.0             64.0            36.0   \n",
       "...       ...    ...             ...              ...             ...   \n",
       "2253     1498     12           339.0             39.0             0.0   \n",
       "2254     1499      9           346.0             41.0             0.0   \n",
       "2255     1499     10           385.0             53.0             0.0   \n",
       "2256     1499     11           308.0             45.0             0.0   \n",
       "2257     1499     12           496.0             65.0             0.0   \n",
       "\n",
       "      total_mb_used      plan  revenue  \n",
       "0            2000.0  ultimate    70.00  \n",
       "1            7000.0      surf    20.00  \n",
       "2           14000.0      surf    20.00  \n",
       "3           23000.0      surf    96.49  \n",
       "4           19000.0      surf    56.40  \n",
       "...             ...       ...      ...  \n",
       "2253        24000.0      surf   106.40  \n",
       "2254        13000.0      surf    20.00  \n",
       "2255        20000.0      surf    66.40  \n",
       "2256        17000.0      surf    36.40  \n",
       "2257        23000.0      surf    96.40  \n",
       "\n",
       "[2293 rows x 8 columns]"
      ]
     },
     "execution_count": 62,
     "metadata": {},
     "output_type": "execute_result"
    }
   ],
   "source": [
    "#Explorer the data\n",
    "merged_user_info_per_month"
   ]
  },
  {
   "cell_type": "code",
   "execution_count": 63,
   "metadata": {},
   "outputs": [],
   "source": [
    "#Get list of revenues for 'surf' plan\n",
    "surf_revenue = merged_user_info_per_month.query(\"plan == 'surf'\")['revenue']\n",
    "#Get list of revenues for 'ultimate' plan\n",
    "surf_ultimate = merged_user_info_per_month.query(\"plan == 'ultimate'\")['revenue']"
   ]
  },
  {
   "cell_type": "code",
   "execution_count": 64,
   "metadata": {},
   "outputs": [
    {
     "name": "stdout",
     "output_type": "stream",
     "text": [
      "p-value: 5.7083613800280655e-08\n",
      "We reject the null hypothesis H₀ - The average revenue from users of Ultimate and Surf calling plans are equal\n"
     ]
    }
   ],
   "source": [
    "#Check hypothesis\n",
    "hypothesis_results = st.ttest_ind(surf_revenue, surf_ultimate,equal_var= False)\n",
    "alpha = 0.05\n",
    "\n",
    "print('p-value:',hypothesis_results.pvalue)\n",
    "if (hypothesis_results.pvalue < alpha):\n",
    "    print(\"We reject the null hypothesis H₀ - The average revenue from users of Ultimate and Surf calling plans are equal\")\n",
    "else:\n",
    "    print(\"We can't reject the null hypothesis - The average revenue from users of Ultimate and Surf calling plans are equal\")"
   ]
  },
  {
   "cell_type": "markdown",
   "metadata": {},
   "source": [
    "### The average revenue from users in NY-NJ area is different from that of the users from other regions."
   ]
  },
  {
   "cell_type": "markdown",
   "metadata": {},
   "source": [
    "1. null hypothesis H₀ - \"The average revenue from users in NY-NJ area is equal from that of the users from other regions.\"\n",
    "2. alternative hypothesis H₁ - \"The average revenue from users in NY-NJ area is different from that of the users from other regions.\""
   ]
  },
  {
   "cell_type": "code",
   "execution_count": 65,
   "metadata": {},
   "outputs": [],
   "source": [
    "#Get users from 'NY-NJ' region\n",
    "NY_NJ_users = megaline_users[megaline_users.city.str.contains('NY-NJ')]['user_id']\n",
    "#Get users from other regions that are NOT 'NY-NJ' \n",
    "other_regions_users = megaline_users.query('user_id not in @NY_NJ_users')['user_id']"
   ]
  },
  {
   "cell_type": "code",
   "execution_count": 66,
   "metadata": {},
   "outputs": [],
   "source": [
    "NY_NJ_revenue = merged_user_info_per_month.query('user_id in @NY_NJ_users')['revenue']\n",
    "other_regions_revenue = merged_user_info_per_month.query('user_id not in @NY_NJ_users')['revenue']"
   ]
  },
  {
   "cell_type": "code",
   "execution_count": 67,
   "metadata": {},
   "outputs": [
    {
     "name": "stdout",
     "output_type": "stream",
     "text": [
      "p-value: 0.6024149404965126\n",
      "We can't reject the null hypothesis H₀ - The average revenue from users in NY-NJ area is equal from that of the users from other regions\n"
     ]
    }
   ],
   "source": [
    "#Check hypothesis\n",
    "hypothesis_results = st.ttest_ind(NY_NJ_revenue, other_regions_revenue,equal_var= False)\n",
    "alpha = 0.05\n",
    "\n",
    "print('p-value:',hypothesis_results.pvalue)\n",
    "if (hypothesis_results.pvalue < alpha):\n",
    "    print(\"We reject the null hypothesis H₀ - The average revenue from users in NY-NJ area is equal from that of the users from other regions\")\n",
    "else:\n",
    "    print(\"We can't reject the null hypothesis H₀ - The average revenue from users in NY-NJ area is equal from that of the users from other regions\")"
   ]
  },
  {
   "cell_type": "markdown",
   "metadata": {},
   "source": [
    "### Conclusion"
   ]
  },
  {
   "cell_type": "markdown",
   "metadata": {},
   "source": [
    "1. The average revenue from users of Ultimate and Surf calling plans are differs.\n",
    "2. The average revenue from users in NY-NJ area is equal to average revenue from users from other regions"
   ]
  },
  {
   "cell_type": "markdown",
   "metadata": {},
   "source": [
    "## overall conclusion"
   ]
  },
  {
   "cell_type": "markdown",
   "metadata": {},
   "source": [
    "1. Each month there is an increment using minutes, messages and data in both plans\n",
    "2. 'surf' users are using more minutes, messages and data then users in 'ultemate' plan and paying less money\n",
    "3. 'ultemate' users are paying more money and consuming less minutes, messages and data.\n",
    "4. The total revenue from all 'ultemate' users is significantly higher than total revenue from all 'surf' users and also increases every month\n",
    "5. The average revenue from users of Ultimate and Surf calling plans are differs.\n",
    "6. The average revenue from users in NY-NJ area is equal to average revenue from users from other regions\n",
    "7. 'ultemate' plan is more profitable \n",
    "8. Advertising budget should be focused on 'ultemate' users"
   ]
  },
  {
   "cell_type": "code",
   "execution_count": null,
   "metadata": {},
   "outputs": [],
   "source": []
  }
 ],
 "metadata": {
  "ExecuteTimeLog": [
   {
    "duration": 799,
    "start_time": "2021-07-05T07:02:17.492Z"
   },
   {
    "duration": 167,
    "start_time": "2021-07-05T07:02:18.294Z"
   },
   {
    "duration": 27,
    "start_time": "2021-07-05T07:06:59.732Z"
   },
   {
    "duration": 17,
    "start_time": "2021-07-05T07:12:44.274Z"
   },
   {
    "duration": 132,
    "start_time": "2021-07-05T07:14:23.033Z"
   },
   {
    "duration": 11,
    "start_time": "2021-07-05T07:16:52.761Z"
   },
   {
    "duration": 90,
    "start_time": "2021-07-05T07:18:05.227Z"
   },
   {
    "duration": 10,
    "start_time": "2021-07-05T07:19:23.201Z"
   },
   {
    "duration": 28,
    "start_time": "2021-07-05T07:21:23.891Z"
   },
   {
    "duration": 20,
    "start_time": "2021-07-05T07:21:46.225Z"
   },
   {
    "duration": 66,
    "start_time": "2021-07-05T07:49:18.105Z"
   },
   {
    "duration": 15,
    "start_time": "2021-07-05T07:49:35.113Z"
   },
   {
    "duration": 139,
    "start_time": "2021-07-05T07:53:21.031Z"
   },
   {
    "duration": 10,
    "start_time": "2021-07-05T07:53:26.145Z"
   },
   {
    "duration": 10,
    "start_time": "2021-07-05T07:53:28.661Z"
   },
   {
    "duration": 10,
    "start_time": "2021-07-05T07:53:31.642Z"
   },
   {
    "duration": 33,
    "start_time": "2021-07-05T08:06:58.704Z"
   },
   {
    "duration": 22,
    "start_time": "2021-07-05T08:06:59.972Z"
   },
   {
    "duration": 16,
    "start_time": "2021-07-05T08:07:00.769Z"
   },
   {
    "duration": 6,
    "start_time": "2021-07-05T08:07:01.446Z"
   },
   {
    "duration": 6,
    "start_time": "2021-07-05T08:07:02.051Z"
   },
   {
    "duration": 50,
    "start_time": "2021-07-05T08:07:09.171Z"
   },
   {
    "duration": 6,
    "start_time": "2021-07-05T08:08:00.878Z"
   },
   {
    "duration": 10,
    "start_time": "2021-07-05T08:08:07.992Z"
   },
   {
    "duration": 15,
    "start_time": "2021-07-05T08:08:52.225Z"
   },
   {
    "duration": 14,
    "start_time": "2021-07-05T08:08:55.063Z"
   },
   {
    "duration": 14,
    "start_time": "2021-07-05T08:08:57.705Z"
   },
   {
    "duration": 8,
    "start_time": "2021-07-05T08:08:59.944Z"
   },
   {
    "duration": 16,
    "start_time": "2021-07-05T09:35:19.880Z"
   },
   {
    "duration": 366,
    "start_time": "2021-07-05T09:37:04.125Z"
   },
   {
    "duration": 290,
    "start_time": "2021-07-05T09:37:18.153Z"
   },
   {
    "duration": 15,
    "start_time": "2021-07-05T09:37:29.636Z"
   },
   {
    "duration": 12,
    "start_time": "2021-07-05T09:38:41.744Z"
   },
   {
    "duration": 502,
    "start_time": "2021-07-05T09:39:02.212Z"
   },
   {
    "duration": 6,
    "start_time": "2021-07-05T09:39:52.089Z"
   },
   {
    "duration": 7,
    "start_time": "2021-07-05T09:40:01.904Z"
   },
   {
    "duration": 4,
    "start_time": "2021-07-05T09:40:28.074Z"
   },
   {
    "duration": 9,
    "start_time": "2021-07-05T09:40:57.958Z"
   },
   {
    "duration": 10,
    "start_time": "2021-07-05T09:41:00.355Z"
   },
   {
    "duration": 11,
    "start_time": "2021-07-05T09:41:10.159Z"
   },
   {
    "duration": 19,
    "start_time": "2021-07-05T09:57:31.954Z"
   },
   {
    "duration": 26,
    "start_time": "2021-07-05T10:00:14.184Z"
   },
   {
    "duration": 22,
    "start_time": "2021-07-05T10:00:25.867Z"
   },
   {
    "duration": 11,
    "start_time": "2021-07-05T10:15:21.476Z"
   },
   {
    "duration": 25,
    "start_time": "2021-07-05T10:15:35.826Z"
   },
   {
    "duration": 41,
    "start_time": "2021-07-05T10:21:30.647Z"
   },
   {
    "duration": 95,
    "start_time": "2021-07-05T10:34:29.978Z"
   },
   {
    "duration": 115,
    "start_time": "2021-07-05T10:34:42.465Z"
   },
   {
    "duration": 4,
    "start_time": "2021-07-05T10:35:57.771Z"
   },
   {
    "duration": 21,
    "start_time": "2021-07-05T10:53:49.400Z"
   },
   {
    "duration": 8411,
    "start_time": "2021-07-05T10:54:04.585Z"
   },
   {
    "duration": 14,
    "start_time": "2021-07-05T10:54:24.701Z"
   },
   {
    "duration": 19,
    "start_time": "2021-07-05T10:54:27.577Z"
   },
   {
    "duration": 14,
    "start_time": "2021-07-05T10:55:35.577Z"
   },
   {
    "duration": 17,
    "start_time": "2021-07-05T10:55:36.914Z"
   },
   {
    "duration": 10,
    "start_time": "2021-07-05T10:55:49.356Z"
   },
   {
    "duration": 27,
    "start_time": "2021-07-05T10:57:42.227Z"
   },
   {
    "duration": 15,
    "start_time": "2021-07-05T10:58:13.589Z"
   },
   {
    "duration": 11,
    "start_time": "2021-07-05T10:58:15.254Z"
   },
   {
    "duration": 5,
    "start_time": "2021-07-05T11:27:50.729Z"
   },
   {
    "duration": 505,
    "start_time": "2021-07-05T11:30:38.906Z"
   },
   {
    "duration": 12,
    "start_time": "2021-07-05T11:51:16.546Z"
   },
   {
    "duration": 45,
    "start_time": "2021-07-05T11:51:20.019Z"
   },
   {
    "duration": 41,
    "start_time": "2021-07-05T11:52:20.930Z"
   },
   {
    "duration": 34,
    "start_time": "2021-07-05T11:55:47.729Z"
   },
   {
    "duration": 47,
    "start_time": "2021-07-05T11:55:52.576Z"
   },
   {
    "duration": 35,
    "start_time": "2021-07-05T11:56:07.018Z"
   },
   {
    "duration": 11,
    "start_time": "2021-07-05T11:56:09.400Z"
   },
   {
    "duration": 12,
    "start_time": "2021-07-05T11:56:10.233Z"
   },
   {
    "duration": 51,
    "start_time": "2021-07-05T11:56:10.997Z"
   },
   {
    "duration": 20,
    "start_time": "2021-07-05T11:56:31.554Z"
   },
   {
    "duration": 47,
    "start_time": "2021-07-05T11:56:34.785Z"
   },
   {
    "duration": 291,
    "start_time": "2021-07-05T12:39:26.919Z"
   },
   {
    "duration": 12,
    "start_time": "2021-07-05T12:46:06.621Z"
   },
   {
    "duration": 25,
    "start_time": "2021-07-05T12:46:37.656Z"
   },
   {
    "duration": 304,
    "start_time": "2021-07-05T12:55:11.499Z"
   },
   {
    "duration": 304,
    "start_time": "2021-07-05T13:05:00.195Z"
   },
   {
    "duration": 14,
    "start_time": "2021-07-05T13:05:11.020Z"
   },
   {
    "duration": 13,
    "start_time": "2021-07-05T13:05:15.047Z"
   },
   {
    "duration": 106,
    "start_time": "2021-07-05T13:05:21.461Z"
   },
   {
    "duration": 3,
    "start_time": "2021-07-05T13:06:40.971Z"
   },
   {
    "duration": 197,
    "start_time": "2021-07-05T13:06:40.980Z"
   },
   {
    "duration": 11,
    "start_time": "2021-07-05T13:06:41.180Z"
   },
   {
    "duration": 148,
    "start_time": "2021-07-05T13:06:41.203Z"
   },
   {
    "duration": 12,
    "start_time": "2021-07-05T13:06:41.354Z"
   },
   {
    "duration": 131,
    "start_time": "2021-07-05T13:06:41.369Z"
   },
   {
    "duration": 18,
    "start_time": "2021-07-05T13:06:41.503Z"
   },
   {
    "duration": 30,
    "start_time": "2021-07-05T13:06:41.524Z"
   },
   {
    "duration": 18,
    "start_time": "2021-07-05T13:06:41.557Z"
   },
   {
    "duration": 52,
    "start_time": "2021-07-05T13:06:41.578Z"
   },
   {
    "duration": 16,
    "start_time": "2021-07-05T13:06:41.633Z"
   },
   {
    "duration": 32,
    "start_time": "2021-07-05T13:06:41.652Z"
   },
   {
    "duration": 34,
    "start_time": "2021-07-05T13:06:41.687Z"
   },
   {
    "duration": 18,
    "start_time": "2021-07-05T13:06:41.723Z"
   },
   {
    "duration": 7,
    "start_time": "2021-07-05T13:06:41.744Z"
   },
   {
    "duration": 12,
    "start_time": "2021-07-05T13:06:41.754Z"
   },
   {
    "duration": 19,
    "start_time": "2021-07-05T13:06:41.802Z"
   },
   {
    "duration": 19,
    "start_time": "2021-07-05T13:06:41.825Z"
   },
   {
    "duration": 12,
    "start_time": "2021-07-05T13:06:41.847Z"
   },
   {
    "duration": 49,
    "start_time": "2021-07-05T13:06:41.862Z"
   },
   {
    "duration": 20,
    "start_time": "2021-07-05T13:06:41.914Z"
   },
   {
    "duration": 23,
    "start_time": "2021-07-05T13:06:41.937Z"
   },
   {
    "duration": 39,
    "start_time": "2021-07-05T13:06:41.963Z"
   },
   {
    "duration": 29,
    "start_time": "2021-07-05T13:06:42.009Z"
   },
   {
    "duration": 3,
    "start_time": "2021-07-05T13:06:42.041Z"
   },
   {
    "duration": 14,
    "start_time": "2021-07-05T13:06:42.046Z"
   },
   {
    "duration": 330,
    "start_time": "2021-07-05T13:06:42.063Z"
   },
   {
    "duration": -563,
    "start_time": "2021-07-05T13:06:42.959Z"
   },
   {
    "duration": 17,
    "start_time": "2021-07-05T13:07:58.941Z"
   },
   {
    "duration": 22,
    "start_time": "2021-07-05T13:10:19.932Z"
   },
   {
    "duration": 4,
    "start_time": "2021-07-05T13:10:44.825Z"
   },
   {
    "duration": 177,
    "start_time": "2021-07-05T13:10:44.832Z"
   },
   {
    "duration": 15,
    "start_time": "2021-07-05T13:10:45.013Z"
   },
   {
    "duration": 141,
    "start_time": "2021-07-05T13:10:45.032Z"
   },
   {
    "duration": 11,
    "start_time": "2021-07-05T13:10:45.176Z"
   },
   {
    "duration": 88,
    "start_time": "2021-07-05T13:10:45.201Z"
   },
   {
    "duration": 13,
    "start_time": "2021-07-05T13:10:45.300Z"
   },
   {
    "duration": 25,
    "start_time": "2021-07-05T13:10:45.316Z"
   },
   {
    "duration": 14,
    "start_time": "2021-07-05T13:10:45.345Z"
   },
   {
    "duration": 40,
    "start_time": "2021-07-05T13:10:45.362Z"
   },
   {
    "duration": 21,
    "start_time": "2021-07-05T13:10:45.405Z"
   },
   {
    "duration": 39,
    "start_time": "2021-07-05T13:10:45.428Z"
   },
   {
    "duration": 39,
    "start_time": "2021-07-05T13:10:45.469Z"
   },
   {
    "duration": 19,
    "start_time": "2021-07-05T13:10:45.511Z"
   },
   {
    "duration": 5,
    "start_time": "2021-07-05T13:10:45.533Z"
   },
   {
    "duration": 8,
    "start_time": "2021-07-05T13:10:45.541Z"
   },
   {
    "duration": 49,
    "start_time": "2021-07-05T13:10:45.552Z"
   },
   {
    "duration": 22,
    "start_time": "2021-07-05T13:10:45.604Z"
   },
   {
    "duration": 12,
    "start_time": "2021-07-05T13:10:45.628Z"
   },
   {
    "duration": 9,
    "start_time": "2021-07-05T13:10:45.642Z"
   },
   {
    "duration": 56,
    "start_time": "2021-07-05T13:10:45.653Z"
   },
   {
    "duration": 28,
    "start_time": "2021-07-05T13:10:45.712Z"
   },
   {
    "duration": 14,
    "start_time": "2021-07-05T13:10:45.743Z"
   },
   {
    "duration": 48,
    "start_time": "2021-07-05T13:10:45.760Z"
   },
   {
    "duration": 28,
    "start_time": "2021-07-05T13:10:45.811Z"
   },
   {
    "duration": 3,
    "start_time": "2021-07-05T13:10:45.841Z"
   },
   {
    "duration": 18,
    "start_time": "2021-07-05T13:10:45.848Z"
   },
   {
    "duration": 41,
    "start_time": "2021-07-05T13:10:45.868Z"
   },
   {
    "duration": 21,
    "start_time": "2021-07-05T13:10:45.913Z"
   },
   {
    "duration": 71,
    "start_time": "2021-07-05T13:10:45.936Z"
   },
   {
    "duration": 56,
    "start_time": "2021-07-05T13:11:04.769Z"
   },
   {
    "duration": 95,
    "start_time": "2021-07-05T13:11:30.023Z"
   },
   {
    "duration": 335,
    "start_time": "2021-07-05T13:11:38.713Z"
   },
   {
    "duration": 15,
    "start_time": "2021-07-05T13:11:51.005Z"
   },
   {
    "duration": 26,
    "start_time": "2021-07-05T13:11:54.545Z"
   },
   {
    "duration": 38,
    "start_time": "2021-07-05T13:12:04.759Z"
   },
   {
    "duration": 44,
    "start_time": "2021-07-05T13:13:35.822Z"
   },
   {
    "duration": 285,
    "start_time": "2021-07-05T13:13:40.396Z"
   },
   {
    "duration": 11,
    "start_time": "2021-07-05T13:14:17.778Z"
   },
   {
    "duration": 23,
    "start_time": "2021-07-05T13:14:19.796Z"
   },
   {
    "duration": 19,
    "start_time": "2021-07-05T13:41:44.497Z"
   },
   {
    "duration": 44,
    "start_time": "2021-07-05T13:42:38.336Z"
   },
   {
    "duration": 308,
    "start_time": "2021-07-05T13:47:04.374Z"
   },
   {
    "duration": 295,
    "start_time": "2021-07-05T13:55:58.257Z"
   },
   {
    "duration": 335,
    "start_time": "2021-07-05T13:57:02.130Z"
   },
   {
    "duration": 3,
    "start_time": "2021-07-05T13:58:17.846Z"
   },
   {
    "duration": 23,
    "start_time": "2021-07-05T13:59:01.149Z"
   },
   {
    "duration": 307,
    "start_time": "2021-07-05T16:32:08.688Z"
   },
   {
    "duration": 16,
    "start_time": "2021-07-05T16:32:51.332Z"
   },
   {
    "duration": 28,
    "start_time": "2021-07-05T16:32:56.014Z"
   },
   {
    "duration": 54,
    "start_time": "2021-07-05T16:33:28.115Z"
   },
   {
    "duration": 31,
    "start_time": "2021-07-05T16:34:23.851Z"
   },
   {
    "duration": 55,
    "start_time": "2021-07-05T16:34:29.675Z"
   },
   {
    "duration": 34,
    "start_time": "2021-07-05T16:35:02.517Z"
   },
   {
    "duration": 8951,
    "start_time": "2021-07-05T16:38:05.590Z"
   },
   {
    "duration": -1145,
    "start_time": "2021-07-05T16:38:15.690Z"
   },
   {
    "duration": 403,
    "start_time": "2021-07-05T16:38:46.273Z"
   },
   {
    "duration": 44,
    "start_time": "2021-07-05T16:43:33.341Z"
   },
   {
    "duration": 3,
    "start_time": "2021-07-05T16:44:26.436Z"
   },
   {
    "duration": 336,
    "start_time": "2021-07-05T16:45:56.395Z"
   },
   {
    "duration": 7417,
    "start_time": "2021-07-05T16:49:29.093Z"
   },
   {
    "duration": 7752,
    "start_time": "2021-07-05T16:51:57.181Z"
   },
   {
    "duration": 48,
    "start_time": "2021-07-05T18:24:18.037Z"
   },
   {
    "duration": 48,
    "start_time": "2021-07-05T18:25:06.494Z"
   },
   {
    "duration": 15,
    "start_time": "2021-07-05T18:25:09.606Z"
   },
   {
    "duration": 10,
    "start_time": "2021-07-05T18:25:15.677Z"
   },
   {
    "duration": 27,
    "start_time": "2021-07-05T18:25:17.432Z"
   },
   {
    "duration": 73,
    "start_time": "2021-07-05T18:25:18.896Z"
   },
   {
    "duration": 19,
    "start_time": "2021-07-05T18:27:36.959Z"
   },
   {
    "duration": 19,
    "start_time": "2021-07-05T18:29:20.866Z"
   },
   {
    "duration": 21,
    "start_time": "2021-07-05T18:29:29.226Z"
   },
   {
    "duration": 66,
    "start_time": "2021-07-05T18:29:41.632Z"
   },
   {
    "duration": 16,
    "start_time": "2021-07-05T18:30:10.466Z"
   },
   {
    "duration": 17,
    "start_time": "2021-07-05T18:30:11.555Z"
   },
   {
    "duration": 24,
    "start_time": "2021-07-05T18:49:34.113Z"
   },
   {
    "duration": 49,
    "start_time": "2021-07-05T20:04:25.906Z"
   },
   {
    "duration": 18,
    "start_time": "2021-07-05T20:07:19.782Z"
   },
   {
    "duration": 69,
    "start_time": "2021-07-05T20:07:29.000Z"
   },
   {
    "duration": 22,
    "start_time": "2021-07-05T20:07:55.648Z"
   },
   {
    "duration": 500,
    "start_time": "2021-07-05T20:08:00.516Z"
   },
   {
    "duration": 24,
    "start_time": "2021-07-05T20:08:06.441Z"
   },
   {
    "duration": 495,
    "start_time": "2021-07-05T20:08:09.035Z"
   },
   {
    "duration": 24,
    "start_time": "2021-07-05T20:08:37.835Z"
   },
   {
    "duration": 4,
    "start_time": "2021-07-05T20:08:52.784Z"
   },
   {
    "duration": 279,
    "start_time": "2021-07-05T20:08:52.790Z"
   },
   {
    "duration": 10,
    "start_time": "2021-07-05T20:08:53.072Z"
   },
   {
    "duration": 763,
    "start_time": "2021-07-05T20:08:53.085Z"
   },
   {
    "duration": 12,
    "start_time": "2021-07-05T20:08:53.852Z"
   },
   {
    "duration": 252,
    "start_time": "2021-07-05T20:08:53.867Z"
   },
   {
    "duration": 15,
    "start_time": "2021-07-05T20:08:54.124Z"
   },
   {
    "duration": 49,
    "start_time": "2021-07-05T20:08:54.142Z"
   },
   {
    "duration": 36,
    "start_time": "2021-07-05T20:08:54.193Z"
   },
   {
    "duration": 66,
    "start_time": "2021-07-05T20:08:54.232Z"
   },
   {
    "duration": 34,
    "start_time": "2021-07-05T20:08:54.300Z"
   },
   {
    "duration": 31,
    "start_time": "2021-07-05T20:08:54.337Z"
   },
   {
    "duration": 34,
    "start_time": "2021-07-05T20:08:54.370Z"
   },
   {
    "duration": 41,
    "start_time": "2021-07-05T20:08:54.407Z"
   },
   {
    "duration": 12,
    "start_time": "2021-07-05T20:08:54.452Z"
   },
   {
    "duration": 14,
    "start_time": "2021-07-05T20:08:54.467Z"
   },
   {
    "duration": 21,
    "start_time": "2021-07-05T20:08:54.484Z"
   },
   {
    "duration": 36,
    "start_time": "2021-07-05T20:08:54.514Z"
   },
   {
    "duration": 17,
    "start_time": "2021-07-05T20:08:54.556Z"
   },
   {
    "duration": 28,
    "start_time": "2021-07-05T20:08:54.576Z"
   },
   {
    "duration": 22,
    "start_time": "2021-07-05T20:08:54.611Z"
   },
   {
    "duration": 27,
    "start_time": "2021-07-05T20:08:54.639Z"
   },
   {
    "duration": 66,
    "start_time": "2021-07-05T20:08:54.669Z"
   },
   {
    "duration": 22,
    "start_time": "2021-07-05T20:08:54.738Z"
   },
   {
    "duration": 95,
    "start_time": "2021-07-05T20:08:54.763Z"
   },
   {
    "duration": 58,
    "start_time": "2021-07-05T20:08:54.861Z"
   },
   {
    "duration": 4,
    "start_time": "2021-07-05T20:08:54.922Z"
   },
   {
    "duration": 33,
    "start_time": "2021-07-05T20:08:54.930Z"
   },
   {
    "duration": 63,
    "start_time": "2021-07-05T20:08:54.966Z"
   },
   {
    "duration": 511,
    "start_time": "2021-07-05T20:09:01.775Z"
   },
   {
    "duration": 13,
    "start_time": "2021-07-05T20:09:42.691Z"
   },
   {
    "duration": 70,
    "start_time": "2021-07-05T20:09:48.380Z"
   },
   {
    "duration": 19,
    "start_time": "2021-07-05T20:10:30.571Z"
   },
   {
    "duration": 44,
    "start_time": "2021-07-05T20:10:38.391Z"
   },
   {
    "duration": 66,
    "start_time": "2021-07-05T20:11:15.196Z"
   },
   {
    "duration": 18,
    "start_time": "2021-07-05T20:11:38.064Z"
   },
   {
    "duration": 26,
    "start_time": "2021-07-05T20:12:19.717Z"
   },
   {
    "duration": 478,
    "start_time": "2021-07-05T20:12:25.776Z"
   },
   {
    "duration": 3,
    "start_time": "2021-07-05T20:13:26.409Z"
   },
   {
    "duration": 243,
    "start_time": "2021-07-05T20:13:26.419Z"
   },
   {
    "duration": 13,
    "start_time": "2021-07-05T20:13:26.665Z"
   },
   {
    "duration": 170,
    "start_time": "2021-07-05T20:13:26.681Z"
   },
   {
    "duration": 12,
    "start_time": "2021-07-05T20:13:26.855Z"
   },
   {
    "duration": 115,
    "start_time": "2021-07-05T20:13:26.870Z"
   },
   {
    "duration": 10,
    "start_time": "2021-07-05T20:13:26.988Z"
   },
   {
    "duration": 148,
    "start_time": "2021-07-05T20:13:27.005Z"
   },
   {
    "duration": 24,
    "start_time": "2021-07-05T20:13:27.156Z"
   },
   {
    "duration": 64,
    "start_time": "2021-07-05T20:13:27.186Z"
   },
   {
    "duration": 20,
    "start_time": "2021-07-05T20:13:27.257Z"
   },
   {
    "duration": 34,
    "start_time": "2021-07-05T20:13:27.279Z"
   },
   {
    "duration": 38,
    "start_time": "2021-07-05T20:13:27.316Z"
   },
   {
    "duration": 17,
    "start_time": "2021-07-05T20:13:27.357Z"
   },
   {
    "duration": 6,
    "start_time": "2021-07-05T20:13:27.376Z"
   },
   {
    "duration": 27,
    "start_time": "2021-07-05T20:13:27.384Z"
   },
   {
    "duration": 32,
    "start_time": "2021-07-05T20:13:27.416Z"
   },
   {
    "duration": 16,
    "start_time": "2021-07-05T20:13:27.451Z"
   },
   {
    "duration": 39,
    "start_time": "2021-07-05T20:13:27.470Z"
   },
   {
    "duration": 13,
    "start_time": "2021-07-05T20:13:27.512Z"
   },
   {
    "duration": 25,
    "start_time": "2021-07-05T20:13:27.530Z"
   },
   {
    "duration": 63,
    "start_time": "2021-07-05T20:13:27.557Z"
   },
   {
    "duration": 32,
    "start_time": "2021-07-05T20:13:27.623Z"
   },
   {
    "duration": 18,
    "start_time": "2021-07-05T20:13:27.658Z"
   },
   {
    "duration": 3,
    "start_time": "2021-07-05T20:13:27.678Z"
   },
   {
    "duration": 72,
    "start_time": "2021-07-05T20:13:27.683Z"
   },
   {
    "duration": 3,
    "start_time": "2021-07-05T20:13:27.758Z"
   },
   {
    "duration": 54,
    "start_time": "2021-07-05T20:13:27.767Z"
   },
   {
    "duration": 26,
    "start_time": "2021-07-05T20:13:27.824Z"
   },
   {
    "duration": 464,
    "start_time": "2021-07-05T20:13:35.505Z"
   },
   {
    "duration": 4,
    "start_time": "2021-07-05T20:16:34.844Z"
   },
   {
    "duration": 203,
    "start_time": "2021-07-05T20:16:34.851Z"
   },
   {
    "duration": 11,
    "start_time": "2021-07-05T20:16:35.057Z"
   },
   {
    "duration": 165,
    "start_time": "2021-07-05T20:16:35.071Z"
   },
   {
    "duration": 13,
    "start_time": "2021-07-05T20:16:35.241Z"
   },
   {
    "duration": 101,
    "start_time": "2021-07-05T20:16:35.258Z"
   },
   {
    "duration": 10,
    "start_time": "2021-07-05T20:16:35.365Z"
   },
   {
    "duration": 33,
    "start_time": "2021-07-05T20:16:35.380Z"
   },
   {
    "duration": 18,
    "start_time": "2021-07-05T20:16:35.419Z"
   },
   {
    "duration": 47,
    "start_time": "2021-07-05T20:16:35.439Z"
   },
   {
    "duration": 21,
    "start_time": "2021-07-05T20:16:35.489Z"
   },
   {
    "duration": 52,
    "start_time": "2021-07-05T20:16:35.513Z"
   },
   {
    "duration": 21,
    "start_time": "2021-07-05T20:16:35.567Z"
   },
   {
    "duration": 20,
    "start_time": "2021-07-05T20:16:35.590Z"
   },
   {
    "duration": 11,
    "start_time": "2021-07-05T20:16:35.613Z"
   },
   {
    "duration": 24,
    "start_time": "2021-07-05T20:16:35.626Z"
   },
   {
    "duration": 19,
    "start_time": "2021-07-05T20:16:35.653Z"
   },
   {
    "duration": 33,
    "start_time": "2021-07-05T20:16:35.675Z"
   },
   {
    "duration": 21,
    "start_time": "2021-07-05T20:16:35.713Z"
   },
   {
    "duration": 12,
    "start_time": "2021-07-05T20:16:35.738Z"
   },
   {
    "duration": 16,
    "start_time": "2021-07-05T20:16:35.752Z"
   },
   {
    "duration": 60,
    "start_time": "2021-07-05T20:16:35.771Z"
   },
   {
    "duration": 31,
    "start_time": "2021-07-05T20:16:35.834Z"
   },
   {
    "duration": 32,
    "start_time": "2021-07-05T20:16:35.868Z"
   },
   {
    "duration": 3,
    "start_time": "2021-07-05T20:16:35.903Z"
   },
   {
    "duration": 65,
    "start_time": "2021-07-05T20:16:35.909Z"
   },
   {
    "duration": 3,
    "start_time": "2021-07-05T20:16:35.977Z"
   },
   {
    "duration": 23,
    "start_time": "2021-07-05T20:16:35.982Z"
   },
   {
    "duration": 42,
    "start_time": "2021-07-05T20:16:36.008Z"
   },
   {
    "duration": 66,
    "start_time": "2021-07-05T20:16:40.972Z"
   },
   {
    "duration": 45,
    "start_time": "2021-07-05T20:18:37.085Z"
   },
   {
    "duration": 3,
    "start_time": "2021-07-05T20:20:20.911Z"
   },
   {
    "duration": 200,
    "start_time": "2021-07-05T20:20:20.938Z"
   },
   {
    "duration": 15,
    "start_time": "2021-07-05T20:20:21.141Z"
   },
   {
    "duration": 187,
    "start_time": "2021-07-05T20:20:21.160Z"
   },
   {
    "duration": 12,
    "start_time": "2021-07-05T20:20:21.350Z"
   },
   {
    "duration": 114,
    "start_time": "2021-07-05T20:20:21.364Z"
   },
   {
    "duration": 24,
    "start_time": "2021-07-05T20:20:21.481Z"
   },
   {
    "duration": 35,
    "start_time": "2021-07-05T20:20:21.511Z"
   },
   {
    "duration": 24,
    "start_time": "2021-07-05T20:20:21.549Z"
   },
   {
    "duration": 63,
    "start_time": "2021-07-05T20:20:21.576Z"
   },
   {
    "duration": 17,
    "start_time": "2021-07-05T20:20:21.642Z"
   },
   {
    "duration": 45,
    "start_time": "2021-07-05T20:20:21.661Z"
   },
   {
    "duration": 28,
    "start_time": "2021-07-05T20:20:21.713Z"
   },
   {
    "duration": 22,
    "start_time": "2021-07-05T20:20:21.744Z"
   },
   {
    "duration": 15,
    "start_time": "2021-07-05T20:20:21.769Z"
   },
   {
    "duration": 17,
    "start_time": "2021-07-05T20:20:21.804Z"
   },
   {
    "duration": 30,
    "start_time": "2021-07-05T20:20:21.825Z"
   },
   {
    "duration": 13,
    "start_time": "2021-07-05T20:20:21.858Z"
   },
   {
    "duration": 46,
    "start_time": "2021-07-05T20:20:21.874Z"
   },
   {
    "duration": 31,
    "start_time": "2021-07-05T20:20:21.923Z"
   },
   {
    "duration": 16,
    "start_time": "2021-07-05T20:20:21.957Z"
   },
   {
    "duration": 30,
    "start_time": "2021-07-05T20:20:21.976Z"
   },
   {
    "duration": 42,
    "start_time": "2021-07-05T20:20:22.009Z"
   },
   {
    "duration": 18,
    "start_time": "2021-07-05T20:20:22.058Z"
   },
   {
    "duration": 4,
    "start_time": "2021-07-05T20:20:22.079Z"
   },
   {
    "duration": 66,
    "start_time": "2021-07-05T20:20:22.102Z"
   },
   {
    "duration": 3,
    "start_time": "2021-07-05T20:20:22.170Z"
   },
   {
    "duration": 23,
    "start_time": "2021-07-05T20:20:22.176Z"
   },
   {
    "duration": 34,
    "start_time": "2021-07-05T20:20:22.212Z"
   },
   {
    "duration": 36,
    "start_time": "2021-07-05T20:20:22.249Z"
   },
   {
    "duration": 18,
    "start_time": "2021-07-05T20:20:22.303Z"
   },
   {
    "duration": 32,
    "start_time": "2021-07-05T20:20:22.324Z"
   },
   {
    "duration": 240,
    "start_time": "2021-07-05T20:20:22.359Z"
   },
   {
    "duration": 32,
    "start_time": "2021-07-05T20:29:04.373Z"
   },
   {
    "duration": 32,
    "start_time": "2021-07-05T20:29:19.867Z"
   },
   {
    "duration": 8,
    "start_time": "2021-07-05T20:31:37.164Z"
   },
   {
    "duration": 26,
    "start_time": "2021-07-05T20:31:43.088Z"
   },
   {
    "duration": 45,
    "start_time": "2021-07-05T20:32:35.286Z"
   },
   {
    "duration": 9,
    "start_time": "2021-07-05T20:33:29.825Z"
   },
   {
    "duration": 17,
    "start_time": "2021-07-05T20:38:26.044Z"
   },
   {
    "duration": 509,
    "start_time": "2021-07-05T20:38:31.327Z"
   },
   {
    "duration": 18,
    "start_time": "2021-07-05T20:39:31.131Z"
   },
   {
    "duration": 26,
    "start_time": "2021-07-05T20:39:35.652Z"
   },
   {
    "duration": 447,
    "start_time": "2021-07-05T20:39:40.915Z"
   },
   {
    "duration": 23,
    "start_time": "2021-07-05T20:40:52.276Z"
   },
   {
    "duration": 68,
    "start_time": "2021-07-05T20:40:57.216Z"
   },
   {
    "duration": 27,
    "start_time": "2021-07-05T20:45:24.136Z"
   },
   {
    "duration": 561,
    "start_time": "2021-07-05T20:45:27.411Z"
   },
   {
    "duration": 21,
    "start_time": "2021-07-05T20:45:52.585Z"
   },
   {
    "duration": 21,
    "start_time": "2021-07-05T20:46:03.408Z"
   },
   {
    "duration": 26,
    "start_time": "2021-07-05T20:46:14.545Z"
   },
   {
    "duration": 473,
    "start_time": "2021-07-05T20:46:16.906Z"
   },
   {
    "duration": 18,
    "start_time": "2021-07-05T20:47:42.546Z"
   },
   {
    "duration": 58,
    "start_time": "2021-07-05T20:47:45.909Z"
   },
   {
    "duration": 37,
    "start_time": "2021-07-05T20:48:20.458Z"
   },
   {
    "duration": 41,
    "start_time": "2021-07-05T20:51:45.416Z"
   },
   {
    "duration": 35,
    "start_time": "2021-07-05T20:52:11.140Z"
   },
   {
    "duration": 116,
    "start_time": "2021-07-05T21:11:40.654Z"
   },
   {
    "duration": 14,
    "start_time": "2021-07-05T21:12:11.233Z"
   },
   {
    "duration": 6,
    "start_time": "2021-07-05T21:15:12.374Z"
   },
   {
    "duration": 8,
    "start_time": "2021-07-05T21:17:26.185Z"
   },
   {
    "duration": 308,
    "start_time": "2021-07-06T06:20:12.989Z"
   },
   {
    "duration": 316,
    "start_time": "2021-07-06T06:20:19.048Z"
   },
   {
    "duration": 608,
    "start_time": "2021-07-06T06:20:29.729Z"
   },
   {
    "duration": 1592,
    "start_time": "2021-07-06T06:20:30.341Z"
   },
   {
    "duration": 12,
    "start_time": "2021-07-06T06:20:31.940Z"
   },
   {
    "duration": 90,
    "start_time": "2021-07-06T06:20:31.954Z"
   },
   {
    "duration": 7,
    "start_time": "2021-07-06T06:20:32.045Z"
   },
   {
    "duration": 65,
    "start_time": "2021-07-06T06:20:32.053Z"
   },
   {
    "duration": 5,
    "start_time": "2021-07-06T06:20:32.120Z"
   },
   {
    "duration": 22,
    "start_time": "2021-07-06T06:20:32.128Z"
   },
   {
    "duration": 11,
    "start_time": "2021-07-06T06:20:32.152Z"
   },
   {
    "duration": 73,
    "start_time": "2021-07-06T06:20:32.164Z"
   },
   {
    "duration": 11,
    "start_time": "2021-07-06T06:20:32.238Z"
   },
   {
    "duration": 23,
    "start_time": "2021-07-06T06:20:32.250Z"
   },
   {
    "duration": 14,
    "start_time": "2021-07-06T06:20:32.275Z"
   },
   {
    "duration": 14,
    "start_time": "2021-07-06T06:20:32.290Z"
   },
   {
    "duration": 11,
    "start_time": "2021-07-06T06:20:32.306Z"
   },
   {
    "duration": 8,
    "start_time": "2021-07-06T06:20:32.319Z"
   },
   {
    "duration": 20,
    "start_time": "2021-07-06T06:20:32.329Z"
   },
   {
    "duration": 13,
    "start_time": "2021-07-06T06:20:32.350Z"
   },
   {
    "duration": 10,
    "start_time": "2021-07-06T06:20:32.365Z"
   },
   {
    "duration": 7,
    "start_time": "2021-07-06T06:20:32.377Z"
   },
   {
    "duration": 10,
    "start_time": "2021-07-06T06:20:32.385Z"
   },
   {
    "duration": 44,
    "start_time": "2021-07-06T06:20:32.397Z"
   },
   {
    "duration": 24,
    "start_time": "2021-07-06T06:20:32.444Z"
   },
   {
    "duration": 14,
    "start_time": "2021-07-06T06:20:32.470Z"
   },
   {
    "duration": 3,
    "start_time": "2021-07-06T06:20:32.485Z"
   },
   {
    "duration": 58,
    "start_time": "2021-07-06T06:20:32.489Z"
   },
   {
    "duration": 2,
    "start_time": "2021-07-06T06:20:32.549Z"
   },
   {
    "duration": 21,
    "start_time": "2021-07-06T06:20:32.553Z"
   },
   {
    "duration": 18,
    "start_time": "2021-07-06T06:20:32.576Z"
   },
   {
    "duration": 19,
    "start_time": "2021-07-06T06:20:32.596Z"
   },
   {
    "duration": 29,
    "start_time": "2021-07-06T06:20:32.616Z"
   },
   {
    "duration": 7,
    "start_time": "2021-07-06T06:20:32.647Z"
   },
   {
    "duration": 306,
    "start_time": "2021-07-06T06:20:32.656Z"
   },
   {
    "duration": 12,
    "start_time": "2021-07-06T06:20:52.420Z"
   },
   {
    "duration": 140,
    "start_time": "2021-07-06T07:13:39.456Z"
   },
   {
    "duration": 82,
    "start_time": "2021-07-06T07:14:32.868Z"
   },
   {
    "duration": 85,
    "start_time": "2021-07-06T07:17:01.601Z"
   },
   {
    "duration": 89,
    "start_time": "2021-07-06T07:23:02.322Z"
   },
   {
    "duration": 106,
    "start_time": "2021-07-06T07:23:50.468Z"
   },
   {
    "duration": 69,
    "start_time": "2021-07-06T07:24:05.902Z"
   },
   {
    "duration": 14,
    "start_time": "2021-07-06T07:24:11.970Z"
   },
   {
    "duration": 453,
    "start_time": "2021-07-06T07:45:27.706Z"
   },
   {
    "duration": 3,
    "start_time": "2021-07-06T07:45:38.923Z"
   },
   {
    "duration": 499,
    "start_time": "2021-07-06T07:45:45.284Z"
   },
   {
    "duration": 2,
    "start_time": "2021-07-06T07:48:25.041Z"
   },
   {
    "duration": 3,
    "start_time": "2021-07-06T07:49:00.657Z"
   },
   {
    "duration": 15,
    "start_time": "2021-07-06T07:49:13.881Z"
   },
   {
    "duration": 5,
    "start_time": "2021-07-06T07:52:01.199Z"
   },
   {
    "duration": 13,
    "start_time": "2021-07-06T07:52:03.398Z"
   },
   {
    "duration": 5,
    "start_time": "2021-07-06T07:53:40.118Z"
   },
   {
    "duration": 12,
    "start_time": "2021-07-06T07:53:44.469Z"
   },
   {
    "duration": 26,
    "start_time": "2021-07-06T07:54:13.863Z"
   },
   {
    "duration": 23,
    "start_time": "2021-07-06T07:54:23.029Z"
   },
   {
    "duration": 22,
    "start_time": "2021-07-06T07:55:07.654Z"
   },
   {
    "duration": 14,
    "start_time": "2021-07-06T07:58:40.887Z"
   },
   {
    "duration": 12,
    "start_time": "2021-07-06T08:26:52.412Z"
   },
   {
    "duration": 3,
    "start_time": "2021-07-06T08:27:40.018Z"
   },
   {
    "duration": 4,
    "start_time": "2021-07-06T08:27:51.986Z"
   },
   {
    "duration": 6174,
    "start_time": "2021-07-06T08:29:33.290Z"
   },
   {
    "duration": 6303,
    "start_time": "2021-07-06T09:34:51.398Z"
   },
   {
    "duration": 6209,
    "start_time": "2021-07-06T09:36:26.581Z"
   },
   {
    "duration": 7,
    "start_time": "2021-07-06T09:37:18.327Z"
   },
   {
    "duration": 16,
    "start_time": "2021-07-06T09:38:24.366Z"
   },
   {
    "duration": 9,
    "start_time": "2021-07-06T09:38:31.653Z"
   },
   {
    "duration": 248,
    "start_time": "2021-07-06T09:38:35.752Z"
   },
   {
    "duration": 6,
    "start_time": "2021-07-06T09:38:47.090Z"
   },
   {
    "duration": 11,
    "start_time": "2021-07-06T09:39:07.873Z"
   },
   {
    "duration": 13,
    "start_time": "2021-07-06T09:39:11.021Z"
   },
   {
    "duration": 232,
    "start_time": "2021-07-06T09:39:29.271Z"
   },
   {
    "duration": 310,
    "start_time": "2021-07-06T09:41:06.144Z"
   },
   {
    "duration": 5,
    "start_time": "2021-07-06T09:41:28.223Z"
   },
   {
    "duration": 5,
    "start_time": "2021-07-06T09:41:43.929Z"
   },
   {
    "duration": 252,
    "start_time": "2021-07-06T09:41:59.447Z"
   },
   {
    "duration": 267,
    "start_time": "2021-07-06T09:42:13.161Z"
   },
   {
    "duration": 4,
    "start_time": "2021-07-06T09:44:40.885Z"
   },
   {
    "duration": 12,
    "start_time": "2021-07-06T09:44:46.731Z"
   },
   {
    "duration": 12,
    "start_time": "2021-07-06T09:45:19.844Z"
   },
   {
    "duration": 12,
    "start_time": "2021-07-06T09:46:19.699Z"
   },
   {
    "duration": 57,
    "start_time": "2021-07-06T09:49:48.852Z"
   },
   {
    "duration": 13,
    "start_time": "2021-07-06T09:49:52.279Z"
   },
   {
    "duration": 18,
    "start_time": "2021-07-06T09:50:03.097Z"
   },
   {
    "duration": 61,
    "start_time": "2021-07-06T09:50:23.120Z"
   },
   {
    "duration": 63,
    "start_time": "2021-07-06T09:50:39.696Z"
   },
   {
    "duration": 67,
    "start_time": "2021-07-06T09:51:04.471Z"
   },
   {
    "duration": 304,
    "start_time": "2021-07-06T09:56:14.502Z"
   },
   {
    "duration": 65,
    "start_time": "2021-07-06T09:56:39.608Z"
   },
   {
    "duration": 13,
    "start_time": "2021-07-06T09:56:50.700Z"
   },
   {
    "duration": 14,
    "start_time": "2021-07-06T09:58:15.049Z"
   },
   {
    "duration": 2,
    "start_time": "2021-07-06T09:58:41.872Z"
   },
   {
    "duration": 15,
    "start_time": "2021-07-06T09:59:44.494Z"
   },
   {
    "duration": 12,
    "start_time": "2021-07-06T09:59:45.946Z"
   },
   {
    "duration": 20,
    "start_time": "2021-07-06T10:00:11.097Z"
   },
   {
    "duration": 3,
    "start_time": "2021-07-06T10:01:53.073Z"
   },
   {
    "duration": 130,
    "start_time": "2021-07-06T10:01:53.078Z"
   },
   {
    "duration": 8,
    "start_time": "2021-07-06T10:01:53.210Z"
   },
   {
    "duration": 125,
    "start_time": "2021-07-06T10:01:53.220Z"
   },
   {
    "duration": 8,
    "start_time": "2021-07-06T10:01:53.347Z"
   },
   {
    "duration": 86,
    "start_time": "2021-07-06T10:01:53.357Z"
   },
   {
    "duration": 7,
    "start_time": "2021-07-06T10:01:53.445Z"
   },
   {
    "duration": 40,
    "start_time": "2021-07-06T10:01:53.454Z"
   },
   {
    "duration": 22,
    "start_time": "2021-07-06T10:01:53.496Z"
   },
   {
    "duration": 63,
    "start_time": "2021-07-06T10:01:53.520Z"
   },
   {
    "duration": 20,
    "start_time": "2021-07-06T10:01:53.585Z"
   },
   {
    "duration": 33,
    "start_time": "2021-07-06T10:01:53.607Z"
   },
   {
    "duration": 18,
    "start_time": "2021-07-06T10:01:53.642Z"
   },
   {
    "duration": 27,
    "start_time": "2021-07-06T10:01:53.661Z"
   },
   {
    "duration": 10,
    "start_time": "2021-07-06T10:01:53.689Z"
   },
   {
    "duration": 15,
    "start_time": "2021-07-06T10:01:53.700Z"
   },
   {
    "duration": 30,
    "start_time": "2021-07-06T10:01:53.716Z"
   },
   {
    "duration": 17,
    "start_time": "2021-07-06T10:01:53.748Z"
   },
   {
    "duration": 17,
    "start_time": "2021-07-06T10:01:53.766Z"
   },
   {
    "duration": 14,
    "start_time": "2021-07-06T10:01:53.785Z"
   },
   {
    "duration": 36,
    "start_time": "2021-07-06T10:01:53.801Z"
   },
   {
    "duration": 20,
    "start_time": "2021-07-06T10:01:53.838Z"
   },
   {
    "duration": 13,
    "start_time": "2021-07-06T10:01:53.861Z"
   },
   {
    "duration": 28,
    "start_time": "2021-07-06T10:01:53.876Z"
   },
   {
    "duration": 23,
    "start_time": "2021-07-06T10:01:53.906Z"
   },
   {
    "duration": 88,
    "start_time": "2021-07-06T10:01:53.931Z"
   },
   {
    "duration": 414,
    "start_time": "2021-07-06T10:01:54.020Z"
   },
   {
    "duration": -917,
    "start_time": "2021-07-06T10:01:55.352Z"
   },
   {
    "duration": -921,
    "start_time": "2021-07-06T10:01:55.357Z"
   },
   {
    "duration": -923,
    "start_time": "2021-07-06T10:01:55.360Z"
   },
   {
    "duration": -931,
    "start_time": "2021-07-06T10:01:55.370Z"
   },
   {
    "duration": -934,
    "start_time": "2021-07-06T10:01:55.374Z"
   },
   {
    "duration": -942,
    "start_time": "2021-07-06T10:01:55.384Z"
   },
   {
    "duration": -943,
    "start_time": "2021-07-06T10:01:55.386Z"
   },
   {
    "duration": -944,
    "start_time": "2021-07-06T10:01:55.388Z"
   },
   {
    "duration": -944,
    "start_time": "2021-07-06T10:01:55.390Z"
   },
   {
    "duration": 328,
    "start_time": "2021-07-06T10:03:57.298Z"
   },
   {
    "duration": 57,
    "start_time": "2021-07-06T10:06:36.741Z"
   },
   {
    "duration": 12,
    "start_time": "2021-07-06T10:06:38.286Z"
   },
   {
    "duration": 3,
    "start_time": "2021-07-06T10:07:37.353Z"
   },
   {
    "duration": 120,
    "start_time": "2021-07-06T10:07:37.358Z"
   },
   {
    "duration": 7,
    "start_time": "2021-07-06T10:07:37.480Z"
   },
   {
    "duration": 104,
    "start_time": "2021-07-06T10:07:37.489Z"
   },
   {
    "duration": 7,
    "start_time": "2021-07-06T10:07:37.595Z"
   },
   {
    "duration": 73,
    "start_time": "2021-07-06T10:07:37.604Z"
   },
   {
    "duration": 7,
    "start_time": "2021-07-06T10:07:37.679Z"
   },
   {
    "duration": 31,
    "start_time": "2021-07-06T10:07:37.687Z"
   },
   {
    "duration": 12,
    "start_time": "2021-07-06T10:07:37.720Z"
   },
   {
    "duration": 50,
    "start_time": "2021-07-06T10:07:37.735Z"
   },
   {
    "duration": 8,
    "start_time": "2021-07-06T10:07:37.788Z"
   },
   {
    "duration": 20,
    "start_time": "2021-07-06T10:07:37.797Z"
   },
   {
    "duration": 13,
    "start_time": "2021-07-06T10:07:37.819Z"
   },
   {
    "duration": 11,
    "start_time": "2021-07-06T10:07:37.833Z"
   },
   {
    "duration": 4,
    "start_time": "2021-07-06T10:07:37.845Z"
   },
   {
    "duration": 10,
    "start_time": "2021-07-06T10:07:37.850Z"
   },
   {
    "duration": 21,
    "start_time": "2021-07-06T10:07:37.862Z"
   },
   {
    "duration": 9,
    "start_time": "2021-07-06T10:07:37.884Z"
   },
   {
    "duration": 15,
    "start_time": "2021-07-06T10:07:37.894Z"
   },
   {
    "duration": 8,
    "start_time": "2021-07-06T10:07:37.910Z"
   },
   {
    "duration": 23,
    "start_time": "2021-07-06T10:07:37.919Z"
   },
   {
    "duration": 15,
    "start_time": "2021-07-06T10:07:37.944Z"
   },
   {
    "duration": 58,
    "start_time": "2021-07-06T10:07:37.960Z"
   },
   {
    "duration": 32,
    "start_time": "2021-07-06T10:07:38.020Z"
   },
   {
    "duration": 10,
    "start_time": "2021-07-06T10:07:38.054Z"
   },
   {
    "duration": 13,
    "start_time": "2021-07-06T10:07:38.065Z"
   },
   {
    "duration": 81,
    "start_time": "2021-07-06T10:07:38.079Z"
   },
   {
    "duration": 21,
    "start_time": "2021-07-06T10:07:38.164Z"
   },
   {
    "duration": 3,
    "start_time": "2021-07-06T10:07:38.187Z"
   },
   {
    "duration": 23,
    "start_time": "2021-07-06T10:07:38.191Z"
   },
   {
    "duration": 31,
    "start_time": "2021-07-06T10:07:38.216Z"
   },
   {
    "duration": 2,
    "start_time": "2021-07-06T10:07:38.248Z"
   },
   {
    "duration": 16,
    "start_time": "2021-07-06T10:07:38.252Z"
   },
   {
    "duration": 6,
    "start_time": "2021-07-06T10:07:38.270Z"
   },
   {
    "duration": 6,
    "start_time": "2021-07-06T10:07:38.277Z"
   },
   {
    "duration": 8252,
    "start_time": "2021-07-06T10:07:38.285Z"
   },
   {
    "duration": -1102,
    "start_time": "2021-07-06T10:07:47.641Z"
   },
   {
    "duration": 12,
    "start_time": "2021-07-06T10:08:24.478Z"
   },
   {
    "duration": 12,
    "start_time": "2021-07-06T10:09:01.511Z"
   },
   {
    "duration": 15,
    "start_time": "2021-07-06T10:12:30.368Z"
   },
   {
    "duration": 19,
    "start_time": "2021-07-06T10:12:47.939Z"
   },
   {
    "duration": 17,
    "start_time": "2021-07-06T10:14:57.469Z"
   },
   {
    "duration": 12,
    "start_time": "2021-07-06T10:15:17.027Z"
   },
   {
    "duration": 13,
    "start_time": "2021-07-06T10:15:28.687Z"
   },
   {
    "duration": 11,
    "start_time": "2021-07-06T10:15:31.950Z"
   },
   {
    "duration": 3,
    "start_time": "2021-07-06T10:16:13.128Z"
   },
   {
    "duration": 113,
    "start_time": "2021-07-06T10:16:13.132Z"
   },
   {
    "duration": 6,
    "start_time": "2021-07-06T10:16:13.247Z"
   },
   {
    "duration": 92,
    "start_time": "2021-07-06T10:16:13.255Z"
   },
   {
    "duration": 7,
    "start_time": "2021-07-06T10:16:13.349Z"
   },
   {
    "duration": 78,
    "start_time": "2021-07-06T10:16:13.357Z"
   },
   {
    "duration": 6,
    "start_time": "2021-07-06T10:16:13.437Z"
   },
   {
    "duration": 25,
    "start_time": "2021-07-06T10:16:13.445Z"
   },
   {
    "duration": 20,
    "start_time": "2021-07-06T10:16:13.471Z"
   },
   {
    "duration": 46,
    "start_time": "2021-07-06T10:16:13.492Z"
   },
   {
    "duration": 13,
    "start_time": "2021-07-06T10:16:13.540Z"
   },
   {
    "duration": 43,
    "start_time": "2021-07-06T10:16:13.555Z"
   },
   {
    "duration": 19,
    "start_time": "2021-07-06T10:16:13.600Z"
   },
   {
    "duration": 16,
    "start_time": "2021-07-06T10:16:13.621Z"
   },
   {
    "duration": 15,
    "start_time": "2021-07-06T10:16:13.639Z"
   },
   {
    "duration": 17,
    "start_time": "2021-07-06T10:16:13.655Z"
   },
   {
    "duration": 28,
    "start_time": "2021-07-06T10:16:13.674Z"
   },
   {
    "duration": 13,
    "start_time": "2021-07-06T10:16:13.704Z"
   },
   {
    "duration": 19,
    "start_time": "2021-07-06T10:16:13.719Z"
   },
   {
    "duration": 9,
    "start_time": "2021-07-06T10:16:13.740Z"
   },
   {
    "duration": 18,
    "start_time": "2021-07-06T10:16:13.750Z"
   },
   {
    "duration": 25,
    "start_time": "2021-07-06T10:16:13.769Z"
   },
   {
    "duration": 60,
    "start_time": "2021-07-06T10:16:13.796Z"
   },
   {
    "duration": 18,
    "start_time": "2021-07-06T10:16:13.858Z"
   },
   {
    "duration": 23,
    "start_time": "2021-07-06T10:16:13.877Z"
   },
   {
    "duration": 20,
    "start_time": "2021-07-06T10:16:13.902Z"
   },
   {
    "duration": 80,
    "start_time": "2021-07-06T10:16:13.924Z"
   },
   {
    "duration": 13,
    "start_time": "2021-07-06T10:16:14.005Z"
   },
   {
    "duration": 35,
    "start_time": "2021-07-06T10:16:14.019Z"
   },
   {
    "duration": 2,
    "start_time": "2021-07-06T10:16:14.056Z"
   },
   {
    "duration": 21,
    "start_time": "2021-07-06T10:16:14.059Z"
   },
   {
    "duration": 19,
    "start_time": "2021-07-06T10:16:14.081Z"
   },
   {
    "duration": 2,
    "start_time": "2021-07-06T10:16:14.102Z"
   },
   {
    "duration": 35,
    "start_time": "2021-07-06T10:16:14.105Z"
   },
   {
    "duration": 6,
    "start_time": "2021-07-06T10:16:14.142Z"
   },
   {
    "duration": 6,
    "start_time": "2021-07-06T10:16:14.150Z"
   },
   {
    "duration": 15,
    "start_time": "2021-07-06T10:16:18.179Z"
   },
   {
    "duration": 8263,
    "start_time": "2021-07-06T10:20:57.258Z"
   },
   {
    "duration": -1087,
    "start_time": "2021-07-06T10:21:06.611Z"
   },
   {
    "duration": 64,
    "start_time": "2021-07-06T10:53:20.488Z"
   },
   {
    "duration": 14,
    "start_time": "2021-07-06T10:53:23.564Z"
   },
   {
    "duration": 66,
    "start_time": "2021-07-06T10:58:01.050Z"
   },
   {
    "duration": 20,
    "start_time": "2021-07-06T10:58:05.706Z"
   },
   {
    "duration": 1038,
    "start_time": "2021-07-06T11:03:00.035Z"
   },
   {
    "duration": 1198,
    "start_time": "2021-07-06T11:03:12.847Z"
   },
   {
    "duration": 1023,
    "start_time": "2021-07-06T11:03:40.951Z"
   },
   {
    "duration": 1394,
    "start_time": "2021-07-06T11:04:10.726Z"
   },
   {
    "duration": 973,
    "start_time": "2021-07-06T11:04:36.624Z"
   },
   {
    "duration": 5,
    "start_time": "2021-07-06T11:05:06.077Z"
   },
   {
    "duration": 1228,
    "start_time": "2021-07-06T11:06:10.737Z"
   },
   {
    "duration": 13,
    "start_time": "2021-07-06T11:14:43.068Z"
   },
   {
    "duration": 18,
    "start_time": "2021-07-06T11:15:27.642Z"
   },
   {
    "duration": 17,
    "start_time": "2021-07-06T11:15:43.965Z"
   },
   {
    "duration": 11,
    "start_time": "2021-07-06T11:16:12.756Z"
   },
   {
    "duration": 10,
    "start_time": "2021-07-06T11:17:41.837Z"
   },
   {
    "duration": 13,
    "start_time": "2021-07-06T11:17:45.685Z"
   },
   {
    "duration": 13,
    "start_time": "2021-07-06T11:18:34.278Z"
   },
   {
    "duration": 14,
    "start_time": "2021-07-06T11:28:23.064Z"
   },
   {
    "duration": 13,
    "start_time": "2021-07-06T11:29:08.391Z"
   },
   {
    "duration": 15,
    "start_time": "2021-07-06T11:30:32.383Z"
   },
   {
    "duration": 14,
    "start_time": "2021-07-06T11:31:06.640Z"
   },
   {
    "duration": 12,
    "start_time": "2021-07-06T11:31:52.072Z"
   },
   {
    "duration": 66,
    "start_time": "2021-07-06T11:32:18.602Z"
   },
   {
    "duration": 14,
    "start_time": "2021-07-06T11:32:26.662Z"
   },
   {
    "duration": 21,
    "start_time": "2021-07-06T12:10:34.985Z"
   },
   {
    "duration": 19,
    "start_time": "2021-07-06T12:17:41.348Z"
   },
   {
    "duration": 3,
    "start_time": "2021-07-06T12:18:50.894Z"
   },
   {
    "duration": 118,
    "start_time": "2021-07-06T12:18:50.899Z"
   },
   {
    "duration": 8,
    "start_time": "2021-07-06T12:18:51.040Z"
   },
   {
    "duration": 97,
    "start_time": "2021-07-06T12:18:51.050Z"
   },
   {
    "duration": 6,
    "start_time": "2021-07-06T12:18:51.149Z"
   },
   {
    "duration": 67,
    "start_time": "2021-07-06T12:18:51.157Z"
   },
   {
    "duration": 7,
    "start_time": "2021-07-06T12:18:51.227Z"
   },
   {
    "duration": 22,
    "start_time": "2021-07-06T12:18:51.235Z"
   },
   {
    "duration": 12,
    "start_time": "2021-07-06T12:18:51.259Z"
   },
   {
    "duration": 48,
    "start_time": "2021-07-06T12:18:51.272Z"
   },
   {
    "duration": 9,
    "start_time": "2021-07-06T12:18:51.321Z"
   },
   {
    "duration": 21,
    "start_time": "2021-07-06T12:18:51.332Z"
   },
   {
    "duration": 14,
    "start_time": "2021-07-06T12:18:51.354Z"
   },
   {
    "duration": 10,
    "start_time": "2021-07-06T12:18:51.370Z"
   },
   {
    "duration": 3,
    "start_time": "2021-07-06T12:18:51.382Z"
   },
   {
    "duration": 10,
    "start_time": "2021-07-06T12:18:51.386Z"
   },
   {
    "duration": 16,
    "start_time": "2021-07-06T12:18:51.397Z"
   },
   {
    "duration": 9,
    "start_time": "2021-07-06T12:18:51.414Z"
   },
   {
    "duration": 9,
    "start_time": "2021-07-06T12:18:51.441Z"
   },
   {
    "duration": 8,
    "start_time": "2021-07-06T12:18:51.452Z"
   },
   {
    "duration": 11,
    "start_time": "2021-07-06T12:18:51.461Z"
   },
   {
    "duration": 14,
    "start_time": "2021-07-06T12:18:51.473Z"
   },
   {
    "duration": 100,
    "start_time": "2021-07-06T12:18:51.489Z"
   },
   {
    "duration": 16,
    "start_time": "2021-07-06T12:18:51.590Z"
   },
   {
    "duration": 13,
    "start_time": "2021-07-06T12:18:51.608Z"
   },
   {
    "duration": 26,
    "start_time": "2021-07-06T12:18:51.622Z"
   },
   {
    "duration": 77,
    "start_time": "2021-07-06T12:18:51.650Z"
   },
   {
    "duration": 25,
    "start_time": "2021-07-06T12:18:51.729Z"
   },
   {
    "duration": 31,
    "start_time": "2021-07-06T12:18:51.755Z"
   },
   {
    "duration": 2,
    "start_time": "2021-07-06T12:18:51.787Z"
   },
   {
    "duration": 19,
    "start_time": "2021-07-06T12:18:51.791Z"
   },
   {
    "duration": 34,
    "start_time": "2021-07-06T12:18:51.811Z"
   },
   {
    "duration": 2,
    "start_time": "2021-07-06T12:18:51.846Z"
   },
   {
    "duration": 16,
    "start_time": "2021-07-06T12:18:51.850Z"
   },
   {
    "duration": 6,
    "start_time": "2021-07-06T12:18:51.867Z"
   },
   {
    "duration": 16,
    "start_time": "2021-07-06T12:18:51.874Z"
   },
   {
    "duration": 17,
    "start_time": "2021-07-06T12:18:51.892Z"
   },
   {
    "duration": 76,
    "start_time": "2021-07-06T12:18:51.911Z"
   },
   {
    "duration": 13,
    "start_time": "2021-07-06T12:18:51.989Z"
   },
   {
    "duration": 43,
    "start_time": "2021-07-06T12:18:52.003Z"
   },
   {
    "duration": 11,
    "start_time": "2021-07-06T12:19:05.949Z"
   },
   {
    "duration": 11,
    "start_time": "2021-07-06T12:19:08.110Z"
   },
   {
    "duration": 10,
    "start_time": "2021-07-06T12:19:11.510Z"
   },
   {
    "duration": 9,
    "start_time": "2021-07-06T12:26:17.296Z"
   },
   {
    "duration": 4,
    "start_time": "2021-07-06T12:30:46.868Z"
   },
   {
    "duration": 11,
    "start_time": "2021-07-06T12:30:48.733Z"
   },
   {
    "duration": 4,
    "start_time": "2021-07-06T12:31:11.642Z"
   },
   {
    "duration": 11,
    "start_time": "2021-07-06T12:31:12.673Z"
   },
   {
    "duration": 3,
    "start_time": "2021-07-06T12:42:14.517Z"
   },
   {
    "duration": 11,
    "start_time": "2021-07-06T12:42:16.698Z"
   },
   {
    "duration": 5,
    "start_time": "2021-07-06T12:43:18.396Z"
   },
   {
    "duration": 10,
    "start_time": "2021-07-06T12:43:21.242Z"
   },
   {
    "duration": 11,
    "start_time": "2021-07-06T12:43:22.397Z"
   },
   {
    "duration": 12,
    "start_time": "2021-07-06T12:43:32.890Z"
   },
   {
    "duration": 6,
    "start_time": "2021-07-06T12:46:45.611Z"
   },
   {
    "duration": 12,
    "start_time": "2021-07-06T12:46:48.653Z"
   },
   {
    "duration": 6,
    "start_time": "2021-07-06T12:49:37.663Z"
   },
   {
    "duration": 12,
    "start_time": "2021-07-06T12:49:39.718Z"
   },
   {
    "duration": 7,
    "start_time": "2021-07-06T12:55:55.262Z"
   },
   {
    "duration": 7,
    "start_time": "2021-07-06T12:56:23.023Z"
   },
   {
    "duration": 5,
    "start_time": "2021-07-06T12:58:36.041Z"
   },
   {
    "duration": 11,
    "start_time": "2021-07-06T12:59:18.335Z"
   },
   {
    "duration": 12,
    "start_time": "2021-07-06T13:00:41.857Z"
   },
   {
    "duration": 12,
    "start_time": "2021-07-06T13:00:44.664Z"
   },
   {
    "duration": 3,
    "start_time": "2021-07-06T13:03:57.297Z"
   },
   {
    "duration": 5,
    "start_time": "2021-07-06T13:04:02.393Z"
   },
   {
    "duration": 12,
    "start_time": "2021-07-06T13:05:38.029Z"
   },
   {
    "duration": 12,
    "start_time": "2021-07-06T13:06:32.947Z"
   },
   {
    "duration": 6,
    "start_time": "2021-07-06T13:14:00.762Z"
   },
   {
    "duration": 12,
    "start_time": "2021-07-06T13:14:03.146Z"
   },
   {
    "duration": 4,
    "start_time": "2021-07-06T13:18:58.805Z"
   },
   {
    "duration": 5,
    "start_time": "2021-07-06T13:18:59.897Z"
   },
   {
    "duration": 7,
    "start_time": "2021-07-06T13:20:45.060Z"
   },
   {
    "duration": 4,
    "start_time": "2021-07-06T14:20:39.169Z"
   },
   {
    "duration": 6,
    "start_time": "2021-07-06T14:20:46.574Z"
   },
   {
    "duration": 6,
    "start_time": "2021-07-06T14:20:54.146Z"
   },
   {
    "duration": 6,
    "start_time": "2021-07-06T14:21:01.908Z"
   },
   {
    "duration": 4,
    "start_time": "2021-07-06T14:32:26.293Z"
   },
   {
    "duration": -818,
    "start_time": "2021-07-06T14:33:10.431Z"
   },
   {
    "duration": 6903,
    "start_time": "2021-07-06T14:33:12.288Z"
   },
   {
    "duration": -818,
    "start_time": "2021-07-06T14:33:38.523Z"
   },
   {
    "duration": 6384,
    "start_time": "2021-07-06T14:34:05.434Z"
   },
   {
    "duration": 326,
    "start_time": "2021-07-06T14:43:22.522Z"
   },
   {
    "duration": 28,
    "start_time": "2021-07-06T14:46:22.092Z"
   },
   {
    "duration": 11,
    "start_time": "2021-07-06T14:46:26.544Z"
   },
   {
    "duration": 217,
    "start_time": "2021-07-06T14:46:30.773Z"
   },
   {
    "duration": 446,
    "start_time": "2021-07-06T14:49:56.602Z"
   },
   {
    "duration": 210,
    "start_time": "2021-07-06T14:50:22.191Z"
   },
   {
    "duration": 434,
    "start_time": "2021-07-06T15:56:25.750Z"
   },
   {
    "duration": 5260,
    "start_time": "2021-07-06T16:31:40.591Z"
   },
   {
    "duration": 10,
    "start_time": "2021-07-06T16:32:17.673Z"
   },
   {
    "duration": 40,
    "start_time": "2021-07-06T16:34:29.451Z"
   },
   {
    "duration": 8,
    "start_time": "2021-07-06T16:34:34.593Z"
   },
   {
    "duration": 6482,
    "start_time": "2021-07-06T16:35:03.760Z"
   },
   {
    "duration": 199,
    "start_time": "2021-07-06T16:35:17.496Z"
   },
   {
    "duration": 7014,
    "start_time": "2021-07-06T16:38:08.958Z"
   },
   {
    "duration": 191,
    "start_time": "2021-07-06T16:38:50.032Z"
   },
   {
    "duration": 6656,
    "start_time": "2021-07-06T17:16:56.669Z"
   },
   {
    "duration": 382,
    "start_time": "2021-07-06T17:17:46.685Z"
   },
   {
    "duration": 188,
    "start_time": "2021-07-06T17:19:07.195Z"
   },
   {
    "duration": 255,
    "start_time": "2021-07-06T18:08:10.024Z"
   },
   {
    "duration": 26,
    "start_time": "2021-07-06T18:08:28.977Z"
   },
   {
    "duration": 182,
    "start_time": "2021-07-06T18:08:37.192Z"
   },
   {
    "duration": 7,
    "start_time": "2021-07-06T18:08:57.500Z"
   },
   {
    "duration": 186,
    "start_time": "2021-07-06T18:10:02.712Z"
   },
   {
    "duration": 7,
    "start_time": "2021-07-06T18:10:15.010Z"
   },
   {
    "duration": 4017,
    "start_time": "2021-07-06T18:44:03.541Z"
   },
   {
    "duration": 6,
    "start_time": "2021-07-06T18:44:14.865Z"
   },
   {
    "duration": 90,
    "start_time": "2021-07-06T18:44:38.677Z"
   },
   {
    "duration": 5,
    "start_time": "2021-07-06T18:44:55.368Z"
   },
   {
    "duration": 5,
    "start_time": "2021-07-06T18:45:04.478Z"
   },
   {
    "duration": 5,
    "start_time": "2021-07-06T18:45:13.170Z"
   },
   {
    "duration": 4,
    "start_time": "2021-07-06T18:45:53.212Z"
   },
   {
    "duration": 7,
    "start_time": "2021-07-06T18:50:08.177Z"
   },
   {
    "duration": 4,
    "start_time": "2021-07-06T18:50:31.273Z"
   },
   {
    "duration": 78,
    "start_time": "2021-07-06T18:52:35.613Z"
   },
   {
    "duration": 5,
    "start_time": "2021-07-06T18:53:11.076Z"
   },
   {
    "duration": 5,
    "start_time": "2021-07-06T18:53:36.848Z"
   },
   {
    "duration": 185,
    "start_time": "2021-07-06T18:56:47.270Z"
   },
   {
    "duration": 4,
    "start_time": "2021-07-06T19:07:26.300Z"
   },
   {
    "duration": 10,
    "start_time": "2021-07-06T19:12:24.717Z"
   },
   {
    "duration": 8,
    "start_time": "2021-07-06T19:13:07.067Z"
   },
   {
    "duration": 85,
    "start_time": "2021-07-06T19:15:42.297Z"
   },
   {
    "duration": 8,
    "start_time": "2021-07-06T19:15:47.468Z"
   },
   {
    "duration": 3,
    "start_time": "2021-07-06T19:16:12.586Z"
   },
   {
    "duration": 3,
    "start_time": "2021-07-06T19:16:23.074Z"
   },
   {
    "duration": 244,
    "start_time": "2021-07-06T19:16:35.301Z"
   },
   {
    "duration": 81,
    "start_time": "2021-07-06T19:16:40.220Z"
   },
   {
    "duration": 255,
    "start_time": "2021-07-06T19:16:52.264Z"
   },
   {
    "duration": 6,
    "start_time": "2021-07-06T19:17:02.320Z"
   },
   {
    "duration": 4,
    "start_time": "2021-07-06T19:17:06.701Z"
   },
   {
    "duration": 3,
    "start_time": "2021-07-06T19:17:23.529Z"
   },
   {
    "duration": 118,
    "start_time": "2021-07-06T19:17:45.873Z"
   },
   {
    "duration": 3,
    "start_time": "2021-07-06T19:17:50.968Z"
   },
   {
    "duration": 101,
    "start_time": "2021-07-06T19:18:24.355Z"
   },
   {
    "duration": 86,
    "start_time": "2021-07-06T19:18:48.174Z"
   },
   {
    "duration": 10,
    "start_time": "2021-07-06T19:19:17.639Z"
   },
   {
    "duration": 10,
    "start_time": "2021-07-06T19:19:22.212Z"
   },
   {
    "duration": 14,
    "start_time": "2021-07-06T19:20:13.952Z"
   },
   {
    "duration": 10,
    "start_time": "2021-07-06T19:21:33.150Z"
   },
   {
    "duration": 10,
    "start_time": "2021-07-06T19:21:40.133Z"
   },
   {
    "duration": 10,
    "start_time": "2021-07-06T19:21:50.219Z"
   },
   {
    "duration": 11,
    "start_time": "2021-07-06T19:22:38.770Z"
   },
   {
    "duration": 13,
    "start_time": "2021-07-06T19:22:47.079Z"
   },
   {
    "duration": 10,
    "start_time": "2021-07-06T19:23:18.512Z"
   },
   {
    "duration": 11,
    "start_time": "2021-07-06T19:23:48.646Z"
   },
   {
    "duration": 11,
    "start_time": "2021-07-06T19:27:14.807Z"
   },
   {
    "duration": 13,
    "start_time": "2021-07-06T19:28:07.431Z"
   },
   {
    "duration": 14,
    "start_time": "2021-07-06T19:29:04.226Z"
   },
   {
    "duration": 14,
    "start_time": "2021-07-06T19:30:40.038Z"
   },
   {
    "duration": 15,
    "start_time": "2021-07-06T19:32:31.073Z"
   },
   {
    "duration": 25,
    "start_time": "2021-07-06T19:33:53.263Z"
   },
   {
    "duration": 23,
    "start_time": "2021-07-06T19:34:05.341Z"
   },
   {
    "duration": 15,
    "start_time": "2021-07-06T19:35:36.813Z"
   },
   {
    "duration": 9,
    "start_time": "2021-07-06T19:39:01.045Z"
   },
   {
    "duration": 34,
    "start_time": "2021-07-06T19:40:11.996Z"
   },
   {
    "duration": 203,
    "start_time": "2021-07-06T19:40:35.227Z"
   },
   {
    "duration": 7,
    "start_time": "2021-07-06T19:41:27.092Z"
   },
   {
    "duration": 7,
    "start_time": "2021-07-06T19:44:24.181Z"
   },
   {
    "duration": 401,
    "start_time": "2021-07-07T05:27:49.186Z"
   },
   {
    "duration": 295,
    "start_time": "2021-07-07T05:27:54.796Z"
   },
   {
    "duration": 300,
    "start_time": "2021-07-07T05:27:57.513Z"
   },
   {
    "duration": 745,
    "start_time": "2021-07-07T05:28:09.614Z"
   },
   {
    "duration": 165,
    "start_time": "2021-07-07T05:28:10.362Z"
   },
   {
    "duration": 21,
    "start_time": "2021-07-07T05:28:10.530Z"
   },
   {
    "duration": 153,
    "start_time": "2021-07-07T05:28:10.553Z"
   },
   {
    "duration": 10,
    "start_time": "2021-07-07T05:28:10.709Z"
   },
   {
    "duration": 99,
    "start_time": "2021-07-07T05:28:10.721Z"
   },
   {
    "duration": 23,
    "start_time": "2021-07-07T05:28:10.823Z"
   },
   {
    "duration": 22,
    "start_time": "2021-07-07T05:28:10.850Z"
   },
   {
    "duration": 13,
    "start_time": "2021-07-07T05:28:10.875Z"
   },
   {
    "duration": 35,
    "start_time": "2021-07-07T05:28:10.891Z"
   },
   {
    "duration": 15,
    "start_time": "2021-07-07T05:28:10.929Z"
   },
   {
    "duration": 50,
    "start_time": "2021-07-07T05:28:10.946Z"
   },
   {
    "duration": 21,
    "start_time": "2021-07-07T05:28:10.998Z"
   },
   {
    "duration": 17,
    "start_time": "2021-07-07T05:28:11.022Z"
   },
   {
    "duration": 29,
    "start_time": "2021-07-07T05:28:11.041Z"
   },
   {
    "duration": 9,
    "start_time": "2021-07-07T05:28:11.072Z"
   },
   {
    "duration": 18,
    "start_time": "2021-07-07T05:28:11.083Z"
   },
   {
    "duration": 14,
    "start_time": "2021-07-07T05:28:11.103Z"
   },
   {
    "duration": 48,
    "start_time": "2021-07-07T05:28:11.120Z"
   },
   {
    "duration": 9,
    "start_time": "2021-07-07T05:28:11.171Z"
   },
   {
    "duration": 17,
    "start_time": "2021-07-07T05:28:11.182Z"
   },
   {
    "duration": 24,
    "start_time": "2021-07-07T05:28:11.201Z"
   },
   {
    "duration": 128,
    "start_time": "2021-07-07T05:28:11.229Z"
   },
   {
    "duration": 25,
    "start_time": "2021-07-07T05:28:11.360Z"
   },
   {
    "duration": 15,
    "start_time": "2021-07-07T05:28:11.388Z"
   },
   {
    "duration": 18,
    "start_time": "2021-07-07T05:28:11.406Z"
   },
   {
    "duration": 129,
    "start_time": "2021-07-07T05:28:11.427Z"
   },
   {
    "duration": 27,
    "start_time": "2021-07-07T05:28:11.558Z"
   },
   {
    "duration": 43,
    "start_time": "2021-07-07T05:28:11.587Z"
   },
   {
    "duration": 2,
    "start_time": "2021-07-07T05:28:11.632Z"
   },
   {
    "duration": 54,
    "start_time": "2021-07-07T05:28:11.636Z"
   },
   {
    "duration": 33,
    "start_time": "2021-07-07T05:28:11.692Z"
   },
   {
    "duration": 2,
    "start_time": "2021-07-07T05:28:11.728Z"
   },
   {
    "duration": 55,
    "start_time": "2021-07-07T05:28:11.732Z"
   },
   {
    "duration": 10,
    "start_time": "2021-07-07T05:28:11.789Z"
   },
   {
    "duration": 7,
    "start_time": "2021-07-07T05:28:11.801Z"
   },
   {
    "duration": 19,
    "start_time": "2021-07-07T05:28:11.810Z"
   },
   {
    "duration": 163,
    "start_time": "2021-07-07T05:28:11.831Z"
   },
   {
    "duration": 24,
    "start_time": "2021-07-07T05:28:11.997Z"
   },
   {
    "duration": 64,
    "start_time": "2021-07-07T05:28:15.318Z"
   },
   {
    "duration": 10,
    "start_time": "2021-07-07T05:28:18.260Z"
   },
   {
    "duration": 12,
    "start_time": "2021-07-07T05:36:43.455Z"
   },
   {
    "duration": 8253,
    "start_time": "2021-07-07T05:38:30.606Z"
   },
   {
    "duration": 8021,
    "start_time": "2021-07-07T05:38:48.413Z"
   },
   {
    "duration": 382,
    "start_time": "2021-07-07T05:39:32.519Z"
   },
   {
    "duration": 13,
    "start_time": "2021-07-07T05:39:55.898Z"
   },
   {
    "duration": 338,
    "start_time": "2021-07-07T05:40:03.131Z"
   },
   {
    "duration": 15,
    "start_time": "2021-07-07T05:40:27.550Z"
   },
   {
    "duration": 9,
    "start_time": "2021-07-07T05:40:48.258Z"
   },
   {
    "duration": 23,
    "start_time": "2021-07-07T07:31:56.400Z"
   },
   {
    "duration": 11,
    "start_time": "2021-07-07T07:32:40.962Z"
   },
   {
    "duration": 9,
    "start_time": "2021-07-07T07:34:17.921Z"
   },
   {
    "duration": 10,
    "start_time": "2021-07-07T07:47:04.318Z"
   },
   {
    "duration": 361,
    "start_time": "2021-07-07T07:47:05.625Z"
   },
   {
    "duration": 472,
    "start_time": "2021-07-07T07:47:21.310Z"
   },
   {
    "duration": 7,
    "start_time": "2021-07-07T07:47:27.176Z"
   },
   {
    "duration": 7,
    "start_time": "2021-07-07T07:47:52.455Z"
   },
   {
    "duration": 7,
    "start_time": "2021-07-07T07:48:59.280Z"
   },
   {
    "duration": 7,
    "start_time": "2021-07-07T07:49:21.888Z"
   },
   {
    "duration": 22,
    "start_time": "2021-07-07T08:27:52.796Z"
   },
   {
    "duration": 27,
    "start_time": "2021-07-07T08:36:26.223Z"
   },
   {
    "duration": 6,
    "start_time": "2021-07-07T08:37:50.591Z"
   },
   {
    "duration": 30,
    "start_time": "2021-07-07T08:37:56.270Z"
   },
   {
    "duration": 8,
    "start_time": "2021-07-07T08:38:29.002Z"
   },
   {
    "duration": 538,
    "start_time": "2021-07-07T08:40:53.233Z"
   },
   {
    "duration": 9,
    "start_time": "2021-07-07T08:41:13.166Z"
   },
   {
    "duration": 12,
    "start_time": "2021-07-07T08:41:33.108Z"
   },
   {
    "duration": 27,
    "start_time": "2021-07-07T08:41:36.611Z"
   },
   {
    "duration": 13,
    "start_time": "2021-07-07T08:41:53.017Z"
   },
   {
    "duration": 7,
    "start_time": "2021-07-07T08:41:54.818Z"
   },
   {
    "duration": 9,
    "start_time": "2021-07-07T08:43:52.933Z"
   },
   {
    "duration": 23,
    "start_time": "2021-07-07T08:44:18.611Z"
   },
   {
    "duration": 11,
    "start_time": "2021-07-07T09:05:46.199Z"
   },
   {
    "duration": 7,
    "start_time": "2021-07-07T09:05:47.940Z"
   },
   {
    "duration": 8,
    "start_time": "2021-07-07T09:05:58.964Z"
   },
   {
    "duration": 7,
    "start_time": "2021-07-07T09:08:28.800Z"
   },
   {
    "duration": 4,
    "start_time": "2021-07-07T09:11:17.640Z"
   },
   {
    "duration": 203,
    "start_time": "2021-07-07T09:11:17.647Z"
   },
   {
    "duration": 24,
    "start_time": "2021-07-07T09:11:17.852Z"
   },
   {
    "duration": 141,
    "start_time": "2021-07-07T09:11:17.879Z"
   },
   {
    "duration": 10,
    "start_time": "2021-07-07T09:11:18.023Z"
   },
   {
    "duration": 109,
    "start_time": "2021-07-07T09:11:18.036Z"
   },
   {
    "duration": 20,
    "start_time": "2021-07-07T09:11:18.147Z"
   },
   {
    "duration": 21,
    "start_time": "2021-07-07T09:11:18.171Z"
   },
   {
    "duration": 14,
    "start_time": "2021-07-07T09:11:18.195Z"
   },
   {
    "duration": 51,
    "start_time": "2021-07-07T09:11:18.211Z"
   },
   {
    "duration": 14,
    "start_time": "2021-07-07T09:11:18.264Z"
   },
   {
    "duration": 28,
    "start_time": "2021-07-07T09:11:18.280Z"
   },
   {
    "duration": 22,
    "start_time": "2021-07-07T09:11:18.311Z"
   },
   {
    "duration": 42,
    "start_time": "2021-07-07T09:11:18.335Z"
   },
   {
    "duration": 5,
    "start_time": "2021-07-07T09:11:18.380Z"
   },
   {
    "duration": 8,
    "start_time": "2021-07-07T09:11:18.388Z"
   },
   {
    "duration": 19,
    "start_time": "2021-07-07T09:11:18.398Z"
   },
   {
    "duration": 14,
    "start_time": "2021-07-07T09:11:18.420Z"
   },
   {
    "duration": 40,
    "start_time": "2021-07-07T09:11:18.436Z"
   },
   {
    "duration": 8,
    "start_time": "2021-07-07T09:11:18.479Z"
   },
   {
    "duration": 14,
    "start_time": "2021-07-07T09:11:18.489Z"
   },
   {
    "duration": 64,
    "start_time": "2021-07-07T09:11:18.505Z"
   },
   {
    "duration": 109,
    "start_time": "2021-07-07T09:11:18.575Z"
   },
   {
    "duration": 21,
    "start_time": "2021-07-07T09:11:18.687Z"
   },
   {
    "duration": 19,
    "start_time": "2021-07-07T09:11:18.710Z"
   },
   {
    "duration": 42,
    "start_time": "2021-07-07T09:11:18.731Z"
   },
   {
    "duration": 98,
    "start_time": "2021-07-07T09:11:18.776Z"
   },
   {
    "duration": 23,
    "start_time": "2021-07-07T09:11:18.877Z"
   },
   {
    "duration": 35,
    "start_time": "2021-07-07T09:11:18.902Z"
   },
   {
    "duration": 28,
    "start_time": "2021-07-07T09:11:18.939Z"
   },
   {
    "duration": 28,
    "start_time": "2021-07-07T09:11:18.971Z"
   },
   {
    "duration": 65,
    "start_time": "2021-07-07T09:11:19.002Z"
   },
   {
    "duration": 4,
    "start_time": "2021-07-07T09:11:19.069Z"
   },
   {
    "duration": 26,
    "start_time": "2021-07-07T09:11:19.075Z"
   },
   {
    "duration": 10,
    "start_time": "2021-07-07T09:11:19.103Z"
   },
   {
    "duration": 18,
    "start_time": "2021-07-07T09:11:19.115Z"
   },
   {
    "duration": 46,
    "start_time": "2021-07-07T09:11:19.136Z"
   },
   {
    "duration": 11,
    "start_time": "2021-07-07T09:11:19.184Z"
   },
   {
    "duration": 17,
    "start_time": "2021-07-07T09:11:19.198Z"
   },
   {
    "duration": 10004,
    "start_time": "2021-07-07T09:11:19.218Z"
   },
   {
    "duration": -1139,
    "start_time": "2021-07-07T09:11:30.363Z"
   },
   {
    "duration": -1140,
    "start_time": "2021-07-07T09:11:30.366Z"
   },
   {
    "duration": -1150,
    "start_time": "2021-07-07T09:11:30.378Z"
   },
   {
    "duration": -1151,
    "start_time": "2021-07-07T09:11:30.380Z"
   },
   {
    "duration": -1241,
    "start_time": "2021-07-07T09:11:30.471Z"
   },
   {
    "duration": -1267,
    "start_time": "2021-07-07T09:11:30.498Z"
   },
   {
    "duration": -1270,
    "start_time": "2021-07-07T09:11:30.502Z"
   },
   {
    "duration": -1278,
    "start_time": "2021-07-07T09:11:30.512Z"
   },
   {
    "duration": -1280,
    "start_time": "2021-07-07T09:11:30.515Z"
   },
   {
    "duration": -1283,
    "start_time": "2021-07-07T09:11:30.519Z"
   },
   {
    "duration": -1291,
    "start_time": "2021-07-07T09:11:30.529Z"
   },
   {
    "duration": -1293,
    "start_time": "2021-07-07T09:11:30.532Z"
   },
   {
    "duration": -1298,
    "start_time": "2021-07-07T09:11:30.538Z"
   },
   {
    "duration": -1306,
    "start_time": "2021-07-07T09:11:30.547Z"
   },
   {
    "duration": -1306,
    "start_time": "2021-07-07T09:11:30.549Z"
   },
   {
    "duration": -1316,
    "start_time": "2021-07-07T09:11:30.560Z"
   },
   {
    "duration": -1318,
    "start_time": "2021-07-07T09:11:30.563Z"
   },
   {
    "duration": -1320,
    "start_time": "2021-07-07T09:11:30.566Z"
   },
   {
    "duration": -1330,
    "start_time": "2021-07-07T09:11:30.577Z"
   },
   {
    "duration": -1331,
    "start_time": "2021-07-07T09:11:30.580Z"
   },
   {
    "duration": -1332,
    "start_time": "2021-07-07T09:11:30.582Z"
   },
   {
    "duration": 5,
    "start_time": "2021-07-07T09:34:13.430Z"
   },
   {
    "duration": 190,
    "start_time": "2021-07-07T09:34:13.438Z"
   },
   {
    "duration": 11,
    "start_time": "2021-07-07T09:34:13.631Z"
   },
   {
    "duration": 153,
    "start_time": "2021-07-07T09:34:13.645Z"
   },
   {
    "duration": 11,
    "start_time": "2021-07-07T09:34:13.800Z"
   },
   {
    "duration": 98,
    "start_time": "2021-07-07T09:34:13.813Z"
   },
   {
    "duration": 10,
    "start_time": "2021-07-07T09:34:13.913Z"
   },
   {
    "duration": 22,
    "start_time": "2021-07-07T09:34:13.927Z"
   },
   {
    "duration": 12,
    "start_time": "2021-07-07T09:34:13.968Z"
   },
   {
    "duration": 43,
    "start_time": "2021-07-07T09:34:13.983Z"
   },
   {
    "duration": 14,
    "start_time": "2021-07-07T09:34:14.028Z"
   },
   {
    "duration": 35,
    "start_time": "2021-07-07T09:34:14.044Z"
   },
   {
    "duration": 22,
    "start_time": "2021-07-07T09:34:14.081Z"
   },
   {
    "duration": 17,
    "start_time": "2021-07-07T09:34:14.105Z"
   },
   {
    "duration": 5,
    "start_time": "2021-07-07T09:34:14.125Z"
   },
   {
    "duration": 37,
    "start_time": "2021-07-07T09:34:14.132Z"
   },
   {
    "duration": 20,
    "start_time": "2021-07-07T09:34:14.171Z"
   },
   {
    "duration": 14,
    "start_time": "2021-07-07T09:34:14.194Z"
   },
   {
    "duration": 15,
    "start_time": "2021-07-07T09:34:14.210Z"
   },
   {
    "duration": 42,
    "start_time": "2021-07-07T09:34:14.228Z"
   },
   {
    "duration": 15,
    "start_time": "2021-07-07T09:34:14.273Z"
   },
   {
    "duration": 23,
    "start_time": "2021-07-07T09:34:14.291Z"
   },
   {
    "duration": 121,
    "start_time": "2021-07-07T09:34:14.320Z"
   },
   {
    "duration": 32,
    "start_time": "2021-07-07T09:34:14.445Z"
   },
   {
    "duration": 21,
    "start_time": "2021-07-07T09:34:14.479Z"
   },
   {
    "duration": 19,
    "start_time": "2021-07-07T09:34:14.502Z"
   },
   {
    "duration": 117,
    "start_time": "2021-07-07T09:34:14.523Z"
   },
   {
    "duration": 33,
    "start_time": "2021-07-07T09:34:14.642Z"
   },
   {
    "duration": 37,
    "start_time": "2021-07-07T09:34:14.677Z"
   },
   {
    "duration": 3,
    "start_time": "2021-07-07T09:34:14.716Z"
   },
   {
    "duration": 55,
    "start_time": "2021-07-07T09:34:14.722Z"
   },
   {
    "duration": 32,
    "start_time": "2021-07-07T09:34:14.780Z"
   },
   {
    "duration": 2,
    "start_time": "2021-07-07T09:34:14.815Z"
   },
   {
    "duration": 47,
    "start_time": "2021-07-07T09:34:14.820Z"
   },
   {
    "duration": 9,
    "start_time": "2021-07-07T09:34:14.870Z"
   },
   {
    "duration": 14,
    "start_time": "2021-07-07T09:34:14.882Z"
   },
   {
    "duration": 19,
    "start_time": "2021-07-07T09:34:14.899Z"
   },
   {
    "duration": 20,
    "start_time": "2021-07-07T09:34:14.921Z"
   },
   {
    "duration": 10,
    "start_time": "2021-07-07T09:34:14.968Z"
   },
   {
    "duration": 924,
    "start_time": "2021-07-07T09:34:14.981Z"
   },
   {
    "duration": -1067,
    "start_time": "2021-07-07T09:34:16.974Z"
   },
   {
    "duration": -1076,
    "start_time": "2021-07-07T09:34:16.985Z"
   },
   {
    "duration": -1082,
    "start_time": "2021-07-07T09:34:16.992Z"
   },
   {
    "duration": -1084,
    "start_time": "2021-07-07T09:34:16.995Z"
   },
   {
    "duration": -1086,
    "start_time": "2021-07-07T09:34:16.999Z"
   },
   {
    "duration": -1087,
    "start_time": "2021-07-07T09:34:17.002Z"
   },
   {
    "duration": -1089,
    "start_time": "2021-07-07T09:34:17.005Z"
   },
   {
    "duration": -1090,
    "start_time": "2021-07-07T09:34:17.008Z"
   },
   {
    "duration": -1092,
    "start_time": "2021-07-07T09:34:17.011Z"
   },
   {
    "duration": -1092,
    "start_time": "2021-07-07T09:34:17.013Z"
   },
   {
    "duration": -1094,
    "start_time": "2021-07-07T09:34:17.016Z"
   },
   {
    "duration": -1094,
    "start_time": "2021-07-07T09:34:17.018Z"
   },
   {
    "duration": -1095,
    "start_time": "2021-07-07T09:34:17.020Z"
   },
   {
    "duration": -1095,
    "start_time": "2021-07-07T09:34:17.022Z"
   },
   {
    "duration": -1096,
    "start_time": "2021-07-07T09:34:17.024Z"
   },
   {
    "duration": -1096,
    "start_time": "2021-07-07T09:34:17.026Z"
   },
   {
    "duration": -1097,
    "start_time": "2021-07-07T09:34:17.028Z"
   },
   {
    "duration": -1097,
    "start_time": "2021-07-07T09:34:17.030Z"
   },
   {
    "duration": -1097,
    "start_time": "2021-07-07T09:34:17.032Z"
   },
   {
    "duration": -1096,
    "start_time": "2021-07-07T09:34:17.034Z"
   },
   {
    "duration": -1096,
    "start_time": "2021-07-07T09:34:17.036Z"
   },
   {
    "duration": 20,
    "start_time": "2021-07-07T09:35:22.171Z"
   },
   {
    "duration": 1027,
    "start_time": "2021-07-07T09:39:43.443Z"
   },
   {
    "duration": 1044,
    "start_time": "2021-07-07T09:40:25.409Z"
   },
   {
    "duration": 144,
    "start_time": "2021-07-07T09:41:44.211Z"
   },
   {
    "duration": 7,
    "start_time": "2021-07-07T09:41:53.772Z"
   },
   {
    "duration": 7,
    "start_time": "2021-07-07T09:42:01.761Z"
   },
   {
    "duration": 5,
    "start_time": "2021-07-07T09:42:06.331Z"
   },
   {
    "duration": 8,
    "start_time": "2021-07-07T09:42:10.963Z"
   },
   {
    "duration": 5,
    "start_time": "2021-07-07T09:42:20.917Z"
   },
   {
    "duration": 5,
    "start_time": "2021-07-07T09:42:25.346Z"
   },
   {
    "duration": 7,
    "start_time": "2021-07-07T09:42:39.804Z"
   },
   {
    "duration": 873,
    "start_time": "2021-07-07T09:45:23.713Z"
   },
   {
    "duration": 827,
    "start_time": "2021-07-07T09:46:18.493Z"
   },
   {
    "duration": 765,
    "start_time": "2021-07-07T09:48:49.375Z"
   },
   {
    "duration": 801,
    "start_time": "2021-07-07T09:49:17.408Z"
   },
   {
    "duration": 805,
    "start_time": "2021-07-07T09:49:37.272Z"
   },
   {
    "duration": 870,
    "start_time": "2021-07-07T09:50:23.271Z"
   },
   {
    "duration": 867,
    "start_time": "2021-07-07T09:50:30.330Z"
   },
   {
    "duration": 31,
    "start_time": "2021-07-07T09:51:00.568Z"
   },
   {
    "duration": 889,
    "start_time": "2021-07-07T09:51:25.999Z"
   },
   {
    "duration": 946,
    "start_time": "2021-07-07T09:51:51.399Z"
   },
   {
    "duration": 797,
    "start_time": "2021-07-07T09:52:20.131Z"
   },
   {
    "duration": 27,
    "start_time": "2021-07-07T09:52:43.307Z"
   },
   {
    "duration": 26,
    "start_time": "2021-07-07T09:55:38.947Z"
   },
   {
    "duration": 22,
    "start_time": "2021-07-07T09:55:50.540Z"
   },
   {
    "duration": 896,
    "start_time": "2021-07-07T09:56:38.947Z"
   },
   {
    "duration": 960,
    "start_time": "2021-07-07T09:57:19.788Z"
   },
   {
    "duration": 860,
    "start_time": "2021-07-07T09:57:55.944Z"
   },
   {
    "duration": 22,
    "start_time": "2021-07-07T09:59:47.048Z"
   },
   {
    "duration": 951,
    "start_time": "2021-07-07T10:00:43.280Z"
   },
   {
    "duration": 835,
    "start_time": "2021-07-07T10:01:51.695Z"
   },
   {
    "duration": 6232,
    "start_time": "2021-07-07T10:02:33.546Z"
   },
   {
    "duration": 979,
    "start_time": "2021-07-07T10:03:50.225Z"
   },
   {
    "duration": 1272,
    "start_time": "2021-07-07T10:07:20.999Z"
   },
   {
    "duration": 872,
    "start_time": "2021-07-07T10:16:16.634Z"
   },
   {
    "duration": 20,
    "start_time": "2021-07-07T10:33:49.842Z"
   },
   {
    "duration": 21,
    "start_time": "2021-07-07T10:40:29.142Z"
   },
   {
    "duration": 20,
    "start_time": "2021-07-07T10:56:37.256Z"
   },
   {
    "duration": 32,
    "start_time": "2021-07-07T10:56:43.842Z"
   },
   {
    "duration": 6326,
    "start_time": "2021-07-07T10:57:24.405Z"
   },
   {
    "duration": 35,
    "start_time": "2021-07-07T10:57:30.734Z"
   },
   {
    "duration": 3,
    "start_time": "2021-07-07T10:59:21.737Z"
   },
   {
    "duration": 173,
    "start_time": "2021-07-07T10:59:21.743Z"
   },
   {
    "duration": 12,
    "start_time": "2021-07-07T10:59:21.918Z"
   },
   {
    "duration": 141,
    "start_time": "2021-07-07T10:59:21.932Z"
   },
   {
    "duration": 11,
    "start_time": "2021-07-07T10:59:22.075Z"
   },
   {
    "duration": 108,
    "start_time": "2021-07-07T10:59:22.089Z"
   },
   {
    "duration": 9,
    "start_time": "2021-07-07T10:59:22.202Z"
   },
   {
    "duration": 32,
    "start_time": "2021-07-07T10:59:22.214Z"
   },
   {
    "duration": 31,
    "start_time": "2021-07-07T10:59:22.249Z"
   },
   {
    "duration": 82,
    "start_time": "2021-07-07T10:59:22.282Z"
   },
   {
    "duration": 15,
    "start_time": "2021-07-07T10:59:22.366Z"
   },
   {
    "duration": 34,
    "start_time": "2021-07-07T10:59:22.383Z"
   },
   {
    "duration": 20,
    "start_time": "2021-07-07T10:59:22.419Z"
   },
   {
    "duration": 22,
    "start_time": "2021-07-07T10:59:22.442Z"
   },
   {
    "duration": 5,
    "start_time": "2021-07-07T10:59:22.467Z"
   },
   {
    "duration": 16,
    "start_time": "2021-07-07T10:59:22.475Z"
   },
   {
    "duration": 27,
    "start_time": "2021-07-07T10:59:22.494Z"
   },
   {
    "duration": 15,
    "start_time": "2021-07-07T10:59:22.524Z"
   },
   {
    "duration": 18,
    "start_time": "2021-07-07T10:59:22.541Z"
   },
   {
    "duration": 9,
    "start_time": "2021-07-07T10:59:22.562Z"
   },
   {
    "duration": 13,
    "start_time": "2021-07-07T10:59:22.574Z"
   },
   {
    "duration": 23,
    "start_time": "2021-07-07T10:59:22.593Z"
   },
   {
    "duration": 93,
    "start_time": "2021-07-07T10:59:22.620Z"
   },
   {
    "duration": 23,
    "start_time": "2021-07-07T10:59:22.715Z"
   },
   {
    "duration": 17,
    "start_time": "2021-07-07T10:59:22.740Z"
   },
   {
    "duration": 22,
    "start_time": "2021-07-07T10:59:22.760Z"
   },
   {
    "duration": 98,
    "start_time": "2021-07-07T10:59:22.784Z"
   },
   {
    "duration": 22,
    "start_time": "2021-07-07T10:59:22.884Z"
   },
   {
    "duration": 40,
    "start_time": "2021-07-07T10:59:22.909Z"
   },
   {
    "duration": 3,
    "start_time": "2021-07-07T10:59:22.952Z"
   },
   {
    "duration": 32,
    "start_time": "2021-07-07T10:59:22.958Z"
   },
   {
    "duration": 31,
    "start_time": "2021-07-07T10:59:22.992Z"
   },
   {
    "duration": 2,
    "start_time": "2021-07-07T10:59:23.026Z"
   },
   {
    "duration": 25,
    "start_time": "2021-07-07T10:59:23.031Z"
   },
   {
    "duration": 17,
    "start_time": "2021-07-07T10:59:23.059Z"
   },
   {
    "duration": 7,
    "start_time": "2021-07-07T10:59:23.078Z"
   },
   {
    "duration": 19,
    "start_time": "2021-07-07T10:59:23.087Z"
   },
   {
    "duration": 13,
    "start_time": "2021-07-07T10:59:23.109Z"
   },
   {
    "duration": 6222,
    "start_time": "2021-07-07T10:59:23.125Z"
   },
   {
    "duration": 36,
    "start_time": "2021-07-07T10:59:29.349Z"
   },
   {
    "duration": 60,
    "start_time": "2021-07-07T10:59:29.388Z"
   },
   {
    "duration": 24,
    "start_time": "2021-07-07T10:59:29.450Z"
   },
   {
    "duration": 7,
    "start_time": "2021-07-07T10:59:29.476Z"
   },
   {
    "duration": 9,
    "start_time": "2021-07-07T10:59:29.485Z"
   },
   {
    "duration": 6,
    "start_time": "2021-07-07T10:59:29.497Z"
   },
   {
    "duration": 9,
    "start_time": "2021-07-07T10:59:29.505Z"
   },
   {
    "duration": 12,
    "start_time": "2021-07-07T10:59:29.516Z"
   },
   {
    "duration": 6,
    "start_time": "2021-07-07T10:59:29.566Z"
   },
   {
    "duration": 28,
    "start_time": "2021-07-07T10:59:29.574Z"
   },
   {
    "duration": 15,
    "start_time": "2021-07-07T10:59:29.604Z"
   },
   {
    "duration": 636,
    "start_time": "2021-07-07T10:59:29.622Z"
   },
   {
    "duration": 449,
    "start_time": "2021-07-07T10:59:30.260Z"
   },
   {
    "duration": 394,
    "start_time": "2021-07-07T10:59:30.711Z"
   },
   {
    "duration": 375,
    "start_time": "2021-07-07T10:59:31.107Z"
   },
   {
    "duration": 25,
    "start_time": "2021-07-07T10:59:31.485Z"
   },
   {
    "duration": 14,
    "start_time": "2021-07-07T10:59:31.513Z"
   },
   {
    "duration": 41,
    "start_time": "2021-07-07T10:59:31.530Z"
   },
   {
    "duration": 17,
    "start_time": "2021-07-07T10:59:31.574Z"
   },
   {
    "duration": 15,
    "start_time": "2021-07-07T10:59:31.594Z"
   },
   {
    "duration": 11,
    "start_time": "2021-07-07T10:59:31.612Z"
   },
   {
    "duration": 25,
    "start_time": "2021-07-07T11:24:16.615Z"
   },
   {
    "duration": 5,
    "start_time": "2021-07-07T11:25:01.688Z"
   },
   {
    "duration": 207,
    "start_time": "2021-07-07T11:25:01.696Z"
   },
   {
    "duration": 11,
    "start_time": "2021-07-07T11:25:01.907Z"
   },
   {
    "duration": 164,
    "start_time": "2021-07-07T11:25:01.921Z"
   },
   {
    "duration": 12,
    "start_time": "2021-07-07T11:25:02.088Z"
   },
   {
    "duration": 110,
    "start_time": "2021-07-07T11:25:02.104Z"
   },
   {
    "duration": 11,
    "start_time": "2021-07-07T11:25:02.217Z"
   },
   {
    "duration": 24,
    "start_time": "2021-07-07T11:25:02.231Z"
   },
   {
    "duration": 12,
    "start_time": "2021-07-07T11:25:02.268Z"
   },
   {
    "duration": 79,
    "start_time": "2021-07-07T11:25:02.283Z"
   },
   {
    "duration": 16,
    "start_time": "2021-07-07T11:25:02.365Z"
   },
   {
    "duration": 35,
    "start_time": "2021-07-07T11:25:02.383Z"
   },
   {
    "duration": 23,
    "start_time": "2021-07-07T11:25:02.420Z"
   },
   {
    "duration": 35,
    "start_time": "2021-07-07T11:25:02.445Z"
   },
   {
    "duration": 6,
    "start_time": "2021-07-07T11:25:02.483Z"
   },
   {
    "duration": 21,
    "start_time": "2021-07-07T11:25:02.491Z"
   },
   {
    "duration": 31,
    "start_time": "2021-07-07T11:25:02.514Z"
   },
   {
    "duration": 23,
    "start_time": "2021-07-07T11:25:02.547Z"
   },
   {
    "duration": 13,
    "start_time": "2021-07-07T11:25:02.572Z"
   },
   {
    "duration": 10,
    "start_time": "2021-07-07T11:25:02.588Z"
   },
   {
    "duration": 13,
    "start_time": "2021-07-07T11:25:02.600Z"
   },
   {
    "duration": 70,
    "start_time": "2021-07-07T11:25:02.615Z"
   },
   {
    "duration": 104,
    "start_time": "2021-07-07T11:25:02.687Z"
   },
   {
    "duration": 21,
    "start_time": "2021-07-07T11:25:02.794Z"
   },
   {
    "duration": 18,
    "start_time": "2021-07-07T11:25:02.817Z"
   },
   {
    "duration": 38,
    "start_time": "2021-07-07T11:25:02.838Z"
   },
   {
    "duration": 105,
    "start_time": "2021-07-07T11:25:02.882Z"
   },
   {
    "duration": 22,
    "start_time": "2021-07-07T11:25:02.990Z"
   },
   {
    "duration": 57,
    "start_time": "2021-07-07T11:25:03.014Z"
   },
   {
    "duration": 3,
    "start_time": "2021-07-07T11:25:03.073Z"
   },
   {
    "duration": 25,
    "start_time": "2021-07-07T11:25:03.079Z"
   },
   {
    "duration": 32,
    "start_time": "2021-07-07T11:25:03.106Z"
   },
   {
    "duration": 3,
    "start_time": "2021-07-07T11:25:03.168Z"
   },
   {
    "duration": 42,
    "start_time": "2021-07-07T11:25:03.173Z"
   },
   {
    "duration": 9,
    "start_time": "2021-07-07T11:25:03.217Z"
   },
   {
    "duration": 7,
    "start_time": "2021-07-07T11:25:03.229Z"
   },
   {
    "duration": 37,
    "start_time": "2021-07-07T11:25:03.238Z"
   },
   {
    "duration": 12,
    "start_time": "2021-07-07T11:25:03.277Z"
   },
   {
    "duration": 6126,
    "start_time": "2021-07-07T11:25:03.292Z"
   },
   {
    "duration": 25,
    "start_time": "2021-07-07T11:25:09.421Z"
   },
   {
    "duration": 63,
    "start_time": "2021-07-07T11:25:09.468Z"
   },
   {
    "duration": 10,
    "start_time": "2021-07-07T11:25:09.534Z"
   },
   {
    "duration": 22,
    "start_time": "2021-07-07T11:25:09.546Z"
   },
   {
    "duration": 8,
    "start_time": "2021-07-07T11:25:09.571Z"
   },
   {
    "duration": 17,
    "start_time": "2021-07-07T11:25:09.582Z"
   },
   {
    "duration": 18,
    "start_time": "2021-07-07T11:25:09.601Z"
   },
   {
    "duration": 14,
    "start_time": "2021-07-07T11:25:09.622Z"
   },
   {
    "duration": 22,
    "start_time": "2021-07-07T11:25:09.639Z"
   },
   {
    "duration": 28,
    "start_time": "2021-07-07T11:25:09.663Z"
   },
   {
    "duration": 26,
    "start_time": "2021-07-07T11:25:09.694Z"
   },
   {
    "duration": 381,
    "start_time": "2021-07-07T11:25:09.722Z"
   },
   {
    "duration": 376,
    "start_time": "2021-07-07T11:25:10.105Z"
   },
   {
    "duration": 401,
    "start_time": "2021-07-07T11:25:10.483Z"
   },
   {
    "duration": 375,
    "start_time": "2021-07-07T11:25:10.887Z"
   },
   {
    "duration": 25,
    "start_time": "2021-07-07T11:25:11.265Z"
   },
   {
    "duration": 13,
    "start_time": "2021-07-07T11:25:11.292Z"
   },
   {
    "duration": 7,
    "start_time": "2021-07-07T11:25:11.308Z"
   },
   {
    "duration": 13,
    "start_time": "2021-07-07T11:25:11.318Z"
   },
   {
    "duration": 11,
    "start_time": "2021-07-07T11:25:11.367Z"
   },
   {
    "duration": 14,
    "start_time": "2021-07-07T11:25:11.380Z"
   },
   {
    "duration": 21,
    "start_time": "2021-07-07T11:26:38.007Z"
   },
   {
    "duration": 114,
    "start_time": "2021-07-07T11:27:07.930Z"
   },
   {
    "duration": 21,
    "start_time": "2021-07-07T11:27:28.553Z"
   },
   {
    "duration": 12,
    "start_time": "2021-07-07T11:29:36.767Z"
   },
   {
    "duration": 10714,
    "start_time": "2021-07-07T11:32:20.976Z"
   },
   {
    "duration": -1008,
    "start_time": "2021-07-07T11:32:32.702Z"
   },
   {
    "duration": 18,
    "start_time": "2021-07-07T11:34:36.559Z"
   },
   {
    "duration": 9,
    "start_time": "2021-07-07T11:35:22.699Z"
   },
   {
    "duration": 13,
    "start_time": "2021-07-07T11:35:38.166Z"
   },
   {
    "duration": 10639,
    "start_time": "2021-07-07T11:36:20.830Z"
   },
   {
    "duration": 5,
    "start_time": "2021-07-07T11:37:32.185Z"
   },
   {
    "duration": 166,
    "start_time": "2021-07-07T11:37:32.192Z"
   },
   {
    "duration": 11,
    "start_time": "2021-07-07T11:37:32.366Z"
   },
   {
    "duration": 137,
    "start_time": "2021-07-07T11:37:32.380Z"
   },
   {
    "duration": 11,
    "start_time": "2021-07-07T11:37:32.520Z"
   },
   {
    "duration": 102,
    "start_time": "2021-07-07T11:37:32.534Z"
   },
   {
    "duration": 9,
    "start_time": "2021-07-07T11:37:32.639Z"
   },
   {
    "duration": 23,
    "start_time": "2021-07-07T11:37:32.667Z"
   },
   {
    "duration": 13,
    "start_time": "2021-07-07T11:37:32.693Z"
   },
   {
    "duration": 48,
    "start_time": "2021-07-07T11:37:32.709Z"
   },
   {
    "duration": 15,
    "start_time": "2021-07-07T11:37:32.760Z"
   },
   {
    "duration": 28,
    "start_time": "2021-07-07T11:37:32.777Z"
   },
   {
    "duration": 21,
    "start_time": "2021-07-07T11:37:32.807Z"
   },
   {
    "duration": 45,
    "start_time": "2021-07-07T11:37:32.831Z"
   },
   {
    "duration": 5,
    "start_time": "2021-07-07T11:37:32.878Z"
   },
   {
    "duration": 9,
    "start_time": "2021-07-07T11:37:32.886Z"
   },
   {
    "duration": 19,
    "start_time": "2021-07-07T11:37:32.897Z"
   },
   {
    "duration": 15,
    "start_time": "2021-07-07T11:37:32.918Z"
   },
   {
    "duration": 12,
    "start_time": "2021-07-07T11:37:32.968Z"
   },
   {
    "duration": 10,
    "start_time": "2021-07-07T11:37:32.983Z"
   },
   {
    "duration": 14,
    "start_time": "2021-07-07T11:37:32.996Z"
   },
   {
    "duration": 64,
    "start_time": "2021-07-07T11:37:33.012Z"
   },
   {
    "duration": 101,
    "start_time": "2021-07-07T11:37:33.078Z"
   },
   {
    "duration": 22,
    "start_time": "2021-07-07T11:37:33.181Z"
   },
   {
    "duration": 17,
    "start_time": "2021-07-07T11:37:33.206Z"
   },
   {
    "duration": 48,
    "start_time": "2021-07-07T11:37:33.225Z"
   },
   {
    "duration": 95,
    "start_time": "2021-07-07T11:37:33.278Z"
   },
   {
    "duration": 23,
    "start_time": "2021-07-07T11:37:33.376Z"
   },
   {
    "duration": 35,
    "start_time": "2021-07-07T11:37:33.401Z"
   },
   {
    "duration": 3,
    "start_time": "2021-07-07T11:37:33.439Z"
   },
   {
    "duration": 30,
    "start_time": "2021-07-07T11:37:33.468Z"
   },
   {
    "duration": 31,
    "start_time": "2021-07-07T11:37:33.500Z"
   },
   {
    "duration": 3,
    "start_time": "2021-07-07T11:37:33.534Z"
   },
   {
    "duration": 21,
    "start_time": "2021-07-07T11:37:33.568Z"
   },
   {
    "duration": 10,
    "start_time": "2021-07-07T11:37:33.591Z"
   },
   {
    "duration": 8,
    "start_time": "2021-07-07T11:37:33.604Z"
   },
   {
    "duration": 54,
    "start_time": "2021-07-07T11:37:33.615Z"
   },
   {
    "duration": 15,
    "start_time": "2021-07-07T11:37:33.671Z"
   },
   {
    "duration": 6133,
    "start_time": "2021-07-07T11:37:36.307Z"
   },
   {
    "duration": 26,
    "start_time": "2021-07-07T11:37:47.578Z"
   },
   {
    "duration": 6255,
    "start_time": "2021-07-07T11:37:59.013Z"
   },
   {
    "duration": 23,
    "start_time": "2021-07-07T11:38:09.099Z"
   },
   {
    "duration": 1300,
    "start_time": "2021-07-07T15:58:49.903Z"
   },
   {
    "duration": 195,
    "start_time": "2021-07-07T15:58:51.206Z"
   },
   {
    "duration": 22,
    "start_time": "2021-07-07T15:58:51.405Z"
   },
   {
    "duration": 164,
    "start_time": "2021-07-07T15:58:51.430Z"
   },
   {
    "duration": 11,
    "start_time": "2021-07-07T15:58:51.597Z"
   },
   {
    "duration": 110,
    "start_time": "2021-07-07T15:58:51.611Z"
   },
   {
    "duration": 10,
    "start_time": "2021-07-07T15:58:51.723Z"
   },
   {
    "duration": 34,
    "start_time": "2021-07-07T15:58:51.737Z"
   },
   {
    "duration": 14,
    "start_time": "2021-07-07T15:58:51.780Z"
   },
   {
    "duration": 47,
    "start_time": "2021-07-07T15:58:51.796Z"
   },
   {
    "duration": 15,
    "start_time": "2021-07-07T15:58:51.845Z"
   },
   {
    "duration": 34,
    "start_time": "2021-07-07T15:58:51.862Z"
   },
   {
    "duration": 35,
    "start_time": "2021-07-07T15:58:51.899Z"
   },
   {
    "duration": 37,
    "start_time": "2021-07-07T15:58:51.936Z"
   },
   {
    "duration": 9,
    "start_time": "2021-07-07T15:58:51.976Z"
   },
   {
    "duration": 7,
    "start_time": "2021-07-07T15:58:51.988Z"
   },
   {
    "duration": 19,
    "start_time": "2021-07-07T15:58:51.997Z"
   },
   {
    "duration": 50,
    "start_time": "2021-07-07T15:58:52.019Z"
   },
   {
    "duration": 13,
    "start_time": "2021-07-07T15:58:52.072Z"
   },
   {
    "duration": 11,
    "start_time": "2021-07-07T15:58:52.087Z"
   },
   {
    "duration": 24,
    "start_time": "2021-07-07T15:58:52.100Z"
   },
   {
    "duration": 55,
    "start_time": "2021-07-07T15:58:52.126Z"
   },
   {
    "duration": 121,
    "start_time": "2021-07-07T15:58:52.188Z"
   },
   {
    "duration": 22,
    "start_time": "2021-07-07T15:58:52.313Z"
   },
   {
    "duration": 37,
    "start_time": "2021-07-07T15:58:52.337Z"
   },
   {
    "duration": 21,
    "start_time": "2021-07-07T15:58:52.378Z"
   },
   {
    "duration": 127,
    "start_time": "2021-07-07T15:58:52.402Z"
   },
   {
    "duration": 22,
    "start_time": "2021-07-07T15:58:52.531Z"
   },
   {
    "duration": 56,
    "start_time": "2021-07-07T15:58:52.555Z"
   },
   {
    "duration": 3,
    "start_time": "2021-07-07T15:58:52.614Z"
   },
   {
    "duration": 60,
    "start_time": "2021-07-07T15:58:52.619Z"
   },
   {
    "duration": 34,
    "start_time": "2021-07-07T15:58:52.682Z"
   },
   {
    "duration": 2,
    "start_time": "2021-07-07T15:58:52.718Z"
   },
   {
    "duration": 57,
    "start_time": "2021-07-07T15:58:52.723Z"
   },
   {
    "duration": 13,
    "start_time": "2021-07-07T15:58:52.783Z"
   },
   {
    "duration": 8,
    "start_time": "2021-07-07T15:58:52.798Z"
   },
   {
    "duration": 22,
    "start_time": "2021-07-07T15:58:52.808Z"
   },
   {
    "duration": 49,
    "start_time": "2021-07-07T15:58:52.832Z"
   },
   {
    "duration": 6428,
    "start_time": "2021-07-07T15:58:52.884Z"
   },
   {
    "duration": 29,
    "start_time": "2021-07-07T15:58:59.314Z"
   },
   {
    "duration": 72,
    "start_time": "2021-07-07T15:58:59.366Z"
   },
   {
    "duration": 26,
    "start_time": "2021-07-07T15:58:59.440Z"
   },
   {
    "duration": 7,
    "start_time": "2021-07-07T15:58:59.469Z"
   },
   {
    "duration": 24,
    "start_time": "2021-07-07T15:58:59.478Z"
   },
   {
    "duration": 19,
    "start_time": "2021-07-07T15:58:59.505Z"
   },
   {
    "duration": 25,
    "start_time": "2021-07-07T15:58:59.526Z"
   },
   {
    "duration": 15,
    "start_time": "2021-07-07T15:58:59.554Z"
   },
   {
    "duration": 29,
    "start_time": "2021-07-07T15:58:59.572Z"
   },
   {
    "duration": 84,
    "start_time": "2021-07-07T15:58:59.604Z"
   },
   {
    "duration": 12,
    "start_time": "2021-07-07T15:58:59.691Z"
   },
   {
    "duration": 543,
    "start_time": "2021-07-07T15:58:59.706Z"
   },
   {
    "duration": 409,
    "start_time": "2021-07-07T15:59:00.252Z"
   },
   {
    "duration": 412,
    "start_time": "2021-07-07T15:59:00.667Z"
   },
   {
    "duration": 403,
    "start_time": "2021-07-07T15:59:01.083Z"
   },
   {
    "duration": 23,
    "start_time": "2021-07-07T15:59:01.489Z"
   },
   {
    "duration": 26,
    "start_time": "2021-07-07T15:59:01.514Z"
   },
   {
    "duration": 27,
    "start_time": "2021-07-07T15:59:01.543Z"
   },
   {
    "duration": 11,
    "start_time": "2021-07-07T15:59:01.573Z"
   },
   {
    "duration": 36,
    "start_time": "2021-07-07T15:59:01.586Z"
   },
   {
    "duration": 42,
    "start_time": "2021-07-07T15:59:01.625Z"
   },
   {
    "duration": 1580,
    "start_time": "2021-07-08T10:42:08.911Z"
   },
   {
    "duration": 1220,
    "start_time": "2021-07-08T10:42:10.493Z"
   },
   {
    "duration": 21,
    "start_time": "2021-07-08T10:42:11.716Z"
   },
   {
    "duration": 1155,
    "start_time": "2021-07-08T10:42:11.740Z"
   },
   {
    "duration": 11,
    "start_time": "2021-07-08T10:42:12.898Z"
   },
   {
    "duration": 3485,
    "start_time": "2021-07-08T10:42:12.912Z"
   },
   {
    "duration": 9,
    "start_time": "2021-07-08T10:42:16.400Z"
   },
   {
    "duration": 45,
    "start_time": "2021-07-08T10:42:16.413Z"
   },
   {
    "duration": 13,
    "start_time": "2021-07-08T10:42:16.461Z"
   },
   {
    "duration": 72,
    "start_time": "2021-07-08T10:42:16.476Z"
   },
   {
    "duration": 15,
    "start_time": "2021-07-08T10:42:16.550Z"
   },
   {
    "duration": 33,
    "start_time": "2021-07-08T10:42:16.568Z"
   },
   {
    "duration": 22,
    "start_time": "2021-07-08T10:42:16.603Z"
   },
   {
    "duration": 18,
    "start_time": "2021-07-08T10:42:16.627Z"
   },
   {
    "duration": 6,
    "start_time": "2021-07-08T10:42:16.647Z"
   },
   {
    "duration": 36,
    "start_time": "2021-07-08T10:42:16.656Z"
   },
   {
    "duration": 19,
    "start_time": "2021-07-08T10:42:16.694Z"
   },
   {
    "duration": 15,
    "start_time": "2021-07-08T10:42:16.716Z"
   },
   {
    "duration": 12,
    "start_time": "2021-07-08T10:42:16.734Z"
   },
   {
    "duration": 10,
    "start_time": "2021-07-08T10:42:16.786Z"
   },
   {
    "duration": 15,
    "start_time": "2021-07-08T10:42:16.798Z"
   },
   {
    "duration": 23,
    "start_time": "2021-07-08T10:42:16.815Z"
   },
   {
    "duration": 124,
    "start_time": "2021-07-08T10:42:16.844Z"
   },
   {
    "duration": 35,
    "start_time": "2021-07-08T10:42:16.971Z"
   },
   {
    "duration": 15,
    "start_time": "2021-07-08T10:42:17.009Z"
   },
   {
    "duration": 19,
    "start_time": "2021-07-08T10:42:17.026Z"
   },
   {
    "duration": 126,
    "start_time": "2021-07-08T10:42:17.047Z"
   },
   {
    "duration": 28,
    "start_time": "2021-07-08T10:42:17.175Z"
   },
   {
    "duration": 40,
    "start_time": "2021-07-08T10:42:17.205Z"
   },
   {
    "duration": 2,
    "start_time": "2021-07-08T10:42:17.248Z"
   },
   {
    "duration": 25,
    "start_time": "2021-07-08T10:42:17.285Z"
   },
   {
    "duration": 32,
    "start_time": "2021-07-08T10:42:17.312Z"
   },
   {
    "duration": 2,
    "start_time": "2021-07-08T10:42:17.347Z"
   },
   {
    "duration": 49,
    "start_time": "2021-07-08T10:42:17.352Z"
   },
   {
    "duration": 11,
    "start_time": "2021-07-08T10:42:17.403Z"
   },
   {
    "duration": 9,
    "start_time": "2021-07-08T10:42:17.416Z"
   },
   {
    "duration": 19,
    "start_time": "2021-07-08T10:42:17.428Z"
   },
   {
    "duration": 13,
    "start_time": "2021-07-08T10:42:17.485Z"
   },
   {
    "duration": 6018,
    "start_time": "2021-07-08T10:42:17.501Z"
   },
   {
    "duration": 23,
    "start_time": "2021-07-08T10:42:23.522Z"
   },
   {
    "duration": 66,
    "start_time": "2021-07-08T10:42:23.548Z"
   },
   {
    "duration": 10,
    "start_time": "2021-07-08T10:42:23.616Z"
   },
   {
    "duration": 5,
    "start_time": "2021-07-08T10:42:23.629Z"
   },
   {
    "duration": 10,
    "start_time": "2021-07-08T10:42:23.637Z"
   },
   {
    "duration": 8,
    "start_time": "2021-07-08T10:42:23.650Z"
   },
   {
    "duration": 8,
    "start_time": "2021-07-08T10:42:23.660Z"
   },
   {
    "duration": 6,
    "start_time": "2021-07-08T10:42:23.671Z"
   },
   {
    "duration": 12,
    "start_time": "2021-07-08T10:42:23.679Z"
   },
   {
    "duration": 79,
    "start_time": "2021-07-08T10:42:23.693Z"
   },
   {
    "duration": 14,
    "start_time": "2021-07-08T10:42:23.775Z"
   },
   {
    "duration": 559,
    "start_time": "2021-07-08T10:42:23.791Z"
   },
   {
    "duration": 375,
    "start_time": "2021-07-08T10:42:24.352Z"
   },
   {
    "duration": 403,
    "start_time": "2021-07-08T10:42:24.730Z"
   },
   {
    "duration": 484,
    "start_time": "2021-07-08T10:42:25.136Z"
   },
   {
    "duration": 23,
    "start_time": "2021-07-08T10:42:25.622Z"
   },
   {
    "duration": 12,
    "start_time": "2021-07-08T10:42:25.647Z"
   },
   {
    "duration": 8,
    "start_time": "2021-07-08T10:42:25.661Z"
   },
   {
    "duration": 18,
    "start_time": "2021-07-08T10:42:25.671Z"
   },
   {
    "duration": 11,
    "start_time": "2021-07-08T10:42:25.692Z"
   },
   {
    "duration": 8,
    "start_time": "2021-07-08T10:42:25.706Z"
   },
   {
    "duration": 1562,
    "start_time": "2021-07-09T06:27:45.509Z"
   },
   {
    "duration": 4,
    "start_time": "2021-07-09T06:28:27.374Z"
   },
   {
    "duration": 204,
    "start_time": "2021-07-09T06:28:27.381Z"
   },
   {
    "duration": 14,
    "start_time": "2021-07-09T06:28:27.588Z"
   },
   {
    "duration": 158,
    "start_time": "2021-07-09T06:28:27.606Z"
   },
   {
    "duration": 11,
    "start_time": "2021-07-09T06:28:27.768Z"
   },
   {
    "duration": 98,
    "start_time": "2021-07-09T06:28:27.781Z"
   },
   {
    "duration": 9,
    "start_time": "2021-07-09T06:28:27.882Z"
   },
   {
    "duration": 23,
    "start_time": "2021-07-09T06:28:27.894Z"
   },
   {
    "duration": 12,
    "start_time": "2021-07-09T06:28:27.919Z"
   },
   {
    "duration": 59,
    "start_time": "2021-07-09T06:28:27.933Z"
   },
   {
    "duration": 15,
    "start_time": "2021-07-09T06:28:27.994Z"
   },
   {
    "duration": 30,
    "start_time": "2021-07-09T06:28:28.011Z"
   },
   {
    "duration": 31,
    "start_time": "2021-07-09T06:28:28.043Z"
   },
   {
    "duration": 19,
    "start_time": "2021-07-09T06:28:28.076Z"
   },
   {
    "duration": 5,
    "start_time": "2021-07-09T06:28:28.097Z"
   },
   {
    "duration": 12,
    "start_time": "2021-07-09T06:28:28.105Z"
   },
   {
    "duration": 20,
    "start_time": "2021-07-09T06:28:28.119Z"
   },
   {
    "duration": 40,
    "start_time": "2021-07-09T06:28:28.141Z"
   },
   {
    "duration": 12,
    "start_time": "2021-07-09T06:28:28.187Z"
   },
   {
    "duration": 9,
    "start_time": "2021-07-09T06:28:28.202Z"
   },
   {
    "duration": 55,
    "start_time": "2021-07-09T06:28:28.214Z"
   },
   {
    "duration": 24,
    "start_time": "2021-07-09T06:28:28.272Z"
   },
   {
    "duration": 133,
    "start_time": "2021-07-09T06:28:28.298Z"
   },
   {
    "duration": 39,
    "start_time": "2021-07-09T06:28:28.434Z"
   },
   {
    "duration": 17,
    "start_time": "2021-07-09T06:28:28.475Z"
   },
   {
    "duration": 19,
    "start_time": "2021-07-09T06:28:28.495Z"
   },
   {
    "duration": 120,
    "start_time": "2021-07-09T06:28:28.516Z"
   },
   {
    "duration": 32,
    "start_time": "2021-07-09T06:28:28.638Z"
   },
   {
    "duration": 42,
    "start_time": "2021-07-09T06:28:28.674Z"
   },
   {
    "duration": 3,
    "start_time": "2021-07-09T06:28:28.718Z"
   },
   {
    "duration": 56,
    "start_time": "2021-07-09T06:28:28.723Z"
   },
   {
    "duration": 32,
    "start_time": "2021-07-09T06:28:28.782Z"
   },
   {
    "duration": 3,
    "start_time": "2021-07-09T06:28:28.816Z"
   },
   {
    "duration": 52,
    "start_time": "2021-07-09T06:28:28.821Z"
   },
   {
    "duration": 9,
    "start_time": "2021-07-09T06:28:28.875Z"
   },
   {
    "duration": 8,
    "start_time": "2021-07-09T06:28:28.887Z"
   },
   {
    "duration": 22,
    "start_time": "2021-07-09T06:28:28.897Z"
   },
   {
    "duration": 53,
    "start_time": "2021-07-09T06:28:28.922Z"
   },
   {
    "duration": 6120,
    "start_time": "2021-07-09T06:28:28.978Z"
   },
   {
    "duration": 25,
    "start_time": "2021-07-09T06:28:35.101Z"
   },
   {
    "duration": 81,
    "start_time": "2021-07-09T06:28:35.129Z"
   },
   {
    "duration": 10,
    "start_time": "2021-07-09T06:28:35.213Z"
   },
   {
    "duration": 399,
    "start_time": "2021-07-09T06:28:35.226Z"
   },
   {
    "duration": 390,
    "start_time": "2021-07-09T06:28:35.628Z"
   },
   {
    "duration": 395,
    "start_time": "2021-07-09T06:28:36.020Z"
   },
   {
    "duration": 403,
    "start_time": "2021-07-09T06:28:36.418Z"
   },
   {
    "duration": 255,
    "start_time": "2021-07-09T06:28:59.795Z"
   },
   {
    "duration": 251,
    "start_time": "2021-07-09T06:29:55.932Z"
   },
   {
    "duration": 252,
    "start_time": "2021-07-09T06:29:59.365Z"
   },
   {
    "duration": 359,
    "start_time": "2021-07-09T06:30:01.492Z"
   },
   {
    "duration": 237,
    "start_time": "2021-07-09T07:00:48.301Z"
   },
   {
    "duration": 10,
    "start_time": "2021-07-09T07:23:37.821Z"
   },
   {
    "duration": 515,
    "start_time": "2021-07-09T07:24:56.236Z"
   },
   {
    "duration": 255,
    "start_time": "2021-07-09T07:25:12.942Z"
   },
   {
    "duration": 349,
    "start_time": "2021-07-09T07:27:24.472Z"
   },
   {
    "duration": 271,
    "start_time": "2021-07-09T07:28:35.947Z"
   },
   {
    "duration": 13,
    "start_time": "2021-07-09T07:32:10.479Z"
   },
   {
    "duration": 10,
    "start_time": "2021-07-09T07:32:26.374Z"
   },
   {
    "duration": 11,
    "start_time": "2021-07-09T07:32:40.779Z"
   },
   {
    "duration": 10,
    "start_time": "2021-07-09T07:33:23.398Z"
   },
   {
    "duration": 8,
    "start_time": "2021-07-09T07:33:32.563Z"
   },
   {
    "duration": 7,
    "start_time": "2021-07-09T07:33:38.312Z"
   },
   {
    "duration": 67,
    "start_time": "2021-07-09T07:33:47.599Z"
   },
   {
    "duration": 10,
    "start_time": "2021-07-09T07:33:56.543Z"
   },
   {
    "duration": 10,
    "start_time": "2021-07-09T07:34:03.631Z"
   },
   {
    "duration": 13,
    "start_time": "2021-07-09T07:34:16.512Z"
   },
   {
    "duration": 351,
    "start_time": "2021-07-09T08:29:01.266Z"
   },
   {
    "duration": 5,
    "start_time": "2021-07-09T08:29:22.905Z"
   },
   {
    "duration": 191,
    "start_time": "2021-07-09T08:29:22.913Z"
   },
   {
    "duration": 12,
    "start_time": "2021-07-09T08:29:23.107Z"
   },
   {
    "duration": 152,
    "start_time": "2021-07-09T08:29:23.122Z"
   },
   {
    "duration": 12,
    "start_time": "2021-07-09T08:29:23.276Z"
   },
   {
    "duration": 109,
    "start_time": "2021-07-09T08:29:23.291Z"
   },
   {
    "duration": 10,
    "start_time": "2021-07-09T08:29:23.403Z"
   },
   {
    "duration": 29,
    "start_time": "2021-07-09T08:29:23.417Z"
   },
   {
    "duration": 29,
    "start_time": "2021-07-09T08:29:23.449Z"
   },
   {
    "duration": 51,
    "start_time": "2021-07-09T08:29:23.481Z"
   },
   {
    "duration": 14,
    "start_time": "2021-07-09T08:29:23.535Z"
   },
   {
    "duration": 31,
    "start_time": "2021-07-09T08:29:23.551Z"
   },
   {
    "duration": 21,
    "start_time": "2021-07-09T08:29:23.584Z"
   },
   {
    "duration": 17,
    "start_time": "2021-07-09T08:29:23.608Z"
   },
   {
    "duration": 6,
    "start_time": "2021-07-09T08:29:23.627Z"
   },
   {
    "duration": 7,
    "start_time": "2021-07-09T08:29:23.668Z"
   },
   {
    "duration": 23,
    "start_time": "2021-07-09T08:29:23.677Z"
   },
   {
    "duration": 16,
    "start_time": "2021-07-09T08:29:23.703Z"
   },
   {
    "duration": 12,
    "start_time": "2021-07-09T08:29:23.722Z"
   },
   {
    "duration": 40,
    "start_time": "2021-07-09T08:29:23.737Z"
   },
   {
    "duration": 17,
    "start_time": "2021-07-09T08:29:23.780Z"
   },
   {
    "duration": 24,
    "start_time": "2021-07-09T08:29:23.800Z"
   },
   {
    "duration": 113,
    "start_time": "2021-07-09T08:29:23.867Z"
   },
   {
    "duration": 22,
    "start_time": "2021-07-09T08:29:23.983Z"
   },
   {
    "duration": 19,
    "start_time": "2021-07-09T08:29:24.007Z"
   },
   {
    "duration": 46,
    "start_time": "2021-07-09T08:29:24.029Z"
   },
   {
    "duration": 108,
    "start_time": "2021-07-09T08:29:24.077Z"
   },
   {
    "duration": 24,
    "start_time": "2021-07-09T08:29:24.187Z"
   },
   {
    "duration": 62,
    "start_time": "2021-07-09T08:29:24.214Z"
   },
   {
    "duration": 3,
    "start_time": "2021-07-09T08:29:24.279Z"
   },
   {
    "duration": 30,
    "start_time": "2021-07-09T08:29:24.285Z"
   },
   {
    "duration": 62,
    "start_time": "2021-07-09T08:29:24.318Z"
   },
   {
    "duration": 3,
    "start_time": "2021-07-09T08:29:24.383Z"
   },
   {
    "duration": 24,
    "start_time": "2021-07-09T08:29:24.389Z"
   },
   {
    "duration": 11,
    "start_time": "2021-07-09T08:29:24.415Z"
   },
   {
    "duration": 44,
    "start_time": "2021-07-09T08:29:24.428Z"
   },
   {
    "duration": 20,
    "start_time": "2021-07-09T08:29:24.475Z"
   },
   {
    "duration": 13,
    "start_time": "2021-07-09T08:29:24.498Z"
   },
   {
    "duration": 6153,
    "start_time": "2021-07-09T08:29:24.514Z"
   },
   {
    "duration": 26,
    "start_time": "2021-07-09T08:29:30.669Z"
   },
   {
    "duration": 88,
    "start_time": "2021-07-09T08:29:30.698Z"
   },
   {
    "duration": 12,
    "start_time": "2021-07-09T08:29:30.789Z"
   },
   {
    "duration": 391,
    "start_time": "2021-07-09T08:29:30.804Z"
   },
   {
    "duration": 388,
    "start_time": "2021-07-09T08:29:31.200Z"
   },
   {
    "duration": 490,
    "start_time": "2021-07-09T08:29:31.591Z"
   },
   {
    "duration": 388,
    "start_time": "2021-07-09T08:29:32.083Z"
   },
   {
    "duration": 277,
    "start_time": "2021-07-09T08:29:32.473Z"
   },
   {
    "duration": 361,
    "start_time": "2021-07-09T08:29:32.752Z"
   },
   {
    "duration": 266,
    "start_time": "2021-07-09T08:29:33.115Z"
   },
   {
    "duration": 274,
    "start_time": "2021-07-09T08:29:33.383Z"
   },
   {
    "duration": 18,
    "start_time": "2021-07-09T08:29:33.659Z"
   },
   {
    "duration": 9,
    "start_time": "2021-07-09T08:29:33.679Z"
   },
   {
    "duration": 8,
    "start_time": "2021-07-09T08:29:33.690Z"
   },
   {
    "duration": 6,
    "start_time": "2021-07-09T08:29:33.700Z"
   },
   {
    "duration": 10,
    "start_time": "2021-07-09T08:29:33.708Z"
   },
   {
    "duration": 12,
    "start_time": "2021-07-09T08:29:33.720Z"
   },
   {
    "duration": 11,
    "start_time": "2021-07-09T08:29:33.734Z"
   },
   {
    "duration": 26,
    "start_time": "2021-07-09T08:29:33.768Z"
   },
   {
    "duration": 13,
    "start_time": "2021-07-09T08:29:38.049Z"
   },
   {
    "duration": 667,
    "start_time": "2021-07-09T08:31:48.445Z"
   },
   {
    "duration": 413,
    "start_time": "2021-07-09T08:32:29.506Z"
   },
   {
    "duration": 277,
    "start_time": "2021-07-09T08:32:54.348Z"
   },
   {
    "duration": 13,
    "start_time": "2021-07-09T09:15:06.374Z"
   },
   {
    "duration": 12,
    "start_time": "2021-07-09T09:25:06.661Z"
   },
   {
    "duration": 103,
    "start_time": "2021-07-09T09:25:22.499Z"
   },
   {
    "duration": 113,
    "start_time": "2021-07-09T09:26:01.376Z"
   },
   {
    "duration": 177,
    "start_time": "2021-07-09T09:26:14.993Z"
   },
   {
    "duration": 19,
    "start_time": "2021-07-09T09:26:30.444Z"
   },
   {
    "duration": 12,
    "start_time": "2021-07-09T09:27:25.619Z"
   },
   {
    "duration": 12,
    "start_time": "2021-07-09T09:27:53.044Z"
   },
   {
    "duration": 13,
    "start_time": "2021-07-09T09:31:34.097Z"
   },
   {
    "duration": 2228,
    "start_time": "2021-07-10T04:23:36.704Z"
   },
   {
    "duration": 374,
    "start_time": "2021-07-10T04:23:38.934Z"
   },
   {
    "duration": 15,
    "start_time": "2021-07-10T04:23:39.311Z"
   },
   {
    "duration": 296,
    "start_time": "2021-07-10T04:23:39.329Z"
   },
   {
    "duration": 12,
    "start_time": "2021-07-10T04:23:39.628Z"
   },
   {
    "duration": 138,
    "start_time": "2021-07-10T04:23:39.701Z"
   },
   {
    "duration": 64,
    "start_time": "2021-07-10T04:23:39.841Z"
   },
   {
    "duration": 27,
    "start_time": "2021-07-10T04:23:39.908Z"
   },
   {
    "duration": 68,
    "start_time": "2021-07-10T04:23:39.939Z"
   },
   {
    "duration": 36,
    "start_time": "2021-07-10T04:23:40.010Z"
   },
   {
    "duration": 64,
    "start_time": "2021-07-10T04:23:40.049Z"
   },
   {
    "duration": 86,
    "start_time": "2021-07-10T04:23:40.115Z"
   },
   {
    "duration": 23,
    "start_time": "2021-07-10T04:23:40.204Z"
   },
   {
    "duration": 74,
    "start_time": "2021-07-10T04:23:40.229Z"
   },
   {
    "duration": 5,
    "start_time": "2021-07-10T04:23:40.306Z"
   },
   {
    "duration": 9,
    "start_time": "2021-07-10T04:23:40.314Z"
   },
   {
    "duration": 85,
    "start_time": "2021-07-10T04:23:40.326Z"
   },
   {
    "duration": 20,
    "start_time": "2021-07-10T04:23:40.415Z"
   },
   {
    "duration": 75,
    "start_time": "2021-07-10T04:23:40.438Z"
   },
   {
    "duration": 14,
    "start_time": "2021-07-10T04:23:40.516Z"
   },
   {
    "duration": 81,
    "start_time": "2021-07-10T04:23:40.533Z"
   },
   {
    "duration": 84,
    "start_time": "2021-07-10T04:23:40.617Z"
   },
   {
    "duration": 308,
    "start_time": "2021-07-10T04:23:40.704Z"
   },
   {
    "duration": 89,
    "start_time": "2021-07-10T04:23:41.015Z"
   },
   {
    "duration": 18,
    "start_time": "2021-07-10T04:23:41.108Z"
   },
   {
    "duration": 84,
    "start_time": "2021-07-10T04:23:41.129Z"
   },
   {
    "duration": 203,
    "start_time": "2021-07-10T04:23:41.224Z"
   },
   {
    "duration": 78,
    "start_time": "2021-07-10T04:23:41.431Z"
   },
   {
    "duration": 103,
    "start_time": "2021-07-10T04:23:41.512Z"
   },
   {
    "duration": 3,
    "start_time": "2021-07-10T04:23:41.618Z"
   },
   {
    "duration": 88,
    "start_time": "2021-07-10T04:23:41.623Z"
   },
   {
    "duration": 88,
    "start_time": "2021-07-10T04:23:41.714Z"
   },
   {
    "duration": 2,
    "start_time": "2021-07-10T04:23:41.805Z"
   },
   {
    "duration": 22,
    "start_time": "2021-07-10T04:23:41.810Z"
   },
   {
    "duration": 67,
    "start_time": "2021-07-10T04:23:41.834Z"
   },
   {
    "duration": 9,
    "start_time": "2021-07-10T04:23:41.903Z"
   },
   {
    "duration": 19,
    "start_time": "2021-07-10T04:23:41.915Z"
   },
   {
    "duration": 76,
    "start_time": "2021-07-10T04:23:41.937Z"
   },
   {
    "duration": 12112,
    "start_time": "2021-07-10T04:23:42.015Z"
   },
   {
    "duration": 76,
    "start_time": "2021-07-10T04:23:54.129Z"
   },
   {
    "duration": 119,
    "start_time": "2021-07-10T04:23:54.208Z"
   },
   {
    "duration": 12,
    "start_time": "2021-07-10T04:23:54.330Z"
   },
   {
    "duration": 773,
    "start_time": "2021-07-10T04:23:54.345Z"
   },
   {
    "duration": 703,
    "start_time": "2021-07-10T04:23:55.121Z"
   },
   {
    "duration": 712,
    "start_time": "2021-07-10T04:23:55.827Z"
   },
   {
    "duration": 696,
    "start_time": "2021-07-10T04:23:56.541Z"
   },
   {
    "duration": 500,
    "start_time": "2021-07-10T04:23:57.239Z"
   },
   {
    "duration": 494,
    "start_time": "2021-07-10T04:23:57.741Z"
   },
   {
    "duration": 506,
    "start_time": "2021-07-10T04:23:58.238Z"
   },
   {
    "duration": 667,
    "start_time": "2021-07-10T04:23:58.746Z"
   },
   {
    "duration": 14,
    "start_time": "2021-07-10T04:23:59.416Z"
   },
   {
    "duration": 67,
    "start_time": "2021-07-10T04:23:59.434Z"
   },
   {
    "duration": 9,
    "start_time": "2021-07-10T04:23:59.504Z"
   },
   {
    "duration": 7,
    "start_time": "2021-07-10T04:23:59.516Z"
   },
   {
    "duration": 76,
    "start_time": "2021-07-10T04:23:59.525Z"
   },
   {
    "duration": 10,
    "start_time": "2021-07-10T04:23:59.604Z"
   },
   {
    "duration": 8,
    "start_time": "2021-07-10T04:23:59.617Z"
   },
   {
    "duration": 83,
    "start_time": "2021-07-10T04:23:59.628Z"
   },
   {
    "duration": 19,
    "start_time": "2021-07-10T04:23:59.714Z"
   },
   {
    "duration": 74,
    "start_time": "2021-07-10T04:23:59.736Z"
   },
   {
    "duration": 17,
    "start_time": "2021-07-10T04:23:59.813Z"
   },
   {
    "duration": 83,
    "start_time": "2021-07-10T04:23:59.833Z"
   },
   {
    "duration": 11,
    "start_time": "2021-07-10T04:23:59.919Z"
   },
   {
    "duration": 68,
    "start_time": "2021-07-10T04:23:59.933Z"
   },
   {
    "duration": 11,
    "start_time": "2021-07-10T04:24:00.004Z"
   },
   {
    "duration": 13,
    "start_time": "2021-07-10T04:24:00.017Z"
   },
   {
    "duration": 72,
    "start_time": "2021-07-10T04:24:00.032Z"
   },
   {
    "duration": 220,
    "start_time": "2021-07-10T05:39:16.559Z"
   },
   {
    "duration": 315,
    "start_time": "2021-07-12T06:45:22.440Z"
   },
   {
    "duration": 1358,
    "start_time": "2021-07-12T06:45:29.180Z"
   },
   {
    "duration": 174,
    "start_time": "2021-07-12T06:45:30.541Z"
   },
   {
    "duration": 16,
    "start_time": "2021-07-12T06:45:30.718Z"
   },
   {
    "duration": 156,
    "start_time": "2021-07-12T06:45:30.738Z"
   },
   {
    "duration": 11,
    "start_time": "2021-07-12T06:45:30.897Z"
   },
   {
    "duration": 104,
    "start_time": "2021-07-12T06:45:30.910Z"
   },
   {
    "duration": 11,
    "start_time": "2021-07-12T06:45:31.016Z"
   },
   {
    "duration": 54,
    "start_time": "2021-07-12T06:45:31.029Z"
   },
   {
    "duration": 35,
    "start_time": "2021-07-12T06:45:31.087Z"
   },
   {
    "duration": 71,
    "start_time": "2021-07-12T06:45:31.125Z"
   },
   {
    "duration": 16,
    "start_time": "2021-07-12T06:45:31.199Z"
   },
   {
    "duration": 39,
    "start_time": "2021-07-12T06:45:31.217Z"
   },
   {
    "duration": 22,
    "start_time": "2021-07-12T06:45:31.258Z"
   },
   {
    "duration": 17,
    "start_time": "2021-07-12T06:45:31.283Z"
   },
   {
    "duration": 8,
    "start_time": "2021-07-12T06:45:31.302Z"
   },
   {
    "duration": 17,
    "start_time": "2021-07-12T06:45:31.312Z"
   },
   {
    "duration": 35,
    "start_time": "2021-07-12T06:45:31.331Z"
   },
   {
    "duration": 21,
    "start_time": "2021-07-12T06:45:31.368Z"
   },
   {
    "duration": 26,
    "start_time": "2021-07-12T06:45:31.391Z"
   },
   {
    "duration": 20,
    "start_time": "2021-07-12T06:45:31.420Z"
   },
   {
    "duration": 21,
    "start_time": "2021-07-12T06:45:31.442Z"
   },
   {
    "duration": 24,
    "start_time": "2021-07-12T06:45:31.466Z"
   },
   {
    "duration": 106,
    "start_time": "2021-07-12T06:45:31.492Z"
   },
   {
    "duration": 21,
    "start_time": "2021-07-12T06:45:31.600Z"
   },
   {
    "duration": 37,
    "start_time": "2021-07-12T06:45:31.624Z"
   },
   {
    "duration": 19,
    "start_time": "2021-07-12T06:45:31.663Z"
   },
   {
    "duration": 107,
    "start_time": "2021-07-12T06:45:31.687Z"
   },
   {
    "duration": 21,
    "start_time": "2021-07-12T06:45:31.797Z"
   },
   {
    "duration": 60,
    "start_time": "2021-07-12T06:45:31.821Z"
   },
   {
    "duration": 3,
    "start_time": "2021-07-12T06:45:31.884Z"
   },
   {
    "duration": 44,
    "start_time": "2021-07-12T06:45:31.889Z"
   },
   {
    "duration": 41,
    "start_time": "2021-07-12T06:45:31.936Z"
   },
   {
    "duration": 4,
    "start_time": "2021-07-12T06:45:31.979Z"
   },
   {
    "duration": 27,
    "start_time": "2021-07-12T06:45:31.985Z"
   },
   {
    "duration": 32,
    "start_time": "2021-07-12T06:45:32.015Z"
   },
   {
    "duration": 17,
    "start_time": "2021-07-12T06:45:32.049Z"
   },
   {
    "duration": 37,
    "start_time": "2021-07-12T06:45:32.068Z"
   },
   {
    "duration": 25,
    "start_time": "2021-07-12T06:45:32.108Z"
   },
   {
    "duration": 5724,
    "start_time": "2021-07-12T06:45:32.135Z"
   },
   {
    "duration": 23,
    "start_time": "2021-07-12T06:45:37.861Z"
   },
   {
    "duration": 84,
    "start_time": "2021-07-12T06:45:37.886Z"
   },
   {
    "duration": 10,
    "start_time": "2021-07-12T06:45:37.972Z"
   },
   {
    "duration": 396,
    "start_time": "2021-07-12T06:45:37.985Z"
   },
   {
    "duration": 370,
    "start_time": "2021-07-12T06:45:38.384Z"
   },
   {
    "duration": 378,
    "start_time": "2021-07-12T06:45:38.757Z"
   },
   {
    "duration": 372,
    "start_time": "2021-07-12T06:45:39.138Z"
   },
   {
    "duration": 264,
    "start_time": "2021-07-12T06:45:39.514Z"
   },
   {
    "duration": 260,
    "start_time": "2021-07-12T06:45:39.781Z"
   },
   {
    "duration": 261,
    "start_time": "2021-07-12T06:45:40.043Z"
   },
   {
    "duration": 309,
    "start_time": "2021-07-12T06:45:40.306Z"
   },
   {
    "duration": 13,
    "start_time": "2021-07-12T06:45:40.618Z"
   },
   {
    "duration": 20,
    "start_time": "2021-07-12T06:45:40.634Z"
   },
   {
    "duration": 14,
    "start_time": "2021-07-12T06:45:40.657Z"
   },
   {
    "duration": 24,
    "start_time": "2021-07-12T06:45:40.674Z"
   },
   {
    "duration": 27,
    "start_time": "2021-07-12T06:45:40.701Z"
   },
   {
    "duration": 19,
    "start_time": "2021-07-12T06:45:40.731Z"
   },
   {
    "duration": 13,
    "start_time": "2021-07-12T06:45:40.752Z"
   },
   {
    "duration": 39,
    "start_time": "2021-07-12T06:45:40.767Z"
   },
   {
    "duration": 39,
    "start_time": "2021-07-12T06:45:40.808Z"
   },
   {
    "duration": 32,
    "start_time": "2021-07-12T06:45:40.850Z"
   },
   {
    "duration": 29,
    "start_time": "2021-07-12T06:45:40.885Z"
   },
   {
    "duration": 34,
    "start_time": "2021-07-12T06:45:40.917Z"
   },
   {
    "duration": 5,
    "start_time": "2021-07-12T06:45:45.827Z"
   },
   {
    "duration": 5,
    "start_time": "2021-07-12T06:45:56.621Z"
   },
   {
    "duration": 15,
    "start_time": "2021-07-12T06:46:24.500Z"
   },
   {
    "duration": 14,
    "start_time": "2021-07-12T06:46:34.331Z"
   },
   {
    "duration": 1342,
    "start_time": "2021-08-21T14:25:21.278Z"
   },
   {
    "duration": 168,
    "start_time": "2021-08-21T14:25:22.623Z"
   },
   {
    "duration": 15,
    "start_time": "2021-08-21T14:25:22.794Z"
   },
   {
    "duration": 145,
    "start_time": "2021-08-21T14:25:22.812Z"
   },
   {
    "duration": 11,
    "start_time": "2021-08-21T14:25:22.960Z"
   },
   {
    "duration": 94,
    "start_time": "2021-08-21T14:25:22.974Z"
   },
   {
    "duration": 10,
    "start_time": "2021-08-21T14:25:23.070Z"
   },
   {
    "duration": 26,
    "start_time": "2021-08-21T14:25:23.084Z"
   },
   {
    "duration": 16,
    "start_time": "2021-08-21T14:25:23.114Z"
   },
   {
    "duration": 56,
    "start_time": "2021-08-21T14:25:23.132Z"
   },
   {
    "duration": 15,
    "start_time": "2021-08-21T14:25:23.191Z"
   },
   {
    "duration": 30,
    "start_time": "2021-08-21T14:25:23.208Z"
   },
   {
    "duration": 33,
    "start_time": "2021-08-21T14:25:23.241Z"
   },
   {
    "duration": 20,
    "start_time": "2021-08-21T14:25:23.277Z"
   },
   {
    "duration": 7,
    "start_time": "2021-08-21T14:25:23.300Z"
   },
   {
    "duration": 44,
    "start_time": "2021-08-21T14:25:23.310Z"
   },
   {
    "duration": 18,
    "start_time": "2021-08-21T14:25:23.357Z"
   },
   {
    "duration": 16,
    "start_time": "2021-08-21T14:25:23.378Z"
   },
   {
    "duration": 14,
    "start_time": "2021-08-21T14:25:23.397Z"
   },
   {
    "duration": 11,
    "start_time": "2021-08-21T14:25:23.454Z"
   },
   {
    "duration": 14,
    "start_time": "2021-08-21T14:25:23.468Z"
   },
   {
    "duration": 25,
    "start_time": "2021-08-21T14:25:23.485Z"
   },
   {
    "duration": 148,
    "start_time": "2021-08-21T14:25:23.517Z"
   },
   {
    "duration": 22,
    "start_time": "2021-08-21T14:25:23.670Z"
   },
   {
    "duration": 18,
    "start_time": "2021-08-21T14:25:23.695Z"
   },
   {
    "duration": 48,
    "start_time": "2021-08-21T14:25:23.716Z"
   },
   {
    "duration": 108,
    "start_time": "2021-08-21T14:25:23.766Z"
   },
   {
    "duration": 24,
    "start_time": "2021-08-21T14:25:23.876Z"
   },
   {
    "duration": 63,
    "start_time": "2021-08-21T14:25:23.902Z"
   },
   {
    "duration": 2,
    "start_time": "2021-08-21T14:25:23.968Z"
   },
   {
    "duration": 42,
    "start_time": "2021-08-21T14:25:23.972Z"
   },
   {
    "duration": 43,
    "start_time": "2021-08-21T14:25:24.017Z"
   },
   {
    "duration": 2,
    "start_time": "2021-08-21T14:25:24.062Z"
   },
   {
    "duration": 29,
    "start_time": "2021-08-21T14:25:24.067Z"
   },
   {
    "duration": 14,
    "start_time": "2021-08-21T14:25:24.098Z"
   },
   {
    "duration": 9,
    "start_time": "2021-08-21T14:25:24.114Z"
   },
   {
    "duration": 43,
    "start_time": "2021-08-21T14:25:24.125Z"
   },
   {
    "duration": 27,
    "start_time": "2021-08-21T14:25:24.170Z"
   },
   {
    "duration": 5746,
    "start_time": "2021-08-21T14:25:24.200Z"
   },
   {
    "duration": 26,
    "start_time": "2021-08-21T14:25:29.949Z"
   },
   {
    "duration": 89,
    "start_time": "2021-08-21T14:25:29.977Z"
   },
   {
    "duration": 10,
    "start_time": "2021-08-21T14:25:30.069Z"
   },
   {
    "duration": 378,
    "start_time": "2021-08-21T14:25:30.081Z"
   },
   {
    "duration": 384,
    "start_time": "2021-08-21T14:25:30.461Z"
   },
   {
    "duration": 390,
    "start_time": "2021-08-21T14:25:30.855Z"
   },
   {
    "duration": 360,
    "start_time": "2021-08-21T14:25:31.255Z"
   },
   {
    "duration": 273,
    "start_time": "2021-08-21T14:25:31.617Z"
   },
   {
    "duration": 275,
    "start_time": "2021-08-21T14:25:31.893Z"
   },
   {
    "duration": 257,
    "start_time": "2021-08-21T14:25:32.170Z"
   },
   {
    "duration": 337,
    "start_time": "2021-08-21T14:25:32.429Z"
   },
   {
    "duration": 14,
    "start_time": "2021-08-21T14:25:32.769Z"
   },
   {
    "duration": 14,
    "start_time": "2021-08-21T14:25:32.786Z"
   },
   {
    "duration": 14,
    "start_time": "2021-08-21T14:25:32.802Z"
   },
   {
    "duration": 11,
    "start_time": "2021-08-21T14:25:32.818Z"
   },
   {
    "duration": 27,
    "start_time": "2021-08-21T14:25:32.831Z"
   },
   {
    "duration": 12,
    "start_time": "2021-08-21T14:25:32.861Z"
   },
   {
    "duration": 22,
    "start_time": "2021-08-21T14:25:32.875Z"
   },
   {
    "duration": 27,
    "start_time": "2021-08-21T14:25:32.899Z"
   },
   {
    "duration": 20,
    "start_time": "2021-08-21T14:25:32.929Z"
   },
   {
    "duration": 14,
    "start_time": "2021-08-21T14:25:32.955Z"
   },
   {
    "duration": 28,
    "start_time": "2021-08-21T14:25:32.971Z"
   },
   {
    "duration": 29,
    "start_time": "2021-08-21T14:25:33.001Z"
   },
   {
    "duration": 26,
    "start_time": "2021-08-21T14:25:33.033Z"
   },
   {
    "duration": 12,
    "start_time": "2021-08-21T14:25:33.061Z"
   },
   {
    "duration": 17,
    "start_time": "2021-08-21T14:25:33.075Z"
   },
   {
    "duration": 23,
    "start_time": "2021-08-21T14:25:33.095Z"
   },
   {
    "duration": 13,
    "start_time": "2021-08-21T14:25:33.121Z"
   }
  ],
  "kernelspec": {
   "display_name": "Python 3",
   "language": "python",
   "name": "python3"
  },
  "language_info": {
   "codemirror_mode": {
    "name": "ipython",
    "version": 3
   },
   "file_extension": ".py",
   "mimetype": "text/x-python",
   "name": "python",
   "nbconvert_exporter": "python",
   "pygments_lexer": "ipython3",
   "version": "3.8.3"
  },
  "toc": {
   "base_numbering": 1,
   "nav_menu": {},
   "number_sections": true,
   "sideBar": true,
   "skip_h1_title": true,
   "title_cell": "Table of Contents",
   "title_sidebar": "Contents",
   "toc_cell": false,
   "toc_position": {},
   "toc_section_display": true,
   "toc_window_display": false
  }
 },
 "nbformat": 4,
 "nbformat_minor": 2
}
